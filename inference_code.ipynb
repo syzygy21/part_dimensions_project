{
 "cells": [
  {
   "cell_type": "code",
   "execution_count": 1,
   "id": "2adcdda9-61fe-4baf-b288-bc133013f8ff",
   "metadata": {},
   "outputs": [],
   "source": [
    "#Loading the dataset\n",
    "\n",
    "from datasets import load_dataset\n",
    "\n",
    "dataset = load_dataset(r\"C:\\Users\\Navdeep\\Downloads\\my_custom_dataset.py\", name='my_custom_dataset')"
   ]
  },
  {
   "cell_type": "code",
   "execution_count": 2,
   "id": "41e794b0-5722-4811-8416-c83e9d57edf4",
   "metadata": {},
   "outputs": [
    {
     "name": "stderr",
     "output_type": "stream",
     "text": [
      "C:\\Users\\Navdeep\\anaconda3\\envs\\part_dim\\Lib\\site-packages\\torchvision\\io\\image.py:13: UserWarning: Failed to load image Python extension: '[WinError 127] The specified procedure could not be found'If you don't plan on using image functionality from `torchvision.io`, you can ignore this warning. Otherwise, there might be something wrong with your environment. Did you have `libjpeg` or `libpng` installed before building `torchvision` from source?\n",
      "  warn(\n"
     ]
    },
    {
     "data": {
      "text/plain": [
       "SegformerForSemanticSegmentation(\n",
       "  (segformer): SegformerModel(\n",
       "    (encoder): SegformerEncoder(\n",
       "      (patch_embeddings): ModuleList(\n",
       "        (0): SegformerOverlapPatchEmbeddings(\n",
       "          (proj): Conv2d(3, 32, kernel_size=(7, 7), stride=(4, 4), padding=(3, 3))\n",
       "          (layer_norm): LayerNorm((32,), eps=1e-05, elementwise_affine=True)\n",
       "        )\n",
       "        (1): SegformerOverlapPatchEmbeddings(\n",
       "          (proj): Conv2d(32, 64, kernel_size=(3, 3), stride=(2, 2), padding=(1, 1))\n",
       "          (layer_norm): LayerNorm((64,), eps=1e-05, elementwise_affine=True)\n",
       "        )\n",
       "        (2): SegformerOverlapPatchEmbeddings(\n",
       "          (proj): Conv2d(64, 160, kernel_size=(3, 3), stride=(2, 2), padding=(1, 1))\n",
       "          (layer_norm): LayerNorm((160,), eps=1e-05, elementwise_affine=True)\n",
       "        )\n",
       "        (3): SegformerOverlapPatchEmbeddings(\n",
       "          (proj): Conv2d(160, 256, kernel_size=(3, 3), stride=(2, 2), padding=(1, 1))\n",
       "          (layer_norm): LayerNorm((256,), eps=1e-05, elementwise_affine=True)\n",
       "        )\n",
       "      )\n",
       "      (block): ModuleList(\n",
       "        (0): ModuleList(\n",
       "          (0): SegformerLayer(\n",
       "            (layer_norm_1): LayerNorm((32,), eps=1e-05, elementwise_affine=True)\n",
       "            (attention): SegformerAttention(\n",
       "              (self): SegformerEfficientSelfAttention(\n",
       "                (query): Linear(in_features=32, out_features=32, bias=True)\n",
       "                (key): Linear(in_features=32, out_features=32, bias=True)\n",
       "                (value): Linear(in_features=32, out_features=32, bias=True)\n",
       "                (dropout): Dropout(p=0.0, inplace=False)\n",
       "                (sr): Conv2d(32, 32, kernel_size=(8, 8), stride=(8, 8))\n",
       "                (layer_norm): LayerNorm((32,), eps=1e-05, elementwise_affine=True)\n",
       "              )\n",
       "              (output): SegformerSelfOutput(\n",
       "                (dense): Linear(in_features=32, out_features=32, bias=True)\n",
       "                (dropout): Dropout(p=0.0, inplace=False)\n",
       "              )\n",
       "            )\n",
       "            (drop_path): Identity()\n",
       "            (layer_norm_2): LayerNorm((32,), eps=1e-05, elementwise_affine=True)\n",
       "            (mlp): SegformerMixFFN(\n",
       "              (dense1): Linear(in_features=32, out_features=128, bias=True)\n",
       "              (dwconv): SegformerDWConv(\n",
       "                (dwconv): Conv2d(128, 128, kernel_size=(3, 3), stride=(1, 1), padding=(1, 1), groups=128)\n",
       "              )\n",
       "              (intermediate_act_fn): GELUActivation()\n",
       "              (dense2): Linear(in_features=128, out_features=32, bias=True)\n",
       "              (dropout): Dropout(p=0.0, inplace=False)\n",
       "            )\n",
       "          )\n",
       "          (1): SegformerLayer(\n",
       "            (layer_norm_1): LayerNorm((32,), eps=1e-05, elementwise_affine=True)\n",
       "            (attention): SegformerAttention(\n",
       "              (self): SegformerEfficientSelfAttention(\n",
       "                (query): Linear(in_features=32, out_features=32, bias=True)\n",
       "                (key): Linear(in_features=32, out_features=32, bias=True)\n",
       "                (value): Linear(in_features=32, out_features=32, bias=True)\n",
       "                (dropout): Dropout(p=0.0, inplace=False)\n",
       "                (sr): Conv2d(32, 32, kernel_size=(8, 8), stride=(8, 8))\n",
       "                (layer_norm): LayerNorm((32,), eps=1e-05, elementwise_affine=True)\n",
       "              )\n",
       "              (output): SegformerSelfOutput(\n",
       "                (dense): Linear(in_features=32, out_features=32, bias=True)\n",
       "                (dropout): Dropout(p=0.0, inplace=False)\n",
       "              )\n",
       "            )\n",
       "            (drop_path): SegformerDropPath(p=0.014285714365541935)\n",
       "            (layer_norm_2): LayerNorm((32,), eps=1e-05, elementwise_affine=True)\n",
       "            (mlp): SegformerMixFFN(\n",
       "              (dense1): Linear(in_features=32, out_features=128, bias=True)\n",
       "              (dwconv): SegformerDWConv(\n",
       "                (dwconv): Conv2d(128, 128, kernel_size=(3, 3), stride=(1, 1), padding=(1, 1), groups=128)\n",
       "              )\n",
       "              (intermediate_act_fn): GELUActivation()\n",
       "              (dense2): Linear(in_features=128, out_features=32, bias=True)\n",
       "              (dropout): Dropout(p=0.0, inplace=False)\n",
       "            )\n",
       "          )\n",
       "        )\n",
       "        (1): ModuleList(\n",
       "          (0): SegformerLayer(\n",
       "            (layer_norm_1): LayerNorm((64,), eps=1e-05, elementwise_affine=True)\n",
       "            (attention): SegformerAttention(\n",
       "              (self): SegformerEfficientSelfAttention(\n",
       "                (query): Linear(in_features=64, out_features=64, bias=True)\n",
       "                (key): Linear(in_features=64, out_features=64, bias=True)\n",
       "                (value): Linear(in_features=64, out_features=64, bias=True)\n",
       "                (dropout): Dropout(p=0.0, inplace=False)\n",
       "                (sr): Conv2d(64, 64, kernel_size=(4, 4), stride=(4, 4))\n",
       "                (layer_norm): LayerNorm((64,), eps=1e-05, elementwise_affine=True)\n",
       "              )\n",
       "              (output): SegformerSelfOutput(\n",
       "                (dense): Linear(in_features=64, out_features=64, bias=True)\n",
       "                (dropout): Dropout(p=0.0, inplace=False)\n",
       "              )\n",
       "            )\n",
       "            (drop_path): SegformerDropPath(p=0.02857142873108387)\n",
       "            (layer_norm_2): LayerNorm((64,), eps=1e-05, elementwise_affine=True)\n",
       "            (mlp): SegformerMixFFN(\n",
       "              (dense1): Linear(in_features=64, out_features=256, bias=True)\n",
       "              (dwconv): SegformerDWConv(\n",
       "                (dwconv): Conv2d(256, 256, kernel_size=(3, 3), stride=(1, 1), padding=(1, 1), groups=256)\n",
       "              )\n",
       "              (intermediate_act_fn): GELUActivation()\n",
       "              (dense2): Linear(in_features=256, out_features=64, bias=True)\n",
       "              (dropout): Dropout(p=0.0, inplace=False)\n",
       "            )\n",
       "          )\n",
       "          (1): SegformerLayer(\n",
       "            (layer_norm_1): LayerNorm((64,), eps=1e-05, elementwise_affine=True)\n",
       "            (attention): SegformerAttention(\n",
       "              (self): SegformerEfficientSelfAttention(\n",
       "                (query): Linear(in_features=64, out_features=64, bias=True)\n",
       "                (key): Linear(in_features=64, out_features=64, bias=True)\n",
       "                (value): Linear(in_features=64, out_features=64, bias=True)\n",
       "                (dropout): Dropout(p=0.0, inplace=False)\n",
       "                (sr): Conv2d(64, 64, kernel_size=(4, 4), stride=(4, 4))\n",
       "                (layer_norm): LayerNorm((64,), eps=1e-05, elementwise_affine=True)\n",
       "              )\n",
       "              (output): SegformerSelfOutput(\n",
       "                (dense): Linear(in_features=64, out_features=64, bias=True)\n",
       "                (dropout): Dropout(p=0.0, inplace=False)\n",
       "              )\n",
       "            )\n",
       "            (drop_path): SegformerDropPath(p=0.04285714402794838)\n",
       "            (layer_norm_2): LayerNorm((64,), eps=1e-05, elementwise_affine=True)\n",
       "            (mlp): SegformerMixFFN(\n",
       "              (dense1): Linear(in_features=64, out_features=256, bias=True)\n",
       "              (dwconv): SegformerDWConv(\n",
       "                (dwconv): Conv2d(256, 256, kernel_size=(3, 3), stride=(1, 1), padding=(1, 1), groups=256)\n",
       "              )\n",
       "              (intermediate_act_fn): GELUActivation()\n",
       "              (dense2): Linear(in_features=256, out_features=64, bias=True)\n",
       "              (dropout): Dropout(p=0.0, inplace=False)\n",
       "            )\n",
       "          )\n",
       "        )\n",
       "        (2): ModuleList(\n",
       "          (0): SegformerLayer(\n",
       "            (layer_norm_1): LayerNorm((160,), eps=1e-05, elementwise_affine=True)\n",
       "            (attention): SegformerAttention(\n",
       "              (self): SegformerEfficientSelfAttention(\n",
       "                (query): Linear(in_features=160, out_features=160, bias=True)\n",
       "                (key): Linear(in_features=160, out_features=160, bias=True)\n",
       "                (value): Linear(in_features=160, out_features=160, bias=True)\n",
       "                (dropout): Dropout(p=0.0, inplace=False)\n",
       "                (sr): Conv2d(160, 160, kernel_size=(2, 2), stride=(2, 2))\n",
       "                (layer_norm): LayerNorm((160,), eps=1e-05, elementwise_affine=True)\n",
       "              )\n",
       "              (output): SegformerSelfOutput(\n",
       "                (dense): Linear(in_features=160, out_features=160, bias=True)\n",
       "                (dropout): Dropout(p=0.0, inplace=False)\n",
       "              )\n",
       "            )\n",
       "            (drop_path): SegformerDropPath(p=0.05714285746216774)\n",
       "            (layer_norm_2): LayerNorm((160,), eps=1e-05, elementwise_affine=True)\n",
       "            (mlp): SegformerMixFFN(\n",
       "              (dense1): Linear(in_features=160, out_features=640, bias=True)\n",
       "              (dwconv): SegformerDWConv(\n",
       "                (dwconv): Conv2d(640, 640, kernel_size=(3, 3), stride=(1, 1), padding=(1, 1), groups=640)\n",
       "              )\n",
       "              (intermediate_act_fn): GELUActivation()\n",
       "              (dense2): Linear(in_features=640, out_features=160, bias=True)\n",
       "              (dropout): Dropout(p=0.0, inplace=False)\n",
       "            )\n",
       "          )\n",
       "          (1): SegformerLayer(\n",
       "            (layer_norm_1): LayerNorm((160,), eps=1e-05, elementwise_affine=True)\n",
       "            (attention): SegformerAttention(\n",
       "              (self): SegformerEfficientSelfAttention(\n",
       "                (query): Linear(in_features=160, out_features=160, bias=True)\n",
       "                (key): Linear(in_features=160, out_features=160, bias=True)\n",
       "                (value): Linear(in_features=160, out_features=160, bias=True)\n",
       "                (dropout): Dropout(p=0.0, inplace=False)\n",
       "                (sr): Conv2d(160, 160, kernel_size=(2, 2), stride=(2, 2))\n",
       "                (layer_norm): LayerNorm((160,), eps=1e-05, elementwise_affine=True)\n",
       "              )\n",
       "              (output): SegformerSelfOutput(\n",
       "                (dense): Linear(in_features=160, out_features=160, bias=True)\n",
       "                (dropout): Dropout(p=0.0, inplace=False)\n",
       "              )\n",
       "            )\n",
       "            (drop_path): SegformerDropPath(p=0.0714285746216774)\n",
       "            (layer_norm_2): LayerNorm((160,), eps=1e-05, elementwise_affine=True)\n",
       "            (mlp): SegformerMixFFN(\n",
       "              (dense1): Linear(in_features=160, out_features=640, bias=True)\n",
       "              (dwconv): SegformerDWConv(\n",
       "                (dwconv): Conv2d(640, 640, kernel_size=(3, 3), stride=(1, 1), padding=(1, 1), groups=640)\n",
       "              )\n",
       "              (intermediate_act_fn): GELUActivation()\n",
       "              (dense2): Linear(in_features=640, out_features=160, bias=True)\n",
       "              (dropout): Dropout(p=0.0, inplace=False)\n",
       "            )\n",
       "          )\n",
       "        )\n",
       "        (3): ModuleList(\n",
       "          (0): SegformerLayer(\n",
       "            (layer_norm_1): LayerNorm((256,), eps=1e-05, elementwise_affine=True)\n",
       "            (attention): SegformerAttention(\n",
       "              (self): SegformerEfficientSelfAttention(\n",
       "                (query): Linear(in_features=256, out_features=256, bias=True)\n",
       "                (key): Linear(in_features=256, out_features=256, bias=True)\n",
       "                (value): Linear(in_features=256, out_features=256, bias=True)\n",
       "                (dropout): Dropout(p=0.0, inplace=False)\n",
       "              )\n",
       "              (output): SegformerSelfOutput(\n",
       "                (dense): Linear(in_features=256, out_features=256, bias=True)\n",
       "                (dropout): Dropout(p=0.0, inplace=False)\n",
       "              )\n",
       "            )\n",
       "            (drop_path): SegformerDropPath(p=0.08571428805589676)\n",
       "            (layer_norm_2): LayerNorm((256,), eps=1e-05, elementwise_affine=True)\n",
       "            (mlp): SegformerMixFFN(\n",
       "              (dense1): Linear(in_features=256, out_features=1024, bias=True)\n",
       "              (dwconv): SegformerDWConv(\n",
       "                (dwconv): Conv2d(1024, 1024, kernel_size=(3, 3), stride=(1, 1), padding=(1, 1), groups=1024)\n",
       "              )\n",
       "              (intermediate_act_fn): GELUActivation()\n",
       "              (dense2): Linear(in_features=1024, out_features=256, bias=True)\n",
       "              (dropout): Dropout(p=0.0, inplace=False)\n",
       "            )\n",
       "          )\n",
       "          (1): SegformerLayer(\n",
       "            (layer_norm_1): LayerNorm((256,), eps=1e-05, elementwise_affine=True)\n",
       "            (attention): SegformerAttention(\n",
       "              (self): SegformerEfficientSelfAttention(\n",
       "                (query): Linear(in_features=256, out_features=256, bias=True)\n",
       "                (key): Linear(in_features=256, out_features=256, bias=True)\n",
       "                (value): Linear(in_features=256, out_features=256, bias=True)\n",
       "                (dropout): Dropout(p=0.0, inplace=False)\n",
       "              )\n",
       "              (output): SegformerSelfOutput(\n",
       "                (dense): Linear(in_features=256, out_features=256, bias=True)\n",
       "                (dropout): Dropout(p=0.0, inplace=False)\n",
       "              )\n",
       "            )\n",
       "            (drop_path): SegformerDropPath(p=0.10000000149011612)\n",
       "            (layer_norm_2): LayerNorm((256,), eps=1e-05, elementwise_affine=True)\n",
       "            (mlp): SegformerMixFFN(\n",
       "              (dense1): Linear(in_features=256, out_features=1024, bias=True)\n",
       "              (dwconv): SegformerDWConv(\n",
       "                (dwconv): Conv2d(1024, 1024, kernel_size=(3, 3), stride=(1, 1), padding=(1, 1), groups=1024)\n",
       "              )\n",
       "              (intermediate_act_fn): GELUActivation()\n",
       "              (dense2): Linear(in_features=1024, out_features=256, bias=True)\n",
       "              (dropout): Dropout(p=0.0, inplace=False)\n",
       "            )\n",
       "          )\n",
       "        )\n",
       "      )\n",
       "      (layer_norm): ModuleList(\n",
       "        (0): LayerNorm((32,), eps=1e-05, elementwise_affine=True)\n",
       "        (1): LayerNorm((64,), eps=1e-05, elementwise_affine=True)\n",
       "        (2): LayerNorm((160,), eps=1e-05, elementwise_affine=True)\n",
       "        (3): LayerNorm((256,), eps=1e-05, elementwise_affine=True)\n",
       "      )\n",
       "    )\n",
       "  )\n",
       "  (decode_head): SegformerDecodeHead(\n",
       "    (linear_c): ModuleList(\n",
       "      (0): SegformerMLP(\n",
       "        (proj): Linear(in_features=32, out_features=256, bias=True)\n",
       "      )\n",
       "      (1): SegformerMLP(\n",
       "        (proj): Linear(in_features=64, out_features=256, bias=True)\n",
       "      )\n",
       "      (2): SegformerMLP(\n",
       "        (proj): Linear(in_features=160, out_features=256, bias=True)\n",
       "      )\n",
       "      (3): SegformerMLP(\n",
       "        (proj): Linear(in_features=256, out_features=256, bias=True)\n",
       "      )\n",
       "    )\n",
       "    (linear_fuse): Conv2d(1024, 256, kernel_size=(1, 1), stride=(1, 1), bias=False)\n",
       "    (batch_norm): BatchNorm2d(256, eps=1e-05, momentum=0.1, affine=True, track_running_stats=True)\n",
       "    (activation): ReLU()\n",
       "    (dropout): Dropout(p=0.1, inplace=False)\n",
       "    (classifier): Conv2d(256, 2, kernel_size=(1, 1), stride=(1, 1))\n",
       "  )\n",
       ")"
      ]
     },
     "execution_count": 2,
     "metadata": {},
     "output_type": "execute_result"
    }
   ],
   "source": [
    "from transformers import SegformerImageProcessor, SegformerForSemanticSegmentation\n",
    "import torch\n",
    "\n",
    "model_name = r\"C:\\Part_dimensions_project\\seg_former_model_weights\\checkpoint-163\"\n",
    "\n",
    "device = torch.device(\"cuda\" if torch.cuda.is_available() else \"cpu\")\n",
    "\n",
    "processor = SegformerImageProcessor(do_resize=False)\n",
    "model = SegformerForSemanticSegmentation.from_pretrained(model_name)\n",
    "model.to(device)"
   ]
  },
  {
   "cell_type": "code",
   "execution_count": 3,
   "id": "69713e99-6390-499f-8d2d-b67744e55d7d",
   "metadata": {},
   "outputs": [],
   "source": [
    "from PIL import Image\n",
    "import numpy as np\n",
    "\n",
    "image_path = r\"C:\\Part_dimensions_project\\dataset\\train\\images\\image_rotated_13.jpg\"\n",
    "\n",
    "image = Image.open(image_path)\n",
    "\n",
    "image_np = np.array(image)\n",
    "if len(image_np.shape) == 2:  # Check if the image is grayscale\n",
    "    image_np = np.stack([image_np] * 3, axis=-1)  # Repeat the grayscale channel three times\n",
    "image =  Image.fromarray(image_np)"
   ]
  },
  {
   "cell_type": "code",
   "execution_count": 4,
   "id": "dc65ca08-e966-40ff-968d-e9421ad1b960",
   "metadata": {},
   "outputs": [],
   "source": [
    "pixel_values = processor(image, return_tensors=\"pt\").pixel_values.to(device)"
   ]
  },
  {
   "cell_type": "code",
   "execution_count": 5,
   "id": "a23ab835-a761-42a8-9b52-86b81bcc82aa",
   "metadata": {},
   "outputs": [],
   "source": [
    "import torch\n",
    "\n",
    "with torch.no_grad():\n",
    "  outputs = model(pixel_values)\n",
    "  logits = outputs.logits"
   ]
  },
  {
   "cell_type": "code",
   "execution_count": 6,
   "id": "e50afedf-fd09-4e13-b6cc-77b8e65f7366",
   "metadata": {},
   "outputs": [],
   "source": [
    "predicted_segmentation_map = processor.post_process_semantic_segmentation(outputs, target_sizes=[image.size[::-1]])[0]\n",
    "predicted_segmentation_map = predicted_segmentation_map.cpu().numpy()"
   ]
  },
  {
   "cell_type": "code",
   "execution_count": 7,
   "id": "b6a64011-e678-4699-bb58-268ad5dd75bf",
   "metadata": {},
   "outputs": [
    {
     "data": {
      "text/plain": [
       "<matplotlib.image.AxesImage at 0x1eafb3ebe10>"
      ]
     },
     "execution_count": 7,
     "metadata": {},
     "output_type": "execute_result"
    },
    {
     "data": {
      "image/png": "[encoded data removed]",
      "text/plain": [
       "<Figure size 640x480 with 1 Axes>"
      ]
     },
     "metadata": {},
     "output_type": "display_data"
    }
   ],
   "source": [
    "import matplotlib.pyplot as plt\n",
    "\n",
    "plt.imshow(predicted_segmentation_map , cmap = 'gray')"
   ]
  },
  {
   "cell_type": "code",
   "execution_count": 1,
   "id": "1f923e8d-21a0-40c1-8398-9c51509c987a",
   "metadata": {},
   "outputs": [],
   "source": [
    "##training on a small subset of the ADE20k dataset\n",
    "\n",
    "import requests, zipfile, io\n",
    "\n",
    "def download_data():\n",
    "    url = \"https://www.dropbox.com/s/l1e45oht447053f/ADE20k_toy_dataset.zip?dl=1\"\n",
    "    r = requests.get(url)\n",
    "    z = zipfile.ZipFile(io.BytesIO(r.content))\n",
    "    z.extractall(r\"C:\\Part_dimensions_project\\Segmentation_dataset\")\n",
    "\n",
    "download_data()"
   ]
  },
  {
   "cell_type": "code",
   "execution_count": 15,
   "id": "e646b0ea-a82c-4a20-9c60-eb811eabda60",
   "metadata": {},
   "outputs": [
    {
     "name": "stdout",
     "output_type": "stream",
     "text": [
      "RGB\n"
     ]
    }
   ],
   "source": [
    "#some experimentation\n",
    "\n",
    "import cv2\n",
    "import matplotlib.pyplot as plt\n",
    "import numpy as np\n",
    "image = Image.open(r\"C:\\Part_dimensions_project\\Segmentation_dataset\\ADE20k_toy_dataset\\images\\training\\ADE_train_00000001.jpg\")\n",
    "\n",
    "print(image.mode)"
   ]
  },
  {
   "cell_type": "code",
   "execution_count": 1,
   "id": "f3ddbee0-4da2-40b7-a0da-b4943bca4032",
   "metadata": {},
   "outputs": [],
   "source": [
    "#code for training on the parts dataset.\n",
    "\n",
    "from torch.utils.data import Dataset\n",
    "import os\n",
    "from PIL import Image\n",
    "import cv2\n",
    "import numpy as np\n",
    "class SemanticSegmentationDataset(Dataset):\n",
    "    \"\"\"Image (semantic) segmentation dataset.\"\"\"\n",
    "\n",
    "    def __init__(self, root_dir, image_processor, train=True):\n",
    "        \"\"\"\n",
    "        Args:\n",
    "            root_dir (string): Root directory of the dataset containing the images + annotations.\n",
    "            image_processor (SegFormerImageProcessor): image processor to prepare images + segmentation maps.\n",
    "            train (bool): Whether to load \"training\" or \"validation\" images + annotations.\n",
    "        \"\"\"\n",
    "        self.root_dir = root_dir\n",
    "        self.image_processor = image_processor\n",
    "        self.train = train\n",
    "\n",
    "        sub_path = \"training\" if self.train else \"validation\"\n",
    "        self.img_dir = os.path.join(self.root_dir, sub_path ,\"images\")\n",
    "        self.ann_dir = os.path.join(self.root_dir, sub_path, \"annotations\")\n",
    "\n",
    "        # read images\n",
    "        image_file_names = []\n",
    "        for root, dirs, files in os.walk(self.img_dir):\n",
    "          image_file_names.extend(files)\n",
    "        self.images = sorted(image_file_names)\n",
    "\n",
    "        # read annotations\n",
    "        annotation_file_names = []\n",
    "        for root, dirs, files in os.walk(self.ann_dir):\n",
    "          annotation_file_names.extend(files)\n",
    "        self.annotations = sorted(annotation_file_names)\n",
    "\n",
    "        assert len(self.images) == len(self.annotations), \"There must be as many images as there are segmentation maps\"\n",
    "\n",
    "    def __len__(self):\n",
    "        return len(self.images)\n",
    "\n",
    "    def __getitem__(self, idx):\n",
    "\n",
    "        image = Image.open(os.path.join(self.img_dir, self.images[idx]))\n",
    "        segmentation_map = Image.open(os.path.join(self.ann_dir, self.annotations[idx]))\n",
    "\n",
    "        segmentation_map_np = np.array(segmentation_map)\n",
    "        _, binary_segmentation_map = cv2.threshold(segmentation_map_np, 100, 255, cv2.THRESH_BINARY)\n",
    "        rescaled_binary_map = binary_segmentation_map / 255\n",
    "\n",
    "        m_segmentation_map = Image.fromarray(rescaled_binary_map)\n",
    "\n",
    "        image_np = np.array(image)\n",
    "        if len(image_np.shape) == 2:  # Check if the image is grayscale\n",
    "            image_np = np.stack([image_np] * 3, axis=-1)  # Repeat the grayscale channel three times\n",
    "        m_image = Image.fromarray(image_np)\n",
    "        \n",
    "        # randomly crop + pad both image and segmentation map to same size\n",
    "        encoded_inputs = self.image_processor(m_image, m_segmentation_map, return_tensors=\"pt\")\n",
    "\n",
    "        for k,v in encoded_inputs.items():\n",
    "          encoded_inputs[k].squeeze_() # remove batch dimension\n",
    "\n",
    "        return encoded_inputs"
   ]
  },
  {
   "cell_type": "code",
   "execution_count": 2,
   "id": "f6b7c1fa-d210-449f-a60e-c5c70cc5185b",
   "metadata": {},
   "outputs": [],
   "source": [
    "from transformers import SegformerImageProcessor\n",
    "\n",
    "root_dir = r\"C:\\Part_dimensions_project\\dataset\"\n",
    "image_processor = SegformerImageProcessor(reduce_labels=False)\n",
    "\n",
    "train_dataset = SemanticSegmentationDataset(root_dir=root_dir, image_processor=image_processor)\n",
    "valid_dataset = SemanticSegmentationDataset(root_dir=root_dir, image_processor=image_processor, train=False)"
   ]
  },
  {
   "cell_type": "code",
   "execution_count": 3,
   "id": "63d8a476-44ab-4ea3-99d0-5d0f86a459be",
   "metadata": {},
   "outputs": [
    {
     "name": "stdout",
     "output_type": "stream",
     "text": [
      "Number of training examples: 180\n",
      "Number of validation examples: 20\n"
     ]
    }
   ],
   "source": [
    "print(\"Number of training examples:\", len(train_dataset))\n",
    "print(\"Number of validation examples:\", len(valid_dataset))"
   ]
  },
  {
   "cell_type": "code",
   "execution_count": 4,
   "id": "62f2f39a-2987-42f9-8e49-779e6acd9004",
   "metadata": {},
   "outputs": [
    {
     "name": "stdout",
     "output_type": "stream",
     "text": [
      "torch.Size([3, 512, 512])\n",
      "torch.Size([512, 512])\n"
     ]
    }
   ],
   "source": [
    "\n",
    "encoded_inputs = train_dataset[0]\n",
    "print(encoded_inputs[\"pixel_values\"].shape)\n",
    "print(encoded_inputs[\"labels\"].shape)"
   ]
  },
  {
   "cell_type": "code",
   "execution_count": 5,
   "id": "b2727396-b30f-4cab-ae80-ee2564e5e80e",
   "metadata": {},
   "outputs": [],
   "source": [
    "from torch.utils.data import DataLoader\n",
    "\n",
    "train_dataloader = DataLoader(train_dataset, batch_size=2, shuffle=True)\n",
    "valid_dataloader = DataLoader(valid_dataset, batch_size=2)"
   ]
  },
  {
   "cell_type": "code",
   "execution_count": 6,
   "id": "4748374a-0731-4ee2-a215-fb47845717a0",
   "metadata": {},
   "outputs": [],
   "source": [
    "id2label = {\n",
    "    0: 'parallel_thickness',\n",
    "}\n",
    "\n",
    "label2id = {\n",
    "    'parallel_thickness': 0,\n",
    "}\n",
    "\n",
    "num_labels = len(id2label)"
   ]
  },
  {
   "cell_type": "code",
   "execution_count": 7,
   "id": "49960235-2fa7-4673-8064-49ac21dc3949",
   "metadata": {},
   "outputs": [
    {
     "name": "stderr",
     "output_type": "stream",
     "text": [
      "Some weights of SegformerForSemanticSegmentation were not initialized from the model checkpoint at nvidia/mit-b0 and are newly initialized: ['decode_head.batch_norm.bias', 'decode_head.batch_norm.num_batches_tracked', 'decode_head.batch_norm.running_mean', 'decode_head.batch_norm.running_var', 'decode_head.batch_norm.weight', 'decode_head.classifier.bias', 'decode_head.classifier.weight', 'decode_head.linear_c.0.proj.bias', 'decode_head.linear_c.0.proj.weight', 'decode_head.linear_c.1.proj.bias', 'decode_head.linear_c.1.proj.weight', 'decode_head.linear_c.2.proj.bias', 'decode_head.linear_c.2.proj.weight', 'decode_head.linear_c.3.proj.bias', 'decode_head.linear_c.3.proj.weight', 'decode_head.linear_fuse.weight']\n",
      "You should probably TRAIN this model on a down-stream task to be able to use it for predictions and inference.\n"
     ]
    }
   ],
   "source": [
    "from transformers import SegformerForSemanticSegmentation\n",
    "\n",
    "model = SegformerForSemanticSegmentation.from_pretrained(\"nvidia/mit-b0\",\n",
    "                                                         num_labels=1,\n",
    "                                                         id2label=id2label,\n",
    "                                                         label2id=label2id,\n",
    ")"
   ]
  },
  {
   "cell_type": "code",
   "execution_count": 11,
   "id": "28ab45aa-fffa-4fcd-9111-23f42e6ff41a",
   "metadata": {},
   "outputs": [
    {
     "ename": "NameError",
     "evalue": "name 'BinaryJaccardIndex' is not defined",
     "output_type": "error",
     "traceback": [
      "\u001b[1;31m---------------------------------------------------------------------------\u001b[0m",
      "\u001b[1;31mNameError\u001b[0m                                 Traceback (most recent call last)",
      "Cell \u001b[1;32mIn[11], line 17\u001b[0m\n\u001b[0;32m     15\u001b[0m device \u001b[38;5;241m=\u001b[39m torch\u001b[38;5;241m.\u001b[39mdevice(\u001b[38;5;124m\"\u001b[39m\u001b[38;5;124mcuda\u001b[39m\u001b[38;5;124m\"\u001b[39m \u001b[38;5;28;01mif\u001b[39;00m torch\u001b[38;5;241m.\u001b[39mcuda\u001b[38;5;241m.\u001b[39mis_available() \u001b[38;5;28;01melse\u001b[39;00m \u001b[38;5;124m\"\u001b[39m\u001b[38;5;124mcpu\u001b[39m\u001b[38;5;124m\"\u001b[39m)\n\u001b[0;32m     16\u001b[0m model\u001b[38;5;241m.\u001b[39mto(device)\n\u001b[1;32m---> 17\u001b[0m metric \u001b[38;5;241m=\u001b[39m BinaryJaccardIndex()\n\u001b[0;32m     18\u001b[0m save_directory \u001b[38;5;241m=\u001b[39m \u001b[38;5;124mr\u001b[39m\u001b[38;5;124m\"\u001b[39m\u001b[38;5;124mC:\u001b[39m\u001b[38;5;124m\\\u001b[39m\u001b[38;5;124mPart_dimensions_project\u001b[39m\u001b[38;5;124m\\\u001b[39m\u001b[38;5;124mseg_former_model_weights\u001b[39m\u001b[38;5;124m\"\u001b[39m\n\u001b[0;32m     19\u001b[0m model\u001b[38;5;241m.\u001b[39mtrain()\n",
      "\u001b[1;31mNameError\u001b[0m: name 'BinaryJaccardIndex' is not defined"
     ]
    }
   ],
   "source": [
    "#earlier training loop\n",
    "\n",
    "\n",
    "import torch\n",
    "from torch import nn\n",
    "from sklearn.metrics import accuracy_score\n",
    "#from torchmetrics.classification import BinaryJaccardIndex\n",
    "from tqdm.notebook import tqdm\n",
    "import evaluate\n",
    "\n",
    "metric = evaluate.load(\"mean_iou\")\n",
    "\n",
    "\n",
    "\n",
    "# define optimizer\n",
    "optimizer = torch.optim.AdamW(model.parameters(), lr=0.00006)\n",
    "# move model to GPU\n",
    "device = torch.device(\"cuda\" if torch.cuda.is_available() else \"cpu\")\n",
    "print(device)\n",
    "model.to(device)\n",
    "\n",
    "save_directory = r\"C:\\Part_dimensions_project\\seg_former_model_weights\"\n",
    "model.train()\n",
    "for epoch in range(200):  # loop over the dataset multiple times\n",
    "   model.save_pretrained(save_directory)\n",
    "   print(\"Epoch:\", epoch)\n",
    "   for idx, batch in enumerate(tqdm(train_dataloader)):\n",
    "        # get the inputs;\n",
    "        pixel_values = batch[\"pixel_values\"].to(device)\n",
    "        labels = batch[\"labels\"].to(device)\n",
    "\n",
    "        # zero the parameter gradients\n",
    "        optimizer.zero_grad()\n",
    "\n",
    "        # forward + backward + optimize\n",
    "        outputs = model(pixel_values=pixel_values, labels=labels)\n",
    "        loss, logits = outputs.loss, outputs.logits\n",
    "\n",
    "        loss.backward()\n",
    "        optimizer.step()\n",
    "\n",
    "        # evaluate\n",
    "        with torch.no_grad():\n",
    "          upsampled_logits = nn.functional.interpolate(logits, size=labels.shape[-2:], mode=\"bilinear\", align_corners=False)\n",
    "          probabilities = torch.sigmoid(upsampled_logits)\n",
    "    \n",
    "          # Threshold to get binary predictions\n",
    "          predicted = (probabilities > 0.5).int()\n",
    "          predicted = predicted.squeeze(1)  \n",
    "          # note that the metric expects predictions + labels as numpy arrays\n",
    "          #metric.add_batch(predictions=predicted.detach().cpu().numpy(), references=labels.detach().cpu().numpy())\n",
    "        \n",
    "        # let's print loss and metrics every 100 batches\n",
    "        if idx % 10 == 0:\n",
    "            metrics = metric._compute(\n",
    "                  predictions=predicted.cpu(),\n",
    "                  references=labels.cpu(),\n",
    "                  num_labels=len(id2label),\n",
    "                  ignore_index=255,\n",
    "                  reduce_labels=False, # we've already reduced the labels ourselves\n",
    "              )\n",
    "                     \n",
    "\n",
    "            print(\"Loss:\", loss.item())\n",
    "            print(\"Mean_iou:\", metrics[\"mean_iou\"])\n",
    "            print(\"Mean accuracy:\", metrics[\"mean_accuracy\"])\n"
   ]
  },
  {
   "cell_type": "code",
   "execution_count": 8,
   "id": "bdb22247-f704-44ac-8d40-eec5c377d4f6",
   "metadata": {},
   "outputs": [
    {
     "name": "stdout",
     "output_type": "stream",
     "text": [
      "cuda\n",
      "Epoch: 0\n"
     ]
    },
    {
     "data": {
      "application/vnd.jupyter.widget-view+json": {
       "model_id": "f9e735bc1c874be581b52ff6473d10e4",
       "version_major": 2,
       "version_minor": 0
      },
      "text/plain": [
       "  0%|          | 0/90 [00:00<?, ?it/s]"
      ]
     },
     "metadata": {},
     "output_type": "display_data"
    },
    {
     "name": "stdout",
     "output_type": "stream",
     "text": [
      "Loss: 0.724496066570282\n",
      "iou: tensor(0.5621)\n",
      "Loss: 0.6175366640090942\n",
      "iou: tensor(0.9472)\n",
      "Loss: 0.578401505947113\n",
      "iou: tensor(0.8951)\n",
      "Loss: 0.5366206169128418\n",
      "iou: tensor(0.7771)\n",
      "Loss: 0.5095824003219604\n",
      "iou: tensor(0.8677)\n",
      "Loss: 0.4915350079536438\n",
      "iou: tensor(0.8047)\n",
      "Loss: 0.4553448557853699\n",
      "iou: tensor(0.8657)\n",
      "Loss: 0.4389503598213196\n",
      "iou: tensor(0.7502)\n",
      "Loss: 0.435607373714447\n",
      "iou: tensor(0.5877)\n",
      "Validation Loss: 0.3904752790927887\n",
      "Epoch: 1\n"
     ]
    },
    {
     "data": {
      "application/vnd.jupyter.widget-view+json": {
       "model_id": "dab331a316d141cb90cbb397101a6220",
       "version_major": 2,
       "version_minor": 0
      },
      "text/plain": [
       "  0%|          | 0/90 [00:00<?, ?it/s]"
      ]
     },
     "metadata": {},
     "output_type": "display_data"
    },
    {
     "name": "stdout",
     "output_type": "stream",
     "text": [
      "Loss: 0.39484846591949463\n",
      "iou: tensor(0.8103)\n",
      "Loss: 0.3932567536830902\n",
      "iou: tensor(0.5487)\n",
      "Loss: 0.4086824655532837\n",
      "iou: tensor(0.5990)\n",
      "Loss: 0.37452229857444763\n",
      "iou: tensor(0.6071)\n",
      "Loss: 0.3433799743652344\n",
      "iou: tensor(0.7671)\n",
      "Loss: 0.3208429515361786\n",
      "iou: tensor(0.7081)\n",
      "Loss: 0.3174256682395935\n",
      "iou: tensor(0.6342)\n",
      "Loss: 0.32528573274612427\n",
      "iou: tensor(0.7021)\n",
      "Loss: 0.3073393404483795\n",
      "iou: tensor(0.6849)\n",
      "Validation Loss: 0.28764518201351164\n",
      "Epoch: 2\n"
     ]
    },
    {
     "data": {
      "application/vnd.jupyter.widget-view+json": {
       "model_id": "0307700653c24817bb3b25cba9c22951",
       "version_major": 2,
       "version_minor": 0
      },
      "text/plain": [
       "  0%|          | 0/90 [00:00<?, ?it/s]"
      ]
     },
     "metadata": {},
     "output_type": "display_data"
    },
    {
     "name": "stdout",
     "output_type": "stream",
     "text": [
      "Loss: 0.2887463867664337\n",
      "iou: tensor(0.7054)\n",
      "Loss: 0.2807544469833374\n",
      "iou: tensor(0.8430)\n",
      "Loss: 0.2697463035583496\n",
      "iou: tensor(0.8719)\n",
      "Loss: 0.3005150854587555\n",
      "iou: tensor(0.6146)\n",
      "Loss: 0.2514295279979706\n",
      "iou: tensor(0.8101)\n",
      "Loss: 0.2560300827026367\n",
      "iou: tensor(0.7665)\n",
      "Loss: 0.22611841559410095\n",
      "iou: tensor(0.7923)\n",
      "Loss: 0.2165929526090622\n",
      "iou: tensor(0.7826)\n",
      "Loss: 0.21466246247291565\n",
      "iou: tensor(0.7575)\n",
      "Validation Loss: 0.21348427534103392\n",
      "Epoch: 3\n"
     ]
    },
    {
     "data": {
      "application/vnd.jupyter.widget-view+json": {
       "model_id": "b16c6c2967f64f1293d9262a4dd8fe2b",
       "version_major": 2,
       "version_minor": 0
      },
      "text/plain": [
       "  0%|          | 0/90 [00:00<?, ?it/s]"
      ]
     },
     "metadata": {},
     "output_type": "display_data"
    },
    {
     "name": "stdout",
     "output_type": "stream",
     "text": [
      "Loss: 0.20029719173908234\n",
      "iou: tensor(0.8705)\n",
      "Loss: 0.2179258167743683\n",
      "iou: tensor(0.8144)\n",
      "Loss: 0.2226807326078415\n",
      "iou: tensor(0.6591)\n",
      "Loss: 0.2082701027393341\n",
      "iou: tensor(0.7020)\n",
      "Loss: 0.1970895230770111\n",
      "iou: tensor(0.7402)\n",
      "Loss: 0.25742053985595703\n",
      "iou: tensor(0.3915)\n",
      "Loss: 0.2589958906173706\n",
      "iou: tensor(0.3943)\n",
      "Loss: 0.19982337951660156\n",
      "iou: tensor(0.8662)\n",
      "Loss: 0.1703055202960968\n",
      "iou: tensor(0.8446)\n",
      "Validation Loss: 0.1620851829648018\n",
      "Epoch: 4\n"
     ]
    },
    {
     "data": {
      "application/vnd.jupyter.widget-view+json": {
       "model_id": "b2afb70613aa49e88acf1fb9179b5b01",
       "version_major": 2,
       "version_minor": 0
      },
      "text/plain": [
       "  0%|          | 0/90 [00:00<?, ?it/s]"
      ]
     },
     "metadata": {},
     "output_type": "display_data"
    },
    {
     "name": "stdout",
     "output_type": "stream",
     "text": [
      "Loss: 0.1789364218711853\n",
      "iou: tensor(0.7269)\n",
      "Loss: 0.17090465128421783\n",
      "iou: tensor(0.7635)\n",
      "Loss: 0.18983227014541626\n",
      "iou: tensor(0.7378)\n",
      "Loss: 0.1745639443397522\n",
      "iou: tensor(0.7001)\n",
      "Loss: 0.16395381093025208\n",
      "iou: tensor(0.7474)\n",
      "Loss: 0.17591658234596252\n",
      "iou: tensor(0.7814)\n",
      "Loss: 0.16333092749118805\n",
      "iou: tensor(0.8189)\n",
      "Loss: 0.1482255756855011\n",
      "iou: tensor(0.7988)\n",
      "Loss: 0.1545279622077942\n",
      "iou: tensor(0.8468)\n",
      "Validation Loss: 0.13206555396318437\n",
      "Epoch: 5\n"
     ]
    },
    {
     "data": {
      "application/vnd.jupyter.widget-view+json": {
       "model_id": "9313b501d4074a69a600b5a142db125f",
       "version_major": 2,
       "version_minor": 0
      },
      "text/plain": [
       "  0%|          | 0/90 [00:00<?, ?it/s]"
      ]
     },
     "metadata": {},
     "output_type": "display_data"
    },
    {
     "name": "stdout",
     "output_type": "stream",
     "text": [
      "Loss: 0.155462384223938\n",
      "iou: tensor(0.8370)\n",
      "Loss: 0.1571144163608551\n",
      "iou: tensor(0.6980)\n",
      "Loss: 0.13303501904010773\n",
      "iou: tensor(0.8321)\n",
      "Loss: 0.1373749077320099\n",
      "iou: tensor(0.7965)\n",
      "Loss: 0.13152125477790833\n",
      "iou: tensor(0.7488)\n",
      "Loss: 0.1430826485157013\n",
      "iou: tensor(0.8625)\n",
      "Loss: 0.1197785809636116\n",
      "iou: tensor(0.8835)\n",
      "Loss: 0.13131283223628998\n",
      "iou: tensor(0.8188)\n",
      "Loss: 0.12274409830570221\n",
      "iou: tensor(0.8645)\n",
      "Validation Loss: 0.12049564272165299\n",
      "Epoch: 6\n"
     ]
    },
    {
     "data": {
      "application/vnd.jupyter.widget-view+json": {
       "model_id": "a98a18517a884e85a1ad4501a8bbf87f",
       "version_major": 2,
       "version_minor": 0
      },
      "text/plain": [
       "  0%|          | 0/90 [00:00<?, ?it/s]"
      ]
     },
     "metadata": {},
     "output_type": "display_data"
    },
    {
     "name": "stdout",
     "output_type": "stream",
     "text": [
      "Loss: 0.12935158610343933\n",
      "iou: tensor(0.7999)\n",
      "Loss: 0.12218764424324036\n",
      "iou: tensor(0.8295)\n",
      "Loss: 0.12001077085733414\n",
      "iou: tensor(0.8928)\n",
      "Loss: 0.1335747241973877\n",
      "iou: tensor(0.7762)\n",
      "Loss: 0.1288900077342987\n",
      "iou: tensor(0.8637)\n",
      "Loss: 0.10985520482063293\n",
      "iou: tensor(0.9115)\n",
      "Loss: 0.13985487818717957\n",
      "iou: tensor(0.6659)\n",
      "Loss: 0.11423348635435104\n",
      "iou: tensor(0.8078)\n",
      "Loss: 0.11979164183139801\n",
      "iou: tensor(0.8145)\n",
      "Validation Loss: 0.10646256133913994\n",
      "Epoch: 7\n"
     ]
    },
    {
     "data": {
      "application/vnd.jupyter.widget-view+json": {
       "model_id": "7907ec914d2c4ec2b899646fae0a2345",
       "version_major": 2,
       "version_minor": 0
      },
      "text/plain": [
       "  0%|          | 0/90 [00:00<?, ?it/s]"
      ]
     },
     "metadata": {},
     "output_type": "display_data"
    },
    {
     "name": "stdout",
     "output_type": "stream",
     "text": [
      "Loss: 0.1446722000837326\n",
      "iou: tensor(0.8034)\n",
      "Loss: 0.10978098213672638\n",
      "iou: tensor(0.8861)\n",
      "Loss: 0.16128811240196228\n",
      "iou: tensor(0.7827)\n",
      "Loss: 0.12119793891906738\n",
      "iou: tensor(0.7942)\n",
      "Loss: 0.1075085997581482\n",
      "iou: tensor(0.8886)\n",
      "Loss: 0.10416146367788315\n",
      "iou: tensor(0.8436)\n",
      "Loss: 0.18009944260120392\n",
      "iou: tensor(0.8228)\n",
      "Loss: 0.12427106499671936\n",
      "iou: tensor(0.7943)\n",
      "Loss: 0.09227573871612549\n",
      "iou: tensor(0.8155)\n",
      "Validation Loss: 0.09984169006347657\n",
      "Epoch: 8\n"
     ]
    },
    {
     "data": {
      "application/vnd.jupyter.widget-view+json": {
       "model_id": "882abbabba784bb8b809d331d1b07ad6",
       "version_major": 2,
       "version_minor": 0
      },
      "text/plain": [
       "  0%|          | 0/90 [00:00<?, ?it/s]"
      ]
     },
     "metadata": {},
     "output_type": "display_data"
    },
    {
     "name": "stdout",
     "output_type": "stream",
     "text": [
      "Loss: 0.12602192163467407\n",
      "iou: tensor(0.7915)\n",
      "Loss: 0.10142047703266144\n",
      "iou: tensor(0.8232)\n",
      "Loss: 0.1137969046831131\n",
      "iou: tensor(0.7503)\n",
      "Loss: 0.12424200773239136\n",
      "iou: tensor(0.7450)\n",
      "Loss: 0.11391767859458923\n",
      "iou: tensor(0.8195)\n",
      "Loss: 0.0855369120836258\n",
      "iou: tensor(0.8595)\n",
      "Loss: 0.1300422102212906\n",
      "iou: tensor(0.7405)\n",
      "Loss: 0.11292919516563416\n",
      "iou: tensor(0.8142)\n",
      "Loss: 0.09360845386981964\n",
      "iou: tensor(0.7533)\n",
      "Validation Loss: 0.09115539714694024\n",
      "Epoch: 9\n"
     ]
    },
    {
     "data": {
      "application/vnd.jupyter.widget-view+json": {
       "model_id": "0bbe1a6b297b48cb8215d8472287b2f3",
       "version_major": 2,
       "version_minor": 0
      },
      "text/plain": [
       "  0%|          | 0/90 [00:00<?, ?it/s]"
      ]
     },
     "metadata": {},
     "output_type": "display_data"
    },
    {
     "name": "stdout",
     "output_type": "stream",
     "text": [
      "Loss: 0.08570057898759842\n",
      "iou: tensor(0.8386)\n",
      "Loss: 0.08643092215061188\n",
      "iou: tensor(0.9028)\n",
      "Loss: 0.09575802087783813\n",
      "iou: tensor(0.8181)\n",
      "Loss: 0.09796510636806488\n",
      "iou: tensor(0.8047)\n",
      "Loss: 0.08325015008449554\n",
      "iou: tensor(0.8925)\n",
      "Loss: 0.08674177527427673\n",
      "iou: tensor(0.8879)\n",
      "Loss: 0.09764955937862396\n",
      "iou: tensor(0.8304)\n",
      "Loss: 0.08154799044132233\n",
      "iou: tensor(0.8675)\n",
      "Loss: 0.12581664323806763\n",
      "iou: tensor(0.7184)\n",
      "Validation Loss: 0.08157433420419694\n",
      "Epoch: 10\n"
     ]
    },
    {
     "data": {
      "application/vnd.jupyter.widget-view+json": {
       "model_id": "1bea82162bcf46cdb3f939c4cab868b5",
       "version_major": 2,
       "version_minor": 0
      },
      "text/plain": [
       "  0%|          | 0/90 [00:00<?, ?it/s]"
      ]
     },
     "metadata": {},
     "output_type": "display_data"
    },
    {
     "name": "stdout",
     "output_type": "stream",
     "text": [
      "Loss: 0.08908119797706604\n",
      "iou: tensor(0.7732)\n",
      "Loss: 0.08599327504634857\n",
      "iou: tensor(0.8920)\n",
      "Loss: 0.10143192857503891\n",
      "iou: tensor(0.8267)\n",
      "Loss: 0.0904492437839508\n",
      "iou: tensor(0.8254)\n",
      "Loss: 0.08571416139602661\n",
      "iou: tensor(0.8398)\n",
      "Loss: 0.09277249127626419\n",
      "iou: tensor(0.8987)\n",
      "Loss: 0.0747470110654831\n",
      "iou: tensor(0.8612)\n",
      "Loss: 0.09554584324359894\n",
      "iou: tensor(0.7509)\n",
      "Loss: 0.07314764708280563\n",
      "iou: tensor(0.8212)\n",
      "Validation Loss: 0.07573375701904297\n",
      "Epoch: 11\n"
     ]
    },
    {
     "data": {
      "application/vnd.jupyter.widget-view+json": {
       "model_id": "c10bbce477214f5089be75119a1cef95",
       "version_major": 2,
       "version_minor": 0
      },
      "text/plain": [
       "  0%|          | 0/90 [00:00<?, ?it/s]"
      ]
     },
     "metadata": {},
     "output_type": "display_data"
    },
    {
     "name": "stdout",
     "output_type": "stream",
     "text": [
      "Loss: 0.07152967154979706\n",
      "iou: tensor(0.8952)\n",
      "Loss: 0.07929528504610062\n",
      "iou: tensor(0.8906)\n",
      "Loss: 0.11751915514469147\n",
      "iou: tensor(0.7700)\n",
      "Loss: 0.08106222748756409\n",
      "iou: tensor(0.8454)\n",
      "Loss: 0.08053730428218842\n",
      "iou: tensor(0.8191)\n",
      "Loss: 0.08746042102575302\n",
      "iou: tensor(0.8241)\n",
      "Loss: 0.08241875469684601\n",
      "iou: tensor(0.8932)\n",
      "Loss: 0.08549873530864716\n",
      "iou: tensor(0.7890)\n",
      "Loss: 0.0853152796626091\n",
      "iou: tensor(0.8981)\n",
      "Validation Loss: 0.0700429067015648\n",
      "Epoch: 12\n"
     ]
    },
    {
     "data": {
      "application/vnd.jupyter.widget-view+json": {
       "model_id": "467e20ee52a6414382b10096b3143310",
       "version_major": 2,
       "version_minor": 0
      },
      "text/plain": [
       "  0%|          | 0/90 [00:00<?, ?it/s]"
      ]
     },
     "metadata": {},
     "output_type": "display_data"
    },
    {
     "name": "stdout",
     "output_type": "stream",
     "text": [
      "Loss: 0.08482120931148529\n",
      "iou: tensor(0.8679)\n",
      "Loss: 0.06840773671865463\n",
      "iou: tensor(0.8899)\n",
      "Loss: 0.06891236454248428\n",
      "iou: tensor(0.8934)\n",
      "Loss: 0.07902542501688004\n",
      "iou: tensor(0.8361)\n",
      "Loss: 0.06811539083719254\n",
      "iou: tensor(0.8933)\n",
      "Loss: 0.09977944195270538\n",
      "iou: tensor(0.9002)\n",
      "Loss: 0.14198364317417145\n",
      "iou: tensor(0.7521)\n",
      "Loss: 0.06366581469774246\n",
      "iou: tensor(0.9136)\n",
      "Loss: 0.07678287476301193\n",
      "iou: tensor(0.8933)\n",
      "Validation Loss: 0.06795678362250328\n",
      "Epoch: 13\n"
     ]
    },
    {
     "data": {
      "application/vnd.jupyter.widget-view+json": {
       "model_id": "0d47ff7112be4373bcf4d4a1c41b07af",
       "version_major": 2,
       "version_minor": 0
      },
      "text/plain": [
       "  0%|          | 0/90 [00:00<?, ?it/s]"
      ]
     },
     "metadata": {},
     "output_type": "display_data"
    },
    {
     "name": "stdout",
     "output_type": "stream",
     "text": [
      "Loss: 0.15398409962654114\n",
      "iou: tensor(0.7554)\n",
      "Loss: 0.08191224187612534\n",
      "iou: tensor(0.8358)\n",
      "Loss: 0.08850903809070587\n",
      "iou: tensor(0.8846)\n",
      "Loss: 0.06620945036411285\n",
      "iou: tensor(0.9029)\n",
      "Loss: 0.06342708319425583\n",
      "iou: tensor(0.8722)\n",
      "Loss: 0.061145294457674026\n",
      "iou: tensor(0.8892)\n",
      "Loss: 0.061803996562957764\n",
      "iou: tensor(0.8620)\n",
      "Loss: 0.06644829362630844\n",
      "iou: tensor(0.9125)\n",
      "Loss: 0.06423163414001465\n",
      "iou: tensor(0.9169)\n",
      "Validation Loss: 0.06381586380302906\n",
      "Epoch: 14\n"
     ]
    },
    {
     "data": {
      "application/vnd.jupyter.widget-view+json": {
       "model_id": "1654a62ff67347939222815fa4f88e3d",
       "version_major": 2,
       "version_minor": 0
      },
      "text/plain": [
       "  0%|          | 0/90 [00:00<?, ?it/s]"
      ]
     },
     "metadata": {},
     "output_type": "display_data"
    },
    {
     "name": "stdout",
     "output_type": "stream",
     "text": [
      "Loss: 0.07182614505290985\n",
      "iou: tensor(0.8459)\n",
      "Loss: 0.06779573857784271\n",
      "iou: tensor(0.8722)\n",
      "Loss: 0.06435611844062805\n",
      "iou: tensor(0.8443)\n",
      "Loss: 0.07108066976070404\n",
      "iou: tensor(0.8857)\n",
      "Loss: 0.05753250792622566\n",
      "iou: tensor(0.8755)\n",
      "Loss: 0.05830184370279312\n",
      "iou: tensor(0.8648)\n",
      "Loss: 0.06022884324193001\n",
      "iou: tensor(0.8915)\n",
      "Loss: 0.07583484053611755\n",
      "iou: tensor(0.8460)\n",
      "Loss: 0.07509874552488327\n",
      "iou: tensor(0.8852)\n",
      "Validation Loss: 0.06417900212109089\n",
      "Epoch: 15\n"
     ]
    },
    {
     "data": {
      "application/vnd.jupyter.widget-view+json": {
       "model_id": "9f9ea25376c344b797289966f371b4fb",
       "version_major": 2,
       "version_minor": 0
      },
      "text/plain": [
       "  0%|          | 0/90 [00:00<?, ?it/s]"
      ]
     },
     "metadata": {},
     "output_type": "display_data"
    },
    {
     "name": "stdout",
     "output_type": "stream",
     "text": [
      "Loss: 0.0615367628633976\n",
      "iou: tensor(0.8865)\n",
      "Loss: 0.06130529195070267\n",
      "iou: tensor(0.8850)\n",
      "Loss: 0.07261497527360916\n",
      "iou: tensor(0.9072)\n",
      "Loss: 0.07702067494392395\n",
      "iou: tensor(0.8533)\n",
      "Loss: 0.05538081005215645\n",
      "iou: tensor(0.9101)\n",
      "Loss: 0.06107774004340172\n",
      "iou: tensor(0.9080)\n",
      "Loss: 0.07698437571525574\n",
      "iou: tensor(0.8501)\n",
      "Loss: 0.056033458560705185\n",
      "iou: tensor(0.9010)\n",
      "Loss: 0.09645454585552216\n",
      "iou: tensor(0.9017)\n",
      "Validation Loss: 0.05930769369006157\n",
      "Epoch: 16\n"
     ]
    },
    {
     "data": {
      "application/vnd.jupyter.widget-view+json": {
       "model_id": "9b54c7154507412495670cab1feb884b",
       "version_major": 2,
       "version_minor": 0
      },
      "text/plain": [
       "  0%|          | 0/90 [00:00<?, ?it/s]"
      ]
     },
     "metadata": {},
     "output_type": "display_data"
    },
    {
     "name": "stdout",
     "output_type": "stream",
     "text": [
      "Loss: 0.06417787820100784\n",
      "iou: tensor(0.9211)\n",
      "Loss: 0.05579857528209686\n",
      "iou: tensor(0.8995)\n",
      "Loss: 0.054262835532426834\n",
      "iou: tensor(0.8862)\n",
      "Loss: 0.06247194856405258\n",
      "iou: tensor(0.9066)\n",
      "Loss: 0.054628390818834305\n",
      "iou: tensor(0.8880)\n",
      "Loss: 0.06077561527490616\n",
      "iou: tensor(0.9066)\n",
      "Loss: 0.12490439414978027\n",
      "iou: tensor(0.6795)\n",
      "Loss: 0.06058339402079582\n",
      "iou: tensor(0.8426)\n",
      "Loss: 0.06530089676380157\n",
      "iou: tensor(0.9006)\n",
      "Validation Loss: 0.06264421194791794\n",
      "Epoch: 17\n"
     ]
    },
    {
     "data": {
      "application/vnd.jupyter.widget-view+json": {
       "model_id": "a6d30a70befb4affbc78697804a0259d",
       "version_major": 2,
       "version_minor": 0
      },
      "text/plain": [
       "  0%|          | 0/90 [00:00<?, ?it/s]"
      ]
     },
     "metadata": {},
     "output_type": "display_data"
    },
    {
     "name": "stdout",
     "output_type": "stream",
     "text": [
      "Loss: 0.08355428278446198\n",
      "iou: tensor(0.8054)\n",
      "Loss: 0.05884701758623123\n",
      "iou: tensor(0.8932)\n",
      "Loss: 0.061328548938035965\n",
      "iou: tensor(0.8952)\n",
      "Loss: 0.05112612247467041\n",
      "iou: tensor(0.8911)\n",
      "Loss: 0.05368737503886223\n",
      "iou: tensor(0.9204)\n",
      "Loss: 0.056840673089027405\n",
      "iou: tensor(0.8900)\n",
      "Loss: 0.05442751944065094\n",
      "iou: tensor(0.9203)\n",
      "Loss: 0.06941872835159302\n",
      "iou: tensor(0.8626)\n",
      "Loss: 0.05086379498243332\n",
      "iou: tensor(0.8690)\n",
      "Validation Loss: 0.055879171937704086\n",
      "Epoch: 18\n"
     ]
    },
    {
     "data": {
      "application/vnd.jupyter.widget-view+json": {
       "model_id": "c65fcd830fe942c1852e858c15a5ec8a",
       "version_major": 2,
       "version_minor": 0
      },
      "text/plain": [
       "  0%|          | 0/90 [00:00<?, ?it/s]"
      ]
     },
     "metadata": {},
     "output_type": "display_data"
    },
    {
     "name": "stdout",
     "output_type": "stream",
     "text": [
      "Loss: 0.054041121155023575\n",
      "iou: tensor(0.8699)\n",
      "Loss: 0.10097786784172058\n",
      "iou: tensor(0.7581)\n",
      "Loss: 0.059826675802469254\n",
      "iou: tensor(0.8605)\n",
      "Loss: 0.05286775529384613\n",
      "iou: tensor(0.8923)\n",
      "Loss: 0.05934072285890579\n",
      "iou: tensor(0.9373)\n",
      "Loss: 0.052732933312654495\n",
      "iou: tensor(0.8623)\n",
      "Loss: 0.05415143072605133\n",
      "iou: tensor(0.9211)\n",
      "Loss: 0.07234485447406769\n",
      "iou: tensor(0.8465)\n",
      "Loss: 0.07780704647302628\n",
      "iou: tensor(0.8034)\n",
      "Validation Loss: 0.05505857467651367\n",
      "Epoch: 19\n"
     ]
    },
    {
     "data": {
      "application/vnd.jupyter.widget-view+json": {
       "model_id": "6b9f2917c52f4d238dc3ab518b10f90f",
       "version_major": 2,
       "version_minor": 0
      },
      "text/plain": [
       "  0%|          | 0/90 [00:00<?, ?it/s]"
      ]
     },
     "metadata": {},
     "output_type": "display_data"
    },
    {
     "name": "stdout",
     "output_type": "stream",
     "text": [
      "Loss: 0.07516306638717651\n",
      "iou: tensor(0.8323)\n",
      "Loss: 0.06404771655797958\n",
      "iou: tensor(0.9032)\n",
      "Loss: 0.05315140634775162\n",
      "iou: tensor(0.9350)\n",
      "Loss: 0.0588606521487236\n",
      "iou: tensor(0.8829)\n",
      "Loss: 0.04841219633817673\n",
      "iou: tensor(0.9091)\n",
      "Loss: 0.05885466933250427\n",
      "iou: tensor(0.8731)\n",
      "Loss: 0.050506383180618286\n",
      "iou: tensor(0.9257)\n",
      "Loss: 0.052734263241291046\n",
      "iou: tensor(0.8863)\n",
      "Loss: 0.05191384255886078\n",
      "iou: tensor(0.9170)\n",
      "Validation Loss: 0.05981079712510109\n",
      "Epoch: 20\n"
     ]
    },
    {
     "data": {
      "application/vnd.jupyter.widget-view+json": {
       "model_id": "2f7562a9779d4ba59a96d5a84b022355",
       "version_major": 2,
       "version_minor": 0
      },
      "text/plain": [
       "  0%|          | 0/90 [00:00<?, ?it/s]"
      ]
     },
     "metadata": {},
     "output_type": "display_data"
    },
    {
     "name": "stdout",
     "output_type": "stream",
     "text": [
      "Loss: 0.0522937998175621\n",
      "iou: tensor(0.9195)\n",
      "Loss: 0.09327855706214905\n",
      "iou: tensor(0.7826)\n",
      "Loss: 0.0492110475897789\n",
      "iou: tensor(0.8970)\n",
      "Loss: 0.0698314905166626\n",
      "iou: tensor(0.8952)\n",
      "Loss: 0.055679045617580414\n",
      "iou: tensor(0.9215)\n",
      "Loss: 0.06899745017290115\n",
      "iou: tensor(0.8307)\n",
      "Loss: 0.04964951425790787\n",
      "iou: tensor(0.9281)\n",
      "Loss: 0.05645463615655899\n",
      "iou: tensor(0.8770)\n",
      "Loss: 0.06135331466794014\n",
      "iou: tensor(0.8085)\n",
      "Validation Loss: 0.05301116593182087\n",
      "Epoch: 21\n"
     ]
    },
    {
     "data": {
      "application/vnd.jupyter.widget-view+json": {
       "model_id": "78dc9c17757c470dbffc7f5843838b6b",
       "version_major": 2,
       "version_minor": 0
      },
      "text/plain": [
       "  0%|          | 0/90 [00:00<?, ?it/s]"
      ]
     },
     "metadata": {},
     "output_type": "display_data"
    },
    {
     "name": "stdout",
     "output_type": "stream",
     "text": [
      "Loss: 0.06597777456045151\n",
      "iou: tensor(0.8958)\n",
      "Loss: 0.05195687711238861\n",
      "iou: tensor(0.8751)\n",
      "Loss: 0.060988761484622955\n",
      "iou: tensor(0.8394)\n",
      "Loss: 0.04949431121349335\n",
      "iou: tensor(0.9012)\n",
      "Loss: 0.06599348038434982\n",
      "iou: tensor(0.8518)\n",
      "Loss: 0.052324116230010986\n",
      "iou: tensor(0.9430)\n",
      "Loss: 0.05756779760122299\n",
      "iou: tensor(0.8973)\n",
      "Loss: 0.07468190789222717\n",
      "iou: tensor(0.8905)\n",
      "Loss: 0.06474056839942932\n",
      "iou: tensor(0.8870)\n",
      "Validation Loss: 0.05134502984583378\n",
      "Epoch: 22\n"
     ]
    },
    {
     "data": {
      "application/vnd.jupyter.widget-view+json": {
       "model_id": "64671b02ad2147e8b8bc376ab4f63fb0",
       "version_major": 2,
       "version_minor": 0
      },
      "text/plain": [
       "  0%|          | 0/90 [00:00<?, ?it/s]"
      ]
     },
     "metadata": {},
     "output_type": "display_data"
    },
    {
     "name": "stdout",
     "output_type": "stream",
     "text": [
      "Loss: 0.048202235251665115\n",
      "iou: tensor(0.9130)\n",
      "Loss: 0.051132503896951675\n",
      "iou: tensor(0.9106)\n",
      "Loss: 0.053596578538417816\n",
      "iou: tensor(0.8988)\n",
      "Loss: 0.05663425847887993\n",
      "iou: tensor(0.8839)\n",
      "Loss: 0.04813152179121971\n",
      "iou: tensor(0.9322)\n",
      "Loss: 0.049845799803733826\n",
      "iou: tensor(0.9310)\n",
      "Loss: 0.0455058328807354\n",
      "iou: tensor(0.9157)\n",
      "Loss: 0.050101205706596375\n",
      "iou: tensor(0.8837)\n",
      "Loss: 0.044277727603912354\n",
      "iou: tensor(0.9197)\n",
      "Validation Loss: 0.04987301006913185\n",
      "Epoch: 23\n"
     ]
    },
    {
     "data": {
      "application/vnd.jupyter.widget-view+json": {
       "model_id": "f34ddc02580a4610ad8f79d08a17a4bf",
       "version_major": 2,
       "version_minor": 0
      },
      "text/plain": [
       "  0%|          | 0/90 [00:00<?, ?it/s]"
      ]
     },
     "metadata": {},
     "output_type": "display_data"
    },
    {
     "name": "stdout",
     "output_type": "stream",
     "text": [
      "Loss: 0.05279666930437088\n",
      "iou: tensor(0.8802)\n",
      "Loss: 0.0469437912106514\n",
      "iou: tensor(0.9166)\n",
      "Loss: 0.04533277079463005\n",
      "iou: tensor(0.9189)\n",
      "Loss: 0.04892648756504059\n",
      "iou: tensor(0.8918)\n",
      "Loss: 0.04753983020782471\n",
      "iou: tensor(0.8522)\n",
      "Loss: 0.0484665185213089\n",
      "iou: tensor(0.8717)\n",
      "Loss: 0.04516208916902542\n",
      "iou: tensor(0.9387)\n",
      "Loss: 0.06164231523871422\n",
      "iou: tensor(0.8822)\n",
      "Loss: 0.048486772924661636\n",
      "iou: tensor(0.8941)\n",
      "Validation Loss: 0.048618819937109946\n",
      "Epoch: 24\n"
     ]
    },
    {
     "data": {
      "application/vnd.jupyter.widget-view+json": {
       "model_id": "70caa18c23634c9d835af3d44f2585d5",
       "version_major": 2,
       "version_minor": 0
      },
      "text/plain": [
       "  0%|          | 0/90 [00:00<?, ?it/s]"
      ]
     },
     "metadata": {},
     "output_type": "display_data"
    },
    {
     "name": "stdout",
     "output_type": "stream",
     "text": [
      "Loss: 0.04429297521710396\n",
      "iou: tensor(0.9017)\n",
      "Loss: 0.06498497724533081\n",
      "iou: tensor(0.8770)\n",
      "Loss: 0.045999277383089066\n",
      "iou: tensor(0.9166)\n",
      "Loss: 0.04973168671131134\n",
      "iou: tensor(0.8988)\n",
      "Loss: 0.04503513127565384\n",
      "iou: tensor(0.9147)\n",
      "Loss: 0.051776159554719925\n",
      "iou: tensor(0.9230)\n",
      "Loss: 0.04457109794020653\n",
      "iou: tensor(0.9148)\n",
      "Loss: 0.050674110651016235\n",
      "iou: tensor(0.9063)\n",
      "Loss: 0.05955742299556732\n",
      "iou: tensor(0.8964)\n",
      "Validation Loss: 0.04777919389307499\n",
      "Epoch: 25\n"
     ]
    },
    {
     "data": {
      "application/vnd.jupyter.widget-view+json": {
       "model_id": "d99edc5024b5412d8410dae4249e81f7",
       "version_major": 2,
       "version_minor": 0
      },
      "text/plain": [
       "  0%|          | 0/90 [00:00<?, ?it/s]"
      ]
     },
     "metadata": {},
     "output_type": "display_data"
    },
    {
     "name": "stdout",
     "output_type": "stream",
     "text": [
      "Loss: 0.04533538967370987\n",
      "iou: tensor(0.9225)\n",
      "Loss: 0.07715441286563873\n",
      "iou: tensor(0.8021)\n",
      "Loss: 0.04877172410488129\n",
      "iou: tensor(0.9011)\n",
      "Loss: 0.04549762234091759\n",
      "iou: tensor(0.9324)\n",
      "Loss: 0.044918276369571686\n",
      "iou: tensor(0.9128)\n",
      "Loss: 0.041246198117733\n",
      "iou: tensor(0.9256)\n",
      "Loss: 0.051096901297569275\n",
      "iou: tensor(0.8352)\n",
      "Loss: 0.05467890575528145\n",
      "iou: tensor(0.8682)\n",
      "Loss: 0.04317270964384079\n",
      "iou: tensor(0.9086)\n",
      "Validation Loss: 0.044782523438334464\n",
      "Epoch: 26\n"
     ]
    },
    {
     "data": {
      "application/vnd.jupyter.widget-view+json": {
       "model_id": "7bf47c8b548944a38563cb2c2ba0a088",
       "version_major": 2,
       "version_minor": 0
      },
      "text/plain": [
       "  0%|          | 0/90 [00:00<?, ?it/s]"
      ]
     },
     "metadata": {},
     "output_type": "display_data"
    },
    {
     "name": "stdout",
     "output_type": "stream",
     "text": [
      "Loss: 0.03892268240451813\n",
      "iou: tensor(0.9335)\n",
      "Loss: 0.050430215895175934\n",
      "iou: tensor(0.8964)\n",
      "Loss: 0.05009439215064049\n",
      "iou: tensor(0.8960)\n",
      "Loss: 0.058236028999090195\n",
      "iou: tensor(0.8876)\n",
      "Loss: 0.04654541611671448\n",
      "iou: tensor(0.9123)\n",
      "Loss: 0.04327750951051712\n",
      "iou: tensor(0.9152)\n",
      "Loss: 0.04166567325592041\n",
      "iou: tensor(0.9074)\n",
      "Loss: 0.04095183312892914\n",
      "iou: tensor(0.9244)\n",
      "Loss: 0.058681096881628036\n",
      "iou: tensor(0.8698)\n",
      "Validation Loss: 0.04647640362381935\n",
      "Epoch: 27\n"
     ]
    },
    {
     "data": {
      "application/vnd.jupyter.widget-view+json": {
       "model_id": "6a10c2d614fd485b974463710f5cc7c1",
       "version_major": 2,
       "version_minor": 0
      },
      "text/plain": [
       "  0%|          | 0/90 [00:00<?, ?it/s]"
      ]
     },
     "metadata": {},
     "output_type": "display_data"
    },
    {
     "name": "stdout",
     "output_type": "stream",
     "text": [
      "Loss: 0.05092782899737358\n",
      "iou: tensor(0.9422)\n",
      "Loss: 0.043450888246297836\n",
      "iou: tensor(0.9004)\n",
      "Loss: 0.04427395015954971\n",
      "iou: tensor(0.9423)\n",
      "Loss: 0.05669716000556946\n",
      "iou: tensor(0.8793)\n",
      "Loss: 0.04663454368710518\n",
      "iou: tensor(0.9092)\n",
      "Loss: 0.05646751448512077\n",
      "iou: tensor(0.9229)\n",
      "Loss: 0.04808273911476135\n",
      "iou: tensor(0.9122)\n",
      "Loss: 0.0422559455037117\n",
      "iou: tensor(0.9206)\n",
      "Loss: 0.04057891294360161\n",
      "iou: tensor(0.9378)\n",
      "Validation Loss: 0.044371867552399635\n",
      "Epoch: 28\n"
     ]
    },
    {
     "data": {
      "application/vnd.jupyter.widget-view+json": {
       "model_id": "9c25f2837a444bd5a452201033248895",
       "version_major": 2,
       "version_minor": 0
      },
      "text/plain": [
       "  0%|          | 0/90 [00:00<?, ?it/s]"
      ]
     },
     "metadata": {},
     "output_type": "display_data"
    },
    {
     "name": "stdout",
     "output_type": "stream",
     "text": [
      "Loss: 0.03476673364639282\n",
      "iou: tensor(0.9103)\n",
      "Loss: 0.07296694070100784\n",
      "iou: tensor(0.9160)\n",
      "Loss: 0.03706926852464676\n",
      "iou: tensor(0.9044)\n",
      "Loss: 0.044592224061489105\n",
      "iou: tensor(0.9177)\n",
      "Loss: 0.042726002633571625\n",
      "iou: tensor(0.9282)\n",
      "Loss: 0.05004161596298218\n",
      "iou: tensor(0.8780)\n",
      "Loss: 0.043504707515239716\n",
      "iou: tensor(0.9236)\n",
      "Loss: 0.056287411600351334\n",
      "iou: tensor(0.9274)\n",
      "Loss: 0.04972047358751297\n",
      "iou: tensor(0.8654)\n",
      "Validation Loss: 0.042568033933639525\n",
      "Epoch: 29\n"
     ]
    },
    {
     "data": {
      "application/vnd.jupyter.widget-view+json": {
       "model_id": "976b579d3f664786aa34d48170daaaf1",
       "version_major": 2,
       "version_minor": 0
      },
      "text/plain": [
       "  0%|          | 0/90 [00:00<?, ?it/s]"
      ]
     },
     "metadata": {},
     "output_type": "display_data"
    },
    {
     "name": "stdout",
     "output_type": "stream",
     "text": [
      "Loss: 0.03706207871437073\n",
      "iou: tensor(0.9360)\n",
      "Loss: 0.06277818977832794\n",
      "iou: tensor(0.8892)\n",
      "Loss: 0.04064391553401947\n",
      "iou: tensor(0.9433)\n",
      "Loss: 0.04395335540175438\n",
      "iou: tensor(0.8673)\n",
      "Loss: 0.06134144961833954\n",
      "iou: tensor(0.9064)\n",
      "Loss: 0.048839837312698364\n",
      "iou: tensor(0.8887)\n",
      "Loss: 0.03749285638332367\n",
      "iou: tensor(0.9193)\n",
      "Loss: 0.04637109115719795\n",
      "iou: tensor(0.9081)\n",
      "Loss: 0.0476275309920311\n",
      "iou: tensor(0.8806)\n",
      "Validation Loss: 0.043505624309182166\n",
      "Epoch: 30\n"
     ]
    },
    {
     "data": {
      "application/vnd.jupyter.widget-view+json": {
       "model_id": "c715e758b0a6459bb9a2c5c928737a77",
       "version_major": 2,
       "version_minor": 0
      },
      "text/plain": [
       "  0%|          | 0/90 [00:00<?, ?it/s]"
      ]
     },
     "metadata": {},
     "output_type": "display_data"
    },
    {
     "name": "stdout",
     "output_type": "stream",
     "text": [
      "Loss: 0.04390577971935272\n",
      "iou: tensor(0.9074)\n",
      "Loss: 0.03699667751789093\n",
      "iou: tensor(0.9447)\n",
      "Loss: 0.03817322850227356\n",
      "iou: tensor(0.8825)\n",
      "Loss: 0.05898745357990265\n",
      "iou: tensor(0.8828)\n",
      "Loss: 0.0403837189078331\n",
      "iou: tensor(0.9286)\n",
      "Loss: 0.03741272911429405\n",
      "iou: tensor(0.9192)\n",
      "Loss: 0.0454271137714386\n",
      "iou: tensor(0.9289)\n",
      "Loss: 0.038116514682769775\n",
      "iou: tensor(0.9055)\n",
      "Loss: 0.09677726030349731\n",
      "iou: tensor(0.8312)\n",
      "Validation Loss: 0.04321446232497692\n",
      "Epoch: 31\n"
     ]
    },
    {
     "data": {
      "application/vnd.jupyter.widget-view+json": {
       "model_id": "a1056ccb54864649bc6bc13ee0183b96",
       "version_major": 2,
       "version_minor": 0
      },
      "text/plain": [
       "  0%|          | 0/90 [00:00<?, ?it/s]"
      ]
     },
     "metadata": {},
     "output_type": "display_data"
    },
    {
     "name": "stdout",
     "output_type": "stream",
     "text": [
      "Loss: 0.044292908161878586\n",
      "iou: tensor(0.9248)\n",
      "Loss: 0.04033075273036957\n",
      "iou: tensor(0.9177)\n",
      "Loss: 0.04132647067308426\n",
      "iou: tensor(0.9331)\n",
      "Loss: 0.03762992471456528\n",
      "iou: tensor(0.9291)\n",
      "Loss: 0.050849899649620056\n",
      "iou: tensor(0.9146)\n",
      "Loss: 0.03612209111452103\n",
      "iou: tensor(0.9080)\n",
      "Loss: 0.044597551226615906\n",
      "iou: tensor(0.9193)\n",
      "Loss: 0.03590221703052521\n",
      "iou: tensor(0.9150)\n",
      "Loss: 0.05487081781029701\n",
      "iou: tensor(0.9066)\n",
      "Validation Loss: 0.04038351774215698\n",
      "Epoch: 32\n"
     ]
    },
    {
     "data": {
      "application/vnd.jupyter.widget-view+json": {
       "model_id": "a2c1fbf1ae7d44819d1a1976791b82fd",
       "version_major": 2,
       "version_minor": 0
      },
      "text/plain": [
       "  0%|          | 0/90 [00:00<?, ?it/s]"
      ]
     },
     "metadata": {},
     "output_type": "display_data"
    },
    {
     "name": "stdout",
     "output_type": "stream",
     "text": [
      "Loss: 0.03662613779306412\n",
      "iou: tensor(0.9297)\n",
      "Loss: 0.03555384650826454\n",
      "iou: tensor(0.9455)\n",
      "Loss: 0.0461873896420002\n",
      "iou: tensor(0.8629)\n",
      "Loss: 0.04503428936004639\n",
      "iou: tensor(0.9111)\n",
      "Loss: 0.034856244921684265\n",
      "iou: tensor(0.9228)\n",
      "Loss: 0.055394478142261505\n",
      "iou: tensor(0.9058)\n",
      "Loss: 0.03635546937584877\n",
      "iou: tensor(0.9291)\n",
      "Loss: 0.039007894694805145\n",
      "iou: tensor(0.9043)\n",
      "Loss: 0.04776810109615326\n",
      "iou: tensor(0.9181)\n",
      "Validation Loss: 0.04086831286549568\n",
      "Epoch: 33\n"
     ]
    },
    {
     "data": {
      "application/vnd.jupyter.widget-view+json": {
       "model_id": "4f1953f824bf4567995e6d23b9fc225b",
       "version_major": 2,
       "version_minor": 0
      },
      "text/plain": [
       "  0%|          | 0/90 [00:00<?, ?it/s]"
      ]
     },
     "metadata": {},
     "output_type": "display_data"
    },
    {
     "name": "stdout",
     "output_type": "stream",
     "text": [
      "Loss: 0.04454600438475609\n",
      "iou: tensor(0.9366)\n",
      "Loss: 0.04599500447511673\n",
      "iou: tensor(0.9031)\n",
      "Loss: 0.04731252044439316\n",
      "iou: tensor(0.9019)\n",
      "Loss: 0.051210179924964905\n",
      "iou: tensor(0.9269)\n",
      "Loss: 0.05400567874312401\n",
      "iou: tensor(0.9276)\n",
      "Loss: 0.037016361951828\n",
      "iou: tensor(0.9217)\n",
      "Loss: 0.03961360454559326\n",
      "iou: tensor(0.9399)\n",
      "Loss: 0.04129842668771744\n",
      "iou: tensor(0.9069)\n",
      "Loss: 0.043743886053562164\n",
      "iou: tensor(0.8840)\n",
      "Validation Loss: 0.03940465934574604\n",
      "Epoch: 34\n"
     ]
    },
    {
     "data": {
      "application/vnd.jupyter.widget-view+json": {
       "model_id": "6aea7334b4cd4dbbbb111343832141fe",
       "version_major": 2,
       "version_minor": 0
      },
      "text/plain": [
       "  0%|          | 0/90 [00:00<?, ?it/s]"
      ]
     },
     "metadata": {},
     "output_type": "display_data"
    },
    {
     "name": "stdout",
     "output_type": "stream",
     "text": [
      "Loss: 0.04552611708641052\n",
      "iou: tensor(0.8636)\n",
      "Loss: 0.03661934286355972\n",
      "iou: tensor(0.8933)\n",
      "Loss: 0.039222799241542816\n",
      "iou: tensor(0.9374)\n",
      "Loss: 0.03746313601732254\n",
      "iou: tensor(0.9421)\n",
      "Loss: 0.040449801832437515\n",
      "iou: tensor(0.8918)\n",
      "Loss: 0.03574028238654137\n",
      "iou: tensor(0.9300)\n",
      "Loss: 0.035619817674160004\n",
      "iou: tensor(0.9350)\n",
      "Loss: 0.036934781819581985\n",
      "iou: tensor(0.9134)\n",
      "Loss: 0.04263955354690552\n",
      "iou: tensor(0.9039)\n",
      "Validation Loss: 0.040636594966053964\n",
      "Epoch: 35\n"
     ]
    },
    {
     "data": {
      "application/vnd.jupyter.widget-view+json": {
       "model_id": "7a30f6ff0cb842b792e4f1b09e43ba34",
       "version_major": 2,
       "version_minor": 0
      },
      "text/plain": [
       "  0%|          | 0/90 [00:00<?, ?it/s]"
      ]
     },
     "metadata": {},
     "output_type": "display_data"
    },
    {
     "name": "stdout",
     "output_type": "stream",
     "text": [
      "Loss: 0.03698959946632385\n",
      "iou: tensor(0.8841)\n",
      "Loss: 0.05922313034534454\n",
      "iou: tensor(0.8613)\n",
      "Loss: 0.03273164480924606\n",
      "iou: tensor(0.9136)\n",
      "Loss: 0.038144491612911224\n",
      "iou: tensor(0.9353)\n",
      "Loss: 0.05977080017328262\n",
      "iou: tensor(0.9329)\n",
      "Loss: 0.03471987694501877\n",
      "iou: tensor(0.9282)\n",
      "Loss: 0.03656749054789543\n",
      "iou: tensor(0.9331)\n",
      "Loss: 0.032646723091602325\n",
      "iou: tensor(0.9317)\n",
      "Loss: 0.05155155807733536\n",
      "iou: tensor(0.8913)\n",
      "Validation Loss: 0.038008113577961924\n",
      "Epoch: 36\n"
     ]
    },
    {
     "data": {
      "application/vnd.jupyter.widget-view+json": {
       "model_id": "413a6c6ab647495abda7dbfc188d2d3f",
       "version_major": 2,
       "version_minor": 0
      },
      "text/plain": [
       "  0%|          | 0/90 [00:00<?, ?it/s]"
      ]
     },
     "metadata": {},
     "output_type": "display_data"
    },
    {
     "name": "stdout",
     "output_type": "stream",
     "text": [
      "Loss: 0.06119426712393761\n",
      "iou: tensor(0.8241)\n",
      "Loss: 0.04147017002105713\n",
      "iou: tensor(0.9075)\n",
      "Loss: 0.03433666750788689\n",
      "iou: tensor(0.9316)\n",
      "Loss: 0.03526269644498825\n",
      "iou: tensor(0.9048)\n",
      "Loss: 0.046869613230228424\n",
      "iou: tensor(0.8783)\n",
      "Loss: 0.03433241695165634\n",
      "iou: tensor(0.9068)\n",
      "Loss: 0.0404718741774559\n",
      "iou: tensor(0.9490)\n",
      "Loss: 0.03677218407392502\n",
      "iou: tensor(0.8815)\n",
      "Loss: 0.03872025012969971\n",
      "iou: tensor(0.9081)\n",
      "Validation Loss: 0.03870956636965275\n",
      "Epoch: 37\n"
     ]
    },
    {
     "data": {
      "application/vnd.jupyter.widget-view+json": {
       "model_id": "cfb4502df0994564b96c56d421fea1d3",
       "version_major": 2,
       "version_minor": 0
      },
      "text/plain": [
       "  0%|          | 0/90 [00:00<?, ?it/s]"
      ]
     },
     "metadata": {},
     "output_type": "display_data"
    },
    {
     "name": "stdout",
     "output_type": "stream",
     "text": [
      "Loss: 0.03117554448544979\n",
      "iou: tensor(0.9529)\n",
      "Loss: 0.03769303858280182\n",
      "iou: tensor(0.8856)\n",
      "Loss: 0.034244880080223083\n",
      "iou: tensor(0.9335)\n",
      "Loss: 0.03657913953065872\n",
      "iou: tensor(0.9247)\n",
      "Loss: 0.04238051921129227\n",
      "iou: tensor(0.8873)\n",
      "Loss: 0.03243502974510193\n",
      "iou: tensor(0.9355)\n",
      "Loss: 0.04712029546499252\n",
      "iou: tensor(0.8963)\n",
      "Loss: 0.033602286130189896\n",
      "iou: tensor(0.9161)\n",
      "Loss: 0.03562208265066147\n",
      "iou: tensor(0.9545)\n",
      "Validation Loss: 0.03895389437675476\n",
      "Epoch: 38\n"
     ]
    },
    {
     "data": {
      "application/vnd.jupyter.widget-view+json": {
       "model_id": "f9f0aeef7dea4d3fa9653cda9862be65",
       "version_major": 2,
       "version_minor": 0
      },
      "text/plain": [
       "  0%|          | 0/90 [00:00<?, ?it/s]"
      ]
     },
     "metadata": {},
     "output_type": "display_data"
    },
    {
     "name": "stdout",
     "output_type": "stream",
     "text": [
      "Loss: 0.040780842304229736\n",
      "iou: tensor(0.9330)\n",
      "Loss: 0.03759706765413284\n",
      "iou: tensor(0.8924)\n",
      "Loss: 0.04266675189137459\n",
      "iou: tensor(0.9262)\n",
      "Loss: 0.03544238954782486\n",
      "iou: tensor(0.9358)\n",
      "Loss: 0.03718685358762741\n",
      "iou: tensor(0.9389)\n",
      "Loss: 0.03215653449296951\n",
      "iou: tensor(0.9310)\n",
      "Loss: 0.03300362080335617\n",
      "iou: tensor(0.9491)\n",
      "Loss: 0.032454490661621094\n",
      "iou: tensor(0.9270)\n",
      "Loss: 0.03558532893657684\n",
      "iou: tensor(0.9435)\n",
      "Validation Loss: 0.037977158650755884\n",
      "Epoch: 39\n"
     ]
    },
    {
     "data": {
      "application/vnd.jupyter.widget-view+json": {
       "model_id": "e633edca914348bcabcb94ec169b5d04",
       "version_major": 2,
       "version_minor": 0
      },
      "text/plain": [
       "  0%|          | 0/90 [00:00<?, ?it/s]"
      ]
     },
     "metadata": {},
     "output_type": "display_data"
    },
    {
     "name": "stdout",
     "output_type": "stream",
     "text": [
      "Loss: 0.032834041863679886\n",
      "iou: tensor(0.9360)\n",
      "Loss: 0.04396193102002144\n",
      "iou: tensor(0.8941)\n",
      "Loss: 0.033432796597480774\n",
      "iou: tensor(0.9258)\n",
      "Loss: 0.04283547401428223\n",
      "iou: tensor(0.9089)\n",
      "Loss: 0.04077553749084473\n",
      "iou: tensor(0.9125)\n",
      "Loss: 0.05432697385549545\n",
      "iou: tensor(0.8728)\n",
      "Loss: 0.03543855622410774\n",
      "iou: tensor(0.9405)\n",
      "Loss: 0.028334341943264008\n",
      "iou: tensor(0.9482)\n",
      "Loss: 0.048323146998882294\n",
      "iou: tensor(0.8870)\n",
      "Validation Loss: 0.03673427551984787\n",
      "Epoch: 40\n"
     ]
    },
    {
     "data": {
      "application/vnd.jupyter.widget-view+json": {
       "model_id": "e762c26e5f284fcda20eb76173900b56",
       "version_major": 2,
       "version_minor": 0
      },
      "text/plain": [
       "  0%|          | 0/90 [00:00<?, ?it/s]"
      ]
     },
     "metadata": {},
     "output_type": "display_data"
    },
    {
     "name": "stdout",
     "output_type": "stream",
     "text": [
      "Loss: 0.04455406218767166\n",
      "iou: tensor(0.9287)\n",
      "Loss: 0.03845854848623276\n",
      "iou: tensor(0.8880)\n",
      "Loss: 0.028914641588926315\n",
      "iou: tensor(0.9312)\n",
      "Loss: 0.037677645683288574\n",
      "iou: tensor(0.9380)\n",
      "Loss: 0.043413206934928894\n",
      "iou: tensor(0.9059)\n",
      "Loss: 0.037232041358947754\n",
      "iou: tensor(0.9027)\n",
      "Loss: 0.03223394602537155\n",
      "iou: tensor(0.9565)\n",
      "Loss: 0.10884180665016174\n",
      "iou: tensor(0.7375)\n",
      "Loss: 0.05429832637310028\n",
      "iou: tensor(0.8228)\n",
      "Validation Loss: 0.0374202374368906\n",
      "Epoch: 41\n"
     ]
    },
    {
     "data": {
      "application/vnd.jupyter.widget-view+json": {
       "model_id": "31382a5df6f546d8b027309363e323f7",
       "version_major": 2,
       "version_minor": 0
      },
      "text/plain": [
       "  0%|          | 0/90 [00:00<?, ?it/s]"
      ]
     },
     "metadata": {},
     "output_type": "display_data"
    },
    {
     "name": "stdout",
     "output_type": "stream",
     "text": [
      "Loss: 0.05321357399225235\n",
      "iou: tensor(0.8833)\n",
      "Loss: 0.04628226161003113\n",
      "iou: tensor(0.8849)\n",
      "Loss: 0.034335434436798096\n",
      "iou: tensor(0.9221)\n",
      "Loss: 0.032900843769311905\n",
      "iou: tensor(0.9379)\n",
      "Loss: 0.03515932708978653\n",
      "iou: tensor(0.9233)\n",
      "Loss: 0.03840472921729088\n",
      "iou: tensor(0.9387)\n",
      "Loss: 0.03193839639425278\n",
      "iou: tensor(0.9170)\n",
      "Loss: 0.04076426848769188\n",
      "iou: tensor(0.9048)\n",
      "Loss: 0.03956069424748421\n",
      "iou: tensor(0.9254)\n",
      "Validation Loss: 0.036219087243080136\n",
      "Epoch: 42\n"
     ]
    },
    {
     "data": {
      "application/vnd.jupyter.widget-view+json": {
       "model_id": "e03b8700dee94900951a78d6654c9414",
       "version_major": 2,
       "version_minor": 0
      },
      "text/plain": [
       "  0%|          | 0/90 [00:00<?, ?it/s]"
      ]
     },
     "metadata": {},
     "output_type": "display_data"
    },
    {
     "name": "stdout",
     "output_type": "stream",
     "text": [
      "Loss: 0.0367104709148407\n",
      "iou: tensor(0.9127)\n",
      "Loss: 0.032939374446868896\n",
      "iou: tensor(0.9352)\n",
      "Loss: 0.03198562562465668\n",
      "iou: tensor(0.9306)\n",
      "Loss: 0.0301668643951416\n",
      "iou: tensor(0.9462)\n",
      "Loss: 0.04022300988435745\n",
      "iou: tensor(0.9453)\n",
      "Loss: 0.035130348056554794\n",
      "iou: tensor(0.9356)\n",
      "Loss: 0.03808089345693588\n",
      "iou: tensor(0.9249)\n",
      "Loss: 0.030277490615844727\n",
      "iou: tensor(0.9379)\n",
      "Loss: 0.029529273509979248\n",
      "iou: tensor(0.9376)\n",
      "Validation Loss: 0.03592132143676281\n",
      "Epoch: 43\n"
     ]
    },
    {
     "data": {
      "application/vnd.jupyter.widget-view+json": {
       "model_id": "6f7bfc22fd7f4b94856c88d672d7728d",
       "version_major": 2,
       "version_minor": 0
      },
      "text/plain": [
       "  0%|          | 0/90 [00:00<?, ?it/s]"
      ]
     },
     "metadata": {},
     "output_type": "display_data"
    },
    {
     "name": "stdout",
     "output_type": "stream",
     "text": [
      "Loss: 0.02858511358499527\n",
      "iou: tensor(0.9522)\n",
      "Loss: 0.03646550700068474\n",
      "iou: tensor(0.9311)\n",
      "Loss: 0.03049047663807869\n",
      "iou: tensor(0.9358)\n",
      "Loss: 0.03136264532804489\n",
      "iou: tensor(0.9348)\n",
      "Loss: 0.034677885472774506\n",
      "iou: tensor(0.9251)\n",
      "Loss: 0.03459253907203674\n",
      "iou: tensor(0.9512)\n",
      "Loss: 0.05310268700122833\n",
      "iou: tensor(0.8716)\n",
      "Loss: 0.02798030525445938\n",
      "iou: tensor(0.9411)\n",
      "Loss: 0.02790365368127823\n",
      "iou: tensor(0.9448)\n",
      "Validation Loss: 0.03405191749334335\n",
      "Epoch: 44\n"
     ]
    },
    {
     "data": {
      "application/vnd.jupyter.widget-view+json": {
       "model_id": "88d47093028940b7afc5ca7d3e7791e6",
       "version_major": 2,
       "version_minor": 0
      },
      "text/plain": [
       "  0%|          | 0/90 [00:00<?, ?it/s]"
      ]
     },
     "metadata": {},
     "output_type": "display_data"
    },
    {
     "name": "stdout",
     "output_type": "stream",
     "text": [
      "Loss: 0.0285763181746006\n",
      "iou: tensor(0.9554)\n",
      "Loss: 0.02804771065711975\n",
      "iou: tensor(0.9515)\n",
      "Loss: 0.032575879245996475\n",
      "iou: tensor(0.9300)\n",
      "Loss: 0.03183775395154953\n",
      "iou: tensor(0.9331)\n",
      "Loss: 0.031266190111637115\n",
      "iou: tensor(0.9534)\n",
      "Loss: 0.028731223195791245\n",
      "iou: tensor(0.9299)\n",
      "Loss: 0.04134421795606613\n",
      "iou: tensor(0.9278)\n",
      "Loss: 0.02900386042892933\n",
      "iou: tensor(0.9450)\n",
      "Loss: 0.027617009356617928\n",
      "iou: tensor(0.9357)\n",
      "Validation Loss: 0.03327728062868118\n",
      "Epoch: 45\n"
     ]
    },
    {
     "data": {
      "application/vnd.jupyter.widget-view+json": {
       "model_id": "3b2e3d6eb9e44d8eab5ac5003df803fb",
       "version_major": 2,
       "version_minor": 0
      },
      "text/plain": [
       "  0%|          | 0/90 [00:00<?, ?it/s]"
      ]
     },
     "metadata": {},
     "output_type": "display_data"
    },
    {
     "name": "stdout",
     "output_type": "stream",
     "text": [
      "Loss: 0.04298130422830582\n",
      "iou: tensor(0.9008)\n",
      "Loss: 0.025535665452480316\n",
      "iou: tensor(0.9484)\n",
      "Loss: 0.02892107516527176\n",
      "iou: tensor(0.9496)\n",
      "Loss: 0.029129277914762497\n",
      "iou: tensor(0.9513)\n",
      "Loss: 0.029296915978193283\n",
      "iou: tensor(0.9381)\n",
      "Loss: 0.03055257722735405\n",
      "iou: tensor(0.9464)\n",
      "Loss: 0.028517574071884155\n",
      "iou: tensor(0.9458)\n",
      "Loss: 0.06298726797103882\n",
      "iou: tensor(0.8946)\n",
      "Loss: 0.029452400282025337\n",
      "iou: tensor(0.9356)\n",
      "Validation Loss: 0.0338096771389246\n",
      "Epoch: 46\n"
     ]
    },
    {
     "data": {
      "application/vnd.jupyter.widget-view+json": {
       "model_id": "b3b90023f977476e9b0822267657841c",
       "version_major": 2,
       "version_minor": 0
      },
      "text/plain": [
       "  0%|          | 0/90 [00:00<?, ?it/s]"
      ]
     },
     "metadata": {},
     "output_type": "display_data"
    },
    {
     "name": "stdout",
     "output_type": "stream",
     "text": [
      "Loss: 0.02789805270731449\n",
      "iou: tensor(0.9419)\n",
      "Loss: 0.03391146659851074\n",
      "iou: tensor(0.9247)\n",
      "Loss: 0.029241252690553665\n",
      "iou: tensor(0.9459)\n",
      "Loss: 0.03542330116033554\n",
      "iou: tensor(0.9400)\n",
      "Loss: 0.03225330635905266\n",
      "iou: tensor(0.9368)\n",
      "Loss: 0.030001236125826836\n",
      "iou: tensor(0.9187)\n",
      "Loss: 0.07175227999687195\n",
      "iou: tensor(0.7908)\n",
      "Loss: 0.04378385841846466\n",
      "iou: tensor(0.9194)\n",
      "Loss: 0.04045648127794266\n",
      "iou: tensor(0.9325)\n",
      "Validation Loss: 0.03640827722847462\n",
      "Epoch: 47\n"
     ]
    },
    {
     "data": {
      "application/vnd.jupyter.widget-view+json": {
       "model_id": "e6c2e55fb5124109b24dab41c05feb5e",
       "version_major": 2,
       "version_minor": 0
      },
      "text/plain": [
       "  0%|          | 0/90 [00:00<?, ?it/s]"
      ]
     },
     "metadata": {},
     "output_type": "display_data"
    },
    {
     "name": "stdout",
     "output_type": "stream",
     "text": [
      "Loss: 0.050284627825021744\n",
      "iou: tensor(0.9279)\n",
      "Loss: 0.03565113618969917\n",
      "iou: tensor(0.9342)\n",
      "Loss: 0.028208112344145775\n",
      "iou: tensor(0.9509)\n",
      "Loss: 0.037636108696460724\n",
      "iou: tensor(0.9123)\n",
      "Loss: 0.033037714660167694\n",
      "iou: tensor(0.9401)\n",
      "Loss: 0.03438376262784004\n",
      "iou: tensor(0.9359)\n",
      "Loss: 0.03280176222324371\n",
      "iou: tensor(0.9207)\n",
      "Loss: 0.027300797402858734\n",
      "iou: tensor(0.9545)\n",
      "Loss: 0.03800570219755173\n",
      "iou: tensor(0.9341)\n",
      "Validation Loss: 0.03470542747527361\n",
      "Epoch: 48\n"
     ]
    },
    {
     "data": {
      "application/vnd.jupyter.widget-view+json": {
       "model_id": "68ac47ed4af24f94a017710ae9552771",
       "version_major": 2,
       "version_minor": 0
      },
      "text/plain": [
       "  0%|          | 0/90 [00:00<?, ?it/s]"
      ]
     },
     "metadata": {},
     "output_type": "display_data"
    },
    {
     "name": "stdout",
     "output_type": "stream",
     "text": [
      "Loss: 0.027508268132805824\n",
      "iou: tensor(0.9241)\n",
      "Loss: 0.025418099015951157\n",
      "iou: tensor(0.9469)\n",
      "Loss: 0.04038955271244049\n",
      "iou: tensor(0.9326)\n",
      "Loss: 0.03345353156328201\n",
      "iou: tensor(0.9341)\n",
      "Loss: 0.030708644539117813\n",
      "iou: tensor(0.9325)\n",
      "Loss: 0.038977671414613724\n",
      "iou: tensor(0.9303)\n",
      "Loss: 0.032518550753593445\n",
      "iou: tensor(0.9211)\n",
      "Loss: 0.033089779317379\n",
      "iou: tensor(0.9309)\n",
      "Loss: 0.03417634963989258\n",
      "iou: tensor(0.9361)\n",
      "Validation Loss: 0.03357184920459986\n",
      "Epoch: 49\n"
     ]
    },
    {
     "data": {
      "application/vnd.jupyter.widget-view+json": {
       "model_id": "756671934d564bb4b58e1fd87aeb55d2",
       "version_major": 2,
       "version_minor": 0
      },
      "text/plain": [
       "  0%|          | 0/90 [00:00<?, ?it/s]"
      ]
     },
     "metadata": {},
     "output_type": "display_data"
    },
    {
     "name": "stdout",
     "output_type": "stream",
     "text": [
      "Loss: 0.04019372910261154\n",
      "iou: tensor(0.9150)\n",
      "Loss: 0.037041228264570236\n",
      "iou: tensor(0.9196)\n",
      "Loss: 0.02865350805222988\n",
      "iou: tensor(0.9357)\n",
      "Loss: 0.02979874610900879\n",
      "iou: tensor(0.9271)\n",
      "Loss: 0.036165136843919754\n",
      "iou: tensor(0.9385)\n",
      "Loss: 0.033215880393981934\n",
      "iou: tensor(0.9256)\n",
      "Loss: 0.03038848377764225\n",
      "iou: tensor(0.9617)\n",
      "Loss: 0.026470398530364037\n",
      "iou: tensor(0.9427)\n",
      "Loss: 0.03622490167617798\n",
      "iou: tensor(0.9437)\n",
      "Validation Loss: 0.03280929904431105\n",
      "Epoch: 50\n"
     ]
    },
    {
     "data": {
      "application/vnd.jupyter.widget-view+json": {
       "model_id": "a40ef9289be14dcc93fd8e9c2203226b",
       "version_major": 2,
       "version_minor": 0
      },
      "text/plain": [
       "  0%|          | 0/90 [00:00<?, ?it/s]"
      ]
     },
     "metadata": {},
     "output_type": "display_data"
    },
    {
     "name": "stdout",
     "output_type": "stream",
     "text": [
      "Loss: 0.03232858330011368\n",
      "iou: tensor(0.9232)\n",
      "Loss: 0.02533896267414093\n",
      "iou: tensor(0.9563)\n",
      "Loss: 0.03226771205663681\n",
      "iou: tensor(0.9178)\n",
      "Loss: 0.04336465150117874\n",
      "iou: tensor(0.9520)\n",
      "Loss: 0.03985726833343506\n",
      "iou: tensor(0.9139)\n",
      "Loss: 0.03315941244363785\n",
      "iou: tensor(0.9168)\n",
      "Loss: 0.02864464744925499\n",
      "iou: tensor(0.9508)\n",
      "Loss: 0.02828308753669262\n",
      "iou: tensor(0.9421)\n",
      "Loss: 0.026506608352065086\n",
      "iou: tensor(0.9577)\n",
      "Validation Loss: 0.031809001602232455\n",
      "Epoch: 51\n"
     ]
    },
    {
     "data": {
      "application/vnd.jupyter.widget-view+json": {
       "model_id": "73cf763878014681aa02ec9e23156c9a",
       "version_major": 2,
       "version_minor": 0
      },
      "text/plain": [
       "  0%|          | 0/90 [00:00<?, ?it/s]"
      ]
     },
     "metadata": {},
     "output_type": "display_data"
    },
    {
     "name": "stdout",
     "output_type": "stream",
     "text": [
      "Loss: 0.03623484820127487\n",
      "iou: tensor(0.9145)\n",
      "Loss: 0.08169643580913544\n",
      "iou: tensor(0.7991)\n",
      "Loss: 0.02865666151046753\n",
      "iou: tensor(0.9393)\n",
      "Loss: 0.02540268376469612\n",
      "iou: tensor(0.9471)\n",
      "Loss: 0.02673286199569702\n",
      "iou: tensor(0.9647)\n",
      "Loss: 0.03562600910663605\n",
      "iou: tensor(0.9241)\n",
      "Loss: 0.03294133394956589\n",
      "iou: tensor(0.9467)\n",
      "Loss: 0.03344373032450676\n",
      "iou: tensor(0.9326)\n",
      "Loss: 0.033110689371824265\n",
      "iou: tensor(0.9495)\n",
      "Validation Loss: 0.03129478711634874\n",
      "Epoch: 52\n"
     ]
    },
    {
     "data": {
      "application/vnd.jupyter.widget-view+json": {
       "model_id": "46563968d660494f86dcf226cb1e83b7",
       "version_major": 2,
       "version_minor": 0
      },
      "text/plain": [
       "  0%|          | 0/90 [00:00<?, ?it/s]"
      ]
     },
     "metadata": {},
     "output_type": "display_data"
    },
    {
     "name": "stdout",
     "output_type": "stream",
     "text": [
      "Loss: 0.024954121559858322\n",
      "iou: tensor(0.9481)\n",
      "Loss: 0.033192843198776245\n",
      "iou: tensor(0.9441)\n",
      "Loss: 0.02454521507024765\n",
      "iou: tensor(0.9357)\n",
      "Loss: 0.028145622462034225\n",
      "iou: tensor(0.9547)\n",
      "Loss: 0.038093142211437225\n",
      "iou: tensor(0.9444)\n",
      "Loss: 0.025507818907499313\n",
      "iou: tensor(0.9418)\n",
      "Loss: 0.02770824357867241\n",
      "iou: tensor(0.9622)\n",
      "Loss: 0.1684579849243164\n",
      "iou: tensor(0.5578)\n",
      "Loss: 0.05845477804541588\n",
      "iou: tensor(0.8717)\n",
      "Validation Loss: 0.03354378715157509\n",
      "Epoch: 53\n"
     ]
    },
    {
     "data": {
      "application/vnd.jupyter.widget-view+json": {
       "model_id": "b42e39393f0d43dcacb58d5a149b7687",
       "version_major": 2,
       "version_minor": 0
      },
      "text/plain": [
       "  0%|          | 0/90 [00:00<?, ?it/s]"
      ]
     },
     "metadata": {},
     "output_type": "display_data"
    },
    {
     "name": "stdout",
     "output_type": "stream",
     "text": [
      "Loss: 0.026902541518211365\n",
      "iou: tensor(0.9420)\n",
      "Loss: 0.025193952023983\n",
      "iou: tensor(0.9582)\n",
      "Loss: 0.029410336166620255\n",
      "iou: tensor(0.9317)\n",
      "Loss: 0.02675454691052437\n",
      "iou: tensor(0.9164)\n",
      "Loss: 0.02840683050453663\n",
      "iou: tensor(0.9636)\n",
      "Loss: 0.029053475707769394\n",
      "iou: tensor(0.9331)\n",
      "Loss: 0.028004057705402374\n",
      "iou: tensor(0.9619)\n",
      "Loss: 0.04210103303194046\n",
      "iou: tensor(0.9429)\n",
      "Loss: 0.03192966431379318\n",
      "iou: tensor(0.9421)\n",
      "Validation Loss: 0.03179616816341877\n",
      "Epoch: 54\n"
     ]
    },
    {
     "data": {
      "application/vnd.jupyter.widget-view+json": {
       "model_id": "f8fe322fdfbc410ebaa32374c7dd7656",
       "version_major": 2,
       "version_minor": 0
      },
      "text/plain": [
       "  0%|          | 0/90 [00:00<?, ?it/s]"
      ]
     },
     "metadata": {},
     "output_type": "display_data"
    },
    {
     "name": "stdout",
     "output_type": "stream",
     "text": [
      "Loss: 0.025167018175125122\n",
      "iou: tensor(0.9587)\n",
      "Loss: 0.025593360885977745\n",
      "iou: tensor(0.9462)\n",
      "Loss: 0.028058059513568878\n",
      "iou: tensor(0.9369)\n",
      "Loss: 0.03047466091811657\n",
      "iou: tensor(0.9432)\n",
      "Loss: 0.03130272030830383\n",
      "iou: tensor(0.9563)\n",
      "Loss: 0.028817512094974518\n",
      "iou: tensor(0.9259)\n",
      "Loss: 0.03281763568520546\n",
      "iou: tensor(0.9358)\n",
      "Loss: 0.02743508107960224\n",
      "iou: tensor(0.9419)\n",
      "Loss: 0.036062270402908325\n",
      "iou: tensor(0.9245)\n",
      "Validation Loss: 0.03042032551020384\n",
      "Epoch: 55\n"
     ]
    },
    {
     "data": {
      "application/vnd.jupyter.widget-view+json": {
       "model_id": "3422b16c23944715970dbe5f9e5a7cbe",
       "version_major": 2,
       "version_minor": 0
      },
      "text/plain": [
       "  0%|          | 0/90 [00:00<?, ?it/s]"
      ]
     },
     "metadata": {},
     "output_type": "display_data"
    },
    {
     "name": "stdout",
     "output_type": "stream",
     "text": [
      "Loss: 0.02457299828529358\n",
      "iou: tensor(0.9459)\n",
      "Loss: 0.033601243048906326\n",
      "iou: tensor(0.9268)\n",
      "Loss: 0.03305821865797043\n",
      "iou: tensor(0.9512)\n",
      "Loss: 0.026303783059120178\n",
      "iou: tensor(0.9425)\n",
      "Loss: 0.02671310491859913\n",
      "iou: tensor(0.9498)\n",
      "Loss: 0.02803802490234375\n",
      "iou: tensor(0.9451)\n",
      "Loss: 0.02522730827331543\n",
      "iou: tensor(0.9531)\n",
      "Loss: 0.030362503603100777\n",
      "iou: tensor(0.9307)\n",
      "Loss: 0.03057117387652397\n",
      "iou: tensor(0.9490)\n",
      "Validation Loss: 0.031123344972729682\n",
      "Epoch: 56\n"
     ]
    },
    {
     "data": {
      "application/vnd.jupyter.widget-view+json": {
       "model_id": "c6318e8e766f48d9b73c686f4cf0acb9",
       "version_major": 2,
       "version_minor": 0
      },
      "text/plain": [
       "  0%|          | 0/90 [00:00<?, ?it/s]"
      ]
     },
     "metadata": {},
     "output_type": "display_data"
    },
    {
     "name": "stdout",
     "output_type": "stream",
     "text": [
      "Loss: 0.02787807397544384\n",
      "iou: tensor(0.9493)\n",
      "Loss: 0.03968893364071846\n",
      "iou: tensor(0.9111)\n",
      "Loss: 0.025572892278432846\n",
      "iou: tensor(0.9507)\n",
      "Loss: 0.026693087071180344\n",
      "iou: tensor(0.9483)\n",
      "Loss: 0.027941040694713593\n",
      "iou: tensor(0.9597)\n",
      "Loss: 0.027164343744516373\n",
      "iou: tensor(0.9322)\n",
      "Loss: 0.03757156431674957\n",
      "iou: tensor(0.9102)\n",
      "Loss: 0.026388756930828094\n",
      "iou: tensor(0.9485)\n",
      "Loss: 0.022793136537075043\n",
      "iou: tensor(0.9500)\n",
      "Validation Loss: 0.029662345349788666\n",
      "Epoch: 57\n"
     ]
    },
    {
     "data": {
      "application/vnd.jupyter.widget-view+json": {
       "model_id": "49a2b2b5dac54b558f29842360e0813c",
       "version_major": 2,
       "version_minor": 0
      },
      "text/plain": [
       "  0%|          | 0/90 [00:00<?, ?it/s]"
      ]
     },
     "metadata": {},
     "output_type": "display_data"
    },
    {
     "name": "stdout",
     "output_type": "stream",
     "text": [
      "Loss: 0.033185526728630066\n",
      "iou: tensor(0.9223)\n",
      "Loss: 0.02349218912422657\n",
      "iou: tensor(0.9426)\n",
      "Loss: 0.04547891765832901\n",
      "iou: tensor(0.9159)\n",
      "Loss: 0.05357017368078232\n",
      "iou: tensor(0.8994)\n",
      "Loss: 0.028554489836096764\n",
      "iou: tensor(0.9418)\n",
      "Loss: 0.024797549471259117\n",
      "iou: tensor(0.9538)\n",
      "Loss: 0.03526975214481354\n",
      "iou: tensor(0.9135)\n",
      "Loss: 0.029673833400011063\n",
      "iou: tensor(0.9550)\n",
      "Loss: 0.047967053949832916\n",
      "iou: tensor(0.9186)\n",
      "Validation Loss: 0.029485920630395412\n",
      "Epoch: 58\n"
     ]
    },
    {
     "data": {
      "application/vnd.jupyter.widget-view+json": {
       "model_id": "344de7ccd92b4bfea898d210ab397aa2",
       "version_major": 2,
       "version_minor": 0
      },
      "text/plain": [
       "  0%|          | 0/90 [00:00<?, ?it/s]"
      ]
     },
     "metadata": {},
     "output_type": "display_data"
    },
    {
     "name": "stdout",
     "output_type": "stream",
     "text": [
      "Loss: 0.02075931616127491\n",
      "iou: tensor(0.9554)\n",
      "Loss: 0.07398438453674316\n",
      "iou: tensor(0.7997)\n",
      "Loss: 0.02416302263736725\n",
      "iou: tensor(0.9568)\n",
      "Loss: 0.023163452744483948\n",
      "iou: tensor(0.9551)\n",
      "Loss: 0.03108515590429306\n",
      "iou: tensor(0.9148)\n",
      "Loss: 0.024691015481948853\n",
      "iou: tensor(0.9398)\n",
      "Loss: 0.029861807823181152\n",
      "iou: tensor(0.9633)\n",
      "Loss: 0.02499139867722988\n",
      "iou: tensor(0.9600)\n",
      "Loss: 0.024442043155431747\n",
      "iou: tensor(0.9515)\n",
      "Validation Loss: 0.03165810015052557\n",
      "Epoch: 59\n"
     ]
    },
    {
     "data": {
      "application/vnd.jupyter.widget-view+json": {
       "model_id": "e40f4b3d6d01405895beb9a80166492b",
       "version_major": 2,
       "version_minor": 0
      },
      "text/plain": [
       "  0%|          | 0/90 [00:00<?, ?it/s]"
      ]
     },
     "metadata": {},
     "output_type": "display_data"
    },
    {
     "name": "stdout",
     "output_type": "stream",
     "text": [
      "Loss: 0.05871246010065079\n",
      "iou: tensor(0.8201)\n",
      "Loss: 0.048106130212545395\n",
      "iou: tensor(0.8921)\n",
      "Loss: 0.033535875380039215\n",
      "iou: tensor(0.9267)\n",
      "Loss: 0.028080206364393234\n",
      "iou: tensor(0.9388)\n",
      "Loss: 0.025061655789613724\n",
      "iou: tensor(0.9386)\n",
      "Loss: 0.022433128207921982\n",
      "iou: tensor(0.9632)\n",
      "Loss: 0.024747313931584358\n",
      "iou: tensor(0.9546)\n",
      "Loss: 0.022764291614294052\n",
      "iou: tensor(0.9451)\n",
      "Loss: 0.02792089618742466\n",
      "iou: tensor(0.9523)\n",
      "Validation Loss: 0.030245413631200792\n",
      "Epoch: 60\n"
     ]
    },
    {
     "data": {
      "application/vnd.jupyter.widget-view+json": {
       "model_id": "d93c229ccb294ea6ab3a84e7c49d8aab",
       "version_major": 2,
       "version_minor": 0
      },
      "text/plain": [
       "  0%|          | 0/90 [00:00<?, ?it/s]"
      ]
     },
     "metadata": {},
     "output_type": "display_data"
    },
    {
     "name": "stdout",
     "output_type": "stream",
     "text": [
      "Loss: 0.0521189346909523\n",
      "iou: tensor(0.8939)\n",
      "Loss: 0.032997384667396545\n",
      "iou: tensor(0.9171)\n",
      "Loss: 0.03524800017476082\n",
      "iou: tensor(0.9228)\n",
      "Loss: 0.0298689603805542\n",
      "iou: tensor(0.9516)\n",
      "Loss: 0.023499179631471634\n",
      "iou: tensor(0.9468)\n",
      "Loss: 0.025007065385580063\n",
      "iou: tensor(0.9533)\n",
      "Loss: 0.02671109139919281\n",
      "iou: tensor(0.9276)\n",
      "Loss: 0.04330773651599884\n",
      "iou: tensor(0.9153)\n",
      "Loss: 0.026015475392341614\n",
      "iou: tensor(0.9565)\n",
      "Validation Loss: 0.03036845587193966\n",
      "Epoch: 61\n"
     ]
    },
    {
     "data": {
      "application/vnd.jupyter.widget-view+json": {
       "model_id": "e224e60e7a754b8d8330a937ab41f8d4",
       "version_major": 2,
       "version_minor": 0
      },
      "text/plain": [
       "  0%|          | 0/90 [00:00<?, ?it/s]"
      ]
     },
     "metadata": {},
     "output_type": "display_data"
    },
    {
     "name": "stdout",
     "output_type": "stream",
     "text": [
      "Loss: 0.02783859148621559\n",
      "iou: tensor(0.9396)\n",
      "Loss: 0.02823512628674507\n",
      "iou: tensor(0.9503)\n",
      "Loss: 0.026909932494163513\n",
      "iou: tensor(0.9354)\n",
      "Loss: 0.03651224076747894\n",
      "iou: tensor(0.8919)\n",
      "Loss: 0.025698009878396988\n",
      "iou: tensor(0.9467)\n",
      "Loss: 0.02442559227347374\n",
      "iou: tensor(0.9274)\n",
      "Loss: 0.02463221549987793\n",
      "iou: tensor(0.9462)\n",
      "Loss: 0.02194107323884964\n",
      "iou: tensor(0.9486)\n",
      "Loss: 0.022674594074487686\n",
      "iou: tensor(0.9611)\n",
      "Validation Loss: 0.029160865768790244\n",
      "Epoch: 62\n"
     ]
    },
    {
     "data": {
      "application/vnd.jupyter.widget-view+json": {
       "model_id": "5a08eeaafa7f46a39a174862f15deeec",
       "version_major": 2,
       "version_minor": 0
      },
      "text/plain": [
       "  0%|          | 0/90 [00:00<?, ?it/s]"
      ]
     },
     "metadata": {},
     "output_type": "display_data"
    },
    {
     "name": "stdout",
     "output_type": "stream",
     "text": [
      "Loss: 0.022235028445720673\n",
      "iou: tensor(0.9430)\n",
      "Loss: 0.028472919017076492\n",
      "iou: tensor(0.9376)\n",
      "Loss: 0.046262241899967194\n",
      "iou: tensor(0.9200)\n",
      "Loss: 0.032053545117378235\n",
      "iou: tensor(0.9076)\n",
      "Loss: 0.025008823722600937\n",
      "iou: tensor(0.9528)\n",
      "Loss: 0.024127131327986717\n",
      "iou: tensor(0.9486)\n",
      "Loss: 0.025877879932522774\n",
      "iou: tensor(0.9560)\n",
      "Loss: 0.024030663073062897\n",
      "iou: tensor(0.9610)\n",
      "Loss: 0.02315816655755043\n",
      "iou: tensor(0.9520)\n",
      "Validation Loss: 0.02908862680196762\n",
      "Epoch: 63\n"
     ]
    },
    {
     "data": {
      "application/vnd.jupyter.widget-view+json": {
       "model_id": "a56361b80661485195ec0f5ea97c9314",
       "version_major": 2,
       "version_minor": 0
      },
      "text/plain": [
       "  0%|          | 0/90 [00:00<?, ?it/s]"
      ]
     },
     "metadata": {},
     "output_type": "display_data"
    },
    {
     "name": "stdout",
     "output_type": "stream",
     "text": [
      "Loss: 0.022045744583010674\n",
      "iou: tensor(0.9502)\n",
      "Loss: 0.025998065248131752\n",
      "iou: tensor(0.9416)\n",
      "Loss: 0.02326951175928116\n",
      "iou: tensor(0.9623)\n",
      "Loss: 0.023549456149339676\n",
      "iou: tensor(0.9594)\n",
      "Loss: 0.03269034996628761\n",
      "iou: tensor(0.9359)\n",
      "Loss: 0.02002602256834507\n",
      "iou: tensor(0.9626)\n",
      "Loss: 0.02364330366253853\n",
      "iou: tensor(0.9560)\n",
      "Loss: 0.024222008883953094\n",
      "iou: tensor(0.9334)\n",
      "Loss: 0.03989208862185478\n",
      "iou: tensor(0.8847)\n",
      "Validation Loss: 0.02852337099611759\n",
      "Epoch: 64\n"
     ]
    },
    {
     "data": {
      "application/vnd.jupyter.widget-view+json": {
       "model_id": "0705e1bfbd3942a2982dff003ee7ffec",
       "version_major": 2,
       "version_minor": 0
      },
      "text/plain": [
       "  0%|          | 0/90 [00:00<?, ?it/s]"
      ]
     },
     "metadata": {},
     "output_type": "display_data"
    },
    {
     "name": "stdout",
     "output_type": "stream",
     "text": [
      "Loss: 0.02448349818587303\n",
      "iou: tensor(0.9446)\n",
      "Loss: 0.0283920057117939\n",
      "iou: tensor(0.9547)\n",
      "Loss: 0.030533894896507263\n",
      "iou: tensor(0.9457)\n",
      "Loss: 0.025004902854561806\n",
      "iou: tensor(0.9527)\n",
      "Loss: 0.04398798197507858\n",
      "iou: tensor(0.8985)\n",
      "Loss: 0.03387722000479698\n",
      "iou: tensor(0.9401)\n",
      "Loss: 0.039476580917835236\n",
      "iou: tensor(0.8959)\n",
      "Loss: 0.028593093156814575\n",
      "iou: tensor(0.9553)\n",
      "Loss: 0.024401595816016197\n",
      "iou: tensor(0.9491)\n",
      "Validation Loss: 0.028818114288151266\n",
      "Epoch: 65\n"
     ]
    },
    {
     "data": {
      "application/vnd.jupyter.widget-view+json": {
       "model_id": "1ca0de12ceb84e6ea5cfa84167b44ad2",
       "version_major": 2,
       "version_minor": 0
      },
      "text/plain": [
       "  0%|          | 0/90 [00:00<?, ?it/s]"
      ]
     },
     "metadata": {},
     "output_type": "display_data"
    },
    {
     "name": "stdout",
     "output_type": "stream",
     "text": [
      "Loss: 0.028138015419244766\n",
      "iou: tensor(0.9489)\n",
      "Loss: 0.03228019177913666\n",
      "iou: tensor(0.9164)\n",
      "Loss: 0.0222995113581419\n",
      "iou: tensor(0.9526)\n",
      "Loss: 0.02873486652970314\n",
      "iou: tensor(0.9610)\n",
      "Loss: 0.024921415373682976\n",
      "iou: tensor(0.9517)\n",
      "Loss: 0.02028345689177513\n",
      "iou: tensor(0.9681)\n",
      "Loss: 0.02593446522951126\n",
      "iou: tensor(0.9374)\n",
      "Loss: 0.021243220195174217\n",
      "iou: tensor(0.9620)\n",
      "Loss: 0.023633701726794243\n",
      "iou: tensor(0.9411)\n",
      "Validation Loss: 0.027702506445348263\n",
      "Epoch: 66\n"
     ]
    },
    {
     "data": {
      "application/vnd.jupyter.widget-view+json": {
       "model_id": "10cc00e6076846e68a054b0a2429b0df",
       "version_major": 2,
       "version_minor": 0
      },
      "text/plain": [
       "  0%|          | 0/90 [00:00<?, ?it/s]"
      ]
     },
     "metadata": {},
     "output_type": "display_data"
    },
    {
     "name": "stdout",
     "output_type": "stream",
     "text": [
      "Loss: 0.023988714441657066\n",
      "iou: tensor(0.9546)\n",
      "Loss: 0.022078171372413635\n",
      "iou: tensor(0.9664)\n",
      "Loss: 0.025465132668614388\n",
      "iou: tensor(0.9395)\n",
      "Loss: 0.02819351851940155\n",
      "iou: tensor(0.9520)\n",
      "Loss: 0.02546032704412937\n",
      "iou: tensor(0.9490)\n",
      "Loss: 0.021078061312437057\n",
      "iou: tensor(0.9591)\n",
      "Loss: 0.02269657328724861\n",
      "iou: tensor(0.9434)\n",
      "Loss: 0.026052813977003098\n",
      "iou: tensor(0.9397)\n",
      "Loss: 0.0327082984149456\n",
      "iou: tensor(0.9236)\n",
      "Validation Loss: 0.02846380788832903\n",
      "Epoch: 67\n"
     ]
    },
    {
     "data": {
      "application/vnd.jupyter.widget-view+json": {
       "model_id": "433ea2e11e9b4b73aaaf06aa76819583",
       "version_major": 2,
       "version_minor": 0
      },
      "text/plain": [
       "  0%|          | 0/90 [00:00<?, ?it/s]"
      ]
     },
     "metadata": {},
     "output_type": "display_data"
    },
    {
     "name": "stdout",
     "output_type": "stream",
     "text": [
      "Loss: 0.02191331796348095\n",
      "iou: tensor(0.9612)\n",
      "Loss: 0.021623943001031876\n",
      "iou: tensor(0.9369)\n",
      "Loss: 0.024432409554719925\n",
      "iou: tensor(0.9272)\n",
      "Loss: 0.02272854745388031\n",
      "iou: tensor(0.9564)\n",
      "Loss: 0.029411446303129196\n",
      "iou: tensor(0.9274)\n",
      "Loss: 0.02587774395942688\n",
      "iou: tensor(0.9465)\n",
      "Loss: 0.021868692710995674\n",
      "iou: tensor(0.9647)\n",
      "Loss: 0.02141343057155609\n",
      "iou: tensor(0.9514)\n",
      "Loss: 0.020802531391382217\n",
      "iou: tensor(0.9528)\n",
      "Validation Loss: 0.027058950439095498\n",
      "Epoch: 68\n"
     ]
    },
    {
     "data": {
      "application/vnd.jupyter.widget-view+json": {
       "model_id": "c75513ea1ab64153ba547953004c1d81",
       "version_major": 2,
       "version_minor": 0
      },
      "text/plain": [
       "  0%|          | 0/90 [00:00<?, ?it/s]"
      ]
     },
     "metadata": {},
     "output_type": "display_data"
    },
    {
     "name": "stdout",
     "output_type": "stream",
     "text": [
      "Loss: 0.020864885300397873\n",
      "iou: tensor(0.9583)\n",
      "Loss: 0.01965729519724846\n",
      "iou: tensor(0.9611)\n",
      "Loss: 0.020949993282556534\n",
      "iou: tensor(0.9421)\n",
      "Loss: 0.021780258044600487\n",
      "iou: tensor(0.9559)\n",
      "Loss: 0.028849851340055466\n",
      "iou: tensor(0.9232)\n",
      "Loss: 0.022547051310539246\n",
      "iou: tensor(0.9444)\n",
      "Loss: 0.02161201275885105\n",
      "iou: tensor(0.9721)\n",
      "Loss: 0.03930788114666939\n",
      "iou: tensor(0.9351)\n",
      "Loss: 0.025281865149736404\n",
      "iou: tensor(0.9521)\n",
      "Validation Loss: 0.027971817553043364\n",
      "Epoch: 69\n"
     ]
    },
    {
     "data": {
      "application/vnd.jupyter.widget-view+json": {
       "model_id": "41dc264807a5444882780c6090086007",
       "version_major": 2,
       "version_minor": 0
      },
      "text/plain": [
       "  0%|          | 0/90 [00:00<?, ?it/s]"
      ]
     },
     "metadata": {},
     "output_type": "display_data"
    },
    {
     "name": "stdout",
     "output_type": "stream",
     "text": [
      "Loss: 0.025058932602405548\n",
      "iou: tensor(0.9505)\n",
      "Loss: 0.025221388787031174\n",
      "iou: tensor(0.9532)\n",
      "Loss: 0.02879459038376808\n",
      "iou: tensor(0.9127)\n",
      "Loss: 0.024314535781741142\n",
      "iou: tensor(0.9470)\n",
      "Loss: 0.020226990804076195\n",
      "iou: tensor(0.9533)\n",
      "Loss: 0.02178042195737362\n",
      "iou: tensor(0.9507)\n",
      "Loss: 0.025824200361967087\n",
      "iou: tensor(0.9283)\n",
      "Loss: 0.026943206787109375\n",
      "iou: tensor(0.9430)\n",
      "Loss: 0.035982199013233185\n",
      "iou: tensor(0.9197)\n",
      "Validation Loss: 0.028504934534430502\n",
      "Epoch: 70\n"
     ]
    },
    {
     "data": {
      "application/vnd.jupyter.widget-view+json": {
       "model_id": "4837a3c38a234bc098df62c95541c234",
       "version_major": 2,
       "version_minor": 0
      },
      "text/plain": [
       "  0%|          | 0/90 [00:00<?, ?it/s]"
      ]
     },
     "metadata": {},
     "output_type": "display_data"
    },
    {
     "name": "stdout",
     "output_type": "stream",
     "text": [
      "Loss: 0.024791711941361427\n",
      "iou: tensor(0.9628)\n",
      "Loss: 0.022210456430912018\n",
      "iou: tensor(0.9490)\n",
      "Loss: 0.02239496260881424\n",
      "iou: tensor(0.9544)\n",
      "Loss: 0.019248366355895996\n",
      "iou: tensor(0.9658)\n",
      "Loss: 0.02297489531338215\n",
      "iou: tensor(0.9583)\n",
      "Loss: 0.026813171803951263\n",
      "iou: tensor(0.9497)\n",
      "Loss: 0.02472752332687378\n",
      "iou: tensor(0.9557)\n",
      "Loss: 0.022036883980035782\n",
      "iou: tensor(0.9474)\n",
      "Loss: 0.03055514022707939\n",
      "iou: tensor(0.9424)\n",
      "Validation Loss: 0.027407378889620304\n",
      "Epoch: 71\n"
     ]
    },
    {
     "data": {
      "application/vnd.jupyter.widget-view+json": {
       "model_id": "bedb8b6fa6684ab4b608a6be4a76a2b5",
       "version_major": 2,
       "version_minor": 0
      },
      "text/plain": [
       "  0%|          | 0/90 [00:00<?, ?it/s]"
      ]
     },
     "metadata": {},
     "output_type": "display_data"
    },
    {
     "name": "stdout",
     "output_type": "stream",
     "text": [
      "Loss: 0.02577972412109375\n",
      "iou: tensor(0.9594)\n",
      "Loss: 0.02328093908727169\n",
      "iou: tensor(0.9471)\n",
      "Loss: 0.02000691369175911\n",
      "iou: tensor(0.9646)\n",
      "Loss: 0.021953683346509933\n",
      "iou: tensor(0.9610)\n",
      "Loss: 0.02614685334265232\n",
      "iou: tensor(0.9407)\n",
      "Loss: 0.021167173981666565\n",
      "iou: tensor(0.9498)\n",
      "Loss: 0.02412360906600952\n",
      "iou: tensor(0.9504)\n",
      "Loss: 0.021950412541627884\n",
      "iou: tensor(0.9537)\n",
      "Loss: 0.020979806780815125\n",
      "iou: tensor(0.9627)\n",
      "Validation Loss: 0.026420805603265762\n",
      "Epoch: 72\n"
     ]
    },
    {
     "data": {
      "application/vnd.jupyter.widget-view+json": {
       "model_id": "693d323877ff44368e2f2176fb00cb97",
       "version_major": 2,
       "version_minor": 0
      },
      "text/plain": [
       "  0%|          | 0/90 [00:00<?, ?it/s]"
      ]
     },
     "metadata": {},
     "output_type": "display_data"
    },
    {
     "name": "stdout",
     "output_type": "stream",
     "text": [
      "Loss: 0.021051447838544846\n",
      "iou: tensor(0.9406)\n",
      "Loss: 0.023634253069758415\n",
      "iou: tensor(0.9552)\n",
      "Loss: 0.019515840336680412\n",
      "iou: tensor(0.9673)\n",
      "Loss: 0.029154853895306587\n",
      "iou: tensor(0.9415)\n",
      "Loss: 0.0373559296131134\n",
      "iou: tensor(0.9110)\n",
      "Loss: 0.021222595125436783\n",
      "iou: tensor(0.9492)\n",
      "Loss: 0.024261467158794403\n",
      "iou: tensor(0.9468)\n",
      "Loss: 0.025889543816447258\n",
      "iou: tensor(0.9722)\n",
      "Loss: 0.03919268026947975\n",
      "iou: tensor(0.9328)\n",
      "Validation Loss: 0.02685390003025532\n",
      "Epoch: 73\n"
     ]
    },
    {
     "data": {
      "application/vnd.jupyter.widget-view+json": {
       "model_id": "3953c844f5cd40589a3033565ff7d438",
       "version_major": 2,
       "version_minor": 0
      },
      "text/plain": [
       "  0%|          | 0/90 [00:00<?, ?it/s]"
      ]
     },
     "metadata": {},
     "output_type": "display_data"
    },
    {
     "name": "stdout",
     "output_type": "stream",
     "text": [
      "Loss: 0.01986563205718994\n",
      "iou: tensor(0.9509)\n",
      "Loss: 0.0328257754445076\n",
      "iou: tensor(0.9265)\n",
      "Loss: 0.03394097834825516\n",
      "iou: tensor(0.9071)\n",
      "Loss: 0.02384287491440773\n",
      "iou: tensor(0.9633)\n",
      "Loss: 0.026344522833824158\n",
      "iou: tensor(0.9319)\n",
      "Loss: 0.031413089483976364\n",
      "iou: tensor(0.9404)\n",
      "Loss: 0.025816481560468674\n",
      "iou: tensor(0.9460)\n",
      "Loss: 0.023102499544620514\n",
      "iou: tensor(0.9454)\n",
      "Loss: 0.026134656742215157\n",
      "iou: tensor(0.9447)\n",
      "Validation Loss: 0.028696566075086593\n",
      "Epoch: 74\n"
     ]
    },
    {
     "data": {
      "application/vnd.jupyter.widget-view+json": {
       "model_id": "f7680a5740714702a604d17835daccb9",
       "version_major": 2,
       "version_minor": 0
      },
      "text/plain": [
       "  0%|          | 0/90 [00:00<?, ?it/s]"
      ]
     },
     "metadata": {},
     "output_type": "display_data"
    },
    {
     "name": "stdout",
     "output_type": "stream",
     "text": [
      "Loss: 0.02371663600206375\n",
      "iou: tensor(0.9584)\n",
      "Loss: 0.026639629155397415\n",
      "iou: tensor(0.9135)\n",
      "Loss: 0.022945662960410118\n",
      "iou: tensor(0.9661)\n",
      "Loss: 0.02318970486521721\n",
      "iou: tensor(0.9400)\n",
      "Loss: 0.021575886756181717\n",
      "iou: tensor(0.9477)\n",
      "Loss: 0.022144664078950882\n",
      "iou: tensor(0.9578)\n",
      "Loss: 0.028059665113687515\n",
      "iou: tensor(0.9261)\n",
      "Loss: 0.02696208283305168\n",
      "iou: tensor(0.9647)\n",
      "Loss: 0.022106099873781204\n",
      "iou: tensor(0.9579)\n",
      "Validation Loss: 0.02600037455558777\n",
      "Epoch: 75\n"
     ]
    },
    {
     "data": {
      "application/vnd.jupyter.widget-view+json": {
       "model_id": "041d6a32d71d402cbb669eb0a1cae0d2",
       "version_major": 2,
       "version_minor": 0
      },
      "text/plain": [
       "  0%|          | 0/90 [00:00<?, ?it/s]"
      ]
     },
     "metadata": {},
     "output_type": "display_data"
    },
    {
     "name": "stdout",
     "output_type": "stream",
     "text": [
      "Loss: 0.01970890536904335\n",
      "iou: tensor(0.9616)\n",
      "Loss: 0.029203983023762703\n",
      "iou: tensor(0.9484)\n",
      "Loss: 0.020024176687002182\n",
      "iou: tensor(0.9600)\n",
      "Loss: 0.028835810720920563\n",
      "iou: tensor(0.9296)\n",
      "Loss: 0.03993074595928192\n",
      "iou: tensor(0.9431)\n",
      "Loss: 0.029485655948519707\n",
      "iou: tensor(0.9589)\n",
      "Loss: 0.028800848871469498\n",
      "iou: tensor(0.9209)\n",
      "Loss: 0.030262146145105362\n",
      "iou: tensor(0.9074)\n",
      "Loss: 0.023490577936172485\n",
      "iou: tensor(0.9470)\n",
      "Validation Loss: 0.02653176262974739\n",
      "Epoch: 76\n"
     ]
    },
    {
     "data": {
      "application/vnd.jupyter.widget-view+json": {
       "model_id": "8227f0a9007641b4898495da2b39fca2",
       "version_major": 2,
       "version_minor": 0
      },
      "text/plain": [
       "  0%|          | 0/90 [00:00<?, ?it/s]"
      ]
     },
     "metadata": {},
     "output_type": "display_data"
    },
    {
     "name": "stdout",
     "output_type": "stream",
     "text": [
      "Loss: 0.019953517243266106\n",
      "iou: tensor(0.9589)\n",
      "Loss: 0.02318352274596691\n",
      "iou: tensor(0.9631)\n",
      "Loss: 0.01758815348148346\n",
      "iou: tensor(0.9571)\n",
      "Loss: 0.02642299421131611\n",
      "iou: tensor(0.9358)\n",
      "Loss: 0.0224861279129982\n",
      "iou: tensor(0.9687)\n",
      "Loss: 0.026642385870218277\n",
      "iou: tensor(0.9354)\n",
      "Loss: 0.03812313824892044\n",
      "iou: tensor(0.8998)\n",
      "Loss: 0.024319307878613472\n",
      "iou: tensor(0.9555)\n",
      "Loss: 0.03280780091881752\n",
      "iou: tensor(0.9344)\n",
      "Validation Loss: 0.028849267587065696\n",
      "Epoch: 77\n"
     ]
    },
    {
     "data": {
      "application/vnd.jupyter.widget-view+json": {
       "model_id": "ec618da1b59d48b8b334bced179982bb",
       "version_major": 2,
       "version_minor": 0
      },
      "text/plain": [
       "  0%|          | 0/90 [00:00<?, ?it/s]"
      ]
     },
     "metadata": {},
     "output_type": "display_data"
    },
    {
     "name": "stdout",
     "output_type": "stream",
     "text": [
      "Loss: 0.02039969712495804\n",
      "iou: tensor(0.9757)\n",
      "Loss: 0.020155971869826317\n",
      "iou: tensor(0.9569)\n",
      "Loss: 0.019930396229028702\n",
      "iou: tensor(0.9437)\n",
      "Loss: 0.02471298724412918\n",
      "iou: tensor(0.9633)\n",
      "Loss: 0.021678395569324493\n",
      "iou: tensor(0.9512)\n",
      "Loss: 0.022146940231323242\n",
      "iou: tensor(0.9439)\n",
      "Loss: 0.0217127725481987\n",
      "iou: tensor(0.9627)\n",
      "Loss: 0.022177860140800476\n",
      "iou: tensor(0.9354)\n",
      "Loss: 0.025156058371067047\n",
      "iou: tensor(0.9260)\n",
      "Validation Loss: 0.02608123831450939\n",
      "Epoch: 78\n"
     ]
    },
    {
     "data": {
      "application/vnd.jupyter.widget-view+json": {
       "model_id": "8a902eac7c764732ba08f7cf61d50c74",
       "version_major": 2,
       "version_minor": 0
      },
      "text/plain": [
       "  0%|          | 0/90 [00:00<?, ?it/s]"
      ]
     },
     "metadata": {},
     "output_type": "display_data"
    },
    {
     "name": "stdout",
     "output_type": "stream",
     "text": [
      "Loss: 0.02228926122188568\n",
      "iou: tensor(0.9513)\n",
      "Loss: 0.03031628020107746\n",
      "iou: tensor(0.9392)\n",
      "Loss: 0.028081728145480156\n",
      "iou: tensor(0.9308)\n",
      "Loss: 0.0333598256111145\n",
      "iou: tensor(0.9304)\n",
      "Loss: 0.03078710287809372\n",
      "iou: tensor(0.9120)\n",
      "Loss: 0.02614177018404007\n",
      "iou: tensor(0.9471)\n",
      "Loss: 0.025604549795389175\n",
      "iou: tensor(0.9465)\n",
      "Loss: 0.026019051671028137\n",
      "iou: tensor(0.9493)\n",
      "Loss: 0.03312339261174202\n",
      "iou: tensor(0.9331)\n",
      "Validation Loss: 0.02592172585427761\n",
      "Epoch: 79\n"
     ]
    },
    {
     "data": {
      "application/vnd.jupyter.widget-view+json": {
       "model_id": "6ec7e62577604e43b5aed76233d3d1fd",
       "version_major": 2,
       "version_minor": 0
      },
      "text/plain": [
       "  0%|          | 0/90 [00:00<?, ?it/s]"
      ]
     },
     "metadata": {},
     "output_type": "display_data"
    },
    {
     "name": "stdout",
     "output_type": "stream",
     "text": [
      "Loss: 0.02300661988556385\n",
      "iou: tensor(0.9550)\n",
      "Loss: 0.027450282126665115\n",
      "iou: tensor(0.9373)\n",
      "Loss: 0.024159135296940804\n",
      "iou: tensor(0.9494)\n",
      "Loss: 0.026986896991729736\n",
      "iou: tensor(0.9432)\n",
      "Loss: 0.02192947268486023\n",
      "iou: tensor(0.9639)\n",
      "Loss: 0.023340418934822083\n",
      "iou: tensor(0.9413)\n",
      "Loss: 0.0276365727186203\n",
      "iou: tensor(0.9436)\n",
      "Loss: 0.02405153214931488\n",
      "iou: tensor(0.9287)\n",
      "Loss: 0.022234134376049042\n",
      "iou: tensor(0.9612)\n",
      "Validation Loss: 0.02678417656570673\n",
      "Epoch: 80\n"
     ]
    },
    {
     "data": {
      "application/vnd.jupyter.widget-view+json": {
       "model_id": "ca840391aad34cce943d9ba531c67e3b",
       "version_major": 2,
       "version_minor": 0
      },
      "text/plain": [
       "  0%|          | 0/90 [00:00<?, ?it/s]"
      ]
     },
     "metadata": {},
     "output_type": "display_data"
    },
    {
     "name": "stdout",
     "output_type": "stream",
     "text": [
      "Loss: 0.020192306488752365\n",
      "iou: tensor(0.9496)\n",
      "Loss: 0.02030997723340988\n",
      "iou: tensor(0.9694)\n",
      "Loss: 0.021161003038287163\n",
      "iou: tensor(0.9716)\n",
      "Loss: 0.021988894790410995\n",
      "iou: tensor(0.9433)\n",
      "Loss: 0.025113655254244804\n",
      "iou: tensor(0.9385)\n",
      "Loss: 0.029495835304260254\n",
      "iou: tensor(0.9494)\n",
      "Loss: 0.044860728085041046\n",
      "iou: tensor(0.9500)\n",
      "Loss: 0.018979286774992943\n",
      "iou: tensor(0.9646)\n",
      "Loss: 0.03068363666534424\n",
      "iou: tensor(0.9150)\n",
      "Validation Loss: 0.0265117559581995\n",
      "Epoch: 81\n"
     ]
    },
    {
     "data": {
      "application/vnd.jupyter.widget-view+json": {
       "model_id": "a0a27cfd3db440fdb96dd57612051315",
       "version_major": 2,
       "version_minor": 0
      },
      "text/plain": [
       "  0%|          | 0/90 [00:00<?, ?it/s]"
      ]
     },
     "metadata": {},
     "output_type": "display_data"
    },
    {
     "name": "stdout",
     "output_type": "stream",
     "text": [
      "Loss: 0.02037014067173004\n",
      "iou: tensor(0.9618)\n",
      "Loss: 0.019634202122688293\n",
      "iou: tensor(0.9546)\n",
      "Loss: 0.026690326631069183\n",
      "iou: tensor(0.9427)\n",
      "Loss: 0.027626030147075653\n",
      "iou: tensor(0.9455)\n",
      "Loss: 0.0216473750770092\n",
      "iou: tensor(0.9380)\n",
      "Loss: 0.027653265744447708\n",
      "iou: tensor(0.9470)\n",
      "Loss: 0.020601704716682434\n",
      "iou: tensor(0.9534)\n",
      "Loss: 0.019313018769025803\n",
      "iou: tensor(0.9485)\n",
      "Loss: 0.020387910306453705\n",
      "iou: tensor(0.9547)\n",
      "Validation Loss: 0.025076890364289284\n",
      "Epoch: 82\n"
     ]
    },
    {
     "data": {
      "application/vnd.jupyter.widget-view+json": {
       "model_id": "347c9fa4d5ec4b72b017fe10e7480c84",
       "version_major": 2,
       "version_minor": 0
      },
      "text/plain": [
       "  0%|          | 0/90 [00:00<?, ?it/s]"
      ]
     },
     "metadata": {},
     "output_type": "display_data"
    },
    {
     "name": "stdout",
     "output_type": "stream",
     "text": [
      "Loss: 0.020319290459156036\n",
      "iou: tensor(0.9699)\n",
      "Loss: 0.022909721359610558\n",
      "iou: tensor(0.9436)\n",
      "Loss: 0.023708200082182884\n",
      "iou: tensor(0.9517)\n",
      "Loss: 0.02899925783276558\n",
      "iou: tensor(0.9134)\n",
      "Loss: 0.01922174170613289\n",
      "iou: tensor(0.9587)\n",
      "Loss: 0.021039612591266632\n",
      "iou: tensor(0.9539)\n",
      "Loss: 0.020401300862431526\n",
      "iou: tensor(0.9715)\n",
      "Loss: 0.03840389847755432\n",
      "iou: tensor(0.9230)\n",
      "Loss: 0.018385794013738632\n",
      "iou: tensor(0.9659)\n",
      "Validation Loss: 0.025196097418665887\n",
      "Epoch: 83\n"
     ]
    },
    {
     "data": {
      "application/vnd.jupyter.widget-view+json": {
       "model_id": "fcd976d9e78c4c7ea4b54bdb893053c1",
       "version_major": 2,
       "version_minor": 0
      },
      "text/plain": [
       "  0%|          | 0/90 [00:00<?, ?it/s]"
      ]
     },
     "metadata": {},
     "output_type": "display_data"
    },
    {
     "name": "stdout",
     "output_type": "stream",
     "text": [
      "Loss: 0.018473947420716286\n",
      "iou: tensor(0.9540)\n",
      "Loss: 0.02450636774301529\n",
      "iou: tensor(0.9486)\n",
      "Loss: 0.029529700055718422\n",
      "iou: tensor(0.9565)\n",
      "Loss: 0.0241076797246933\n",
      "iou: tensor(0.9358)\n",
      "Loss: 0.01981450617313385\n",
      "iou: tensor(0.9500)\n",
      "Loss: 0.03204868733882904\n",
      "iou: tensor(0.9092)\n",
      "Loss: 0.039312832057476044\n",
      "iou: tensor(0.9255)\n",
      "Loss: 0.020311307162046432\n",
      "iou: tensor(0.9473)\n",
      "Loss: 0.03533270210027695\n",
      "iou: tensor(0.9185)\n",
      "Validation Loss: 0.025190135836601256\n",
      "Epoch: 84\n"
     ]
    },
    {
     "data": {
      "application/vnd.jupyter.widget-view+json": {
       "model_id": "1abc9dc31d3b462a83f3e0eefaa21573",
       "version_major": 2,
       "version_minor": 0
      },
      "text/plain": [
       "  0%|          | 0/90 [00:00<?, ?it/s]"
      ]
     },
     "metadata": {},
     "output_type": "display_data"
    },
    {
     "name": "stdout",
     "output_type": "stream",
     "text": [
      "Loss: 0.01985611394047737\n",
      "iou: tensor(0.9484)\n",
      "Loss: 0.019368596374988556\n",
      "iou: tensor(0.9473)\n",
      "Loss: 0.017581390216946602\n",
      "iou: tensor(0.9603)\n",
      "Loss: 0.02397402748465538\n",
      "iou: tensor(0.9436)\n",
      "Loss: 0.018954863771796227\n",
      "iou: tensor(0.9689)\n",
      "Loss: 0.02094339206814766\n",
      "iou: tensor(0.9570)\n",
      "Loss: 0.02233774960041046\n",
      "iou: tensor(0.9551)\n",
      "Loss: 0.01907969079911709\n",
      "iou: tensor(0.9616)\n",
      "Loss: 0.026933975517749786\n",
      "iou: tensor(0.9344)\n",
      "Validation Loss: 0.025429266132414342\n",
      "Epoch: 85\n"
     ]
    },
    {
     "data": {
      "application/vnd.jupyter.widget-view+json": {
       "model_id": "fc840d35337b40b5923f004fd1c8284a",
       "version_major": 2,
       "version_minor": 0
      },
      "text/plain": [
       "  0%|          | 0/90 [00:00<?, ?it/s]"
      ]
     },
     "metadata": {},
     "output_type": "display_data"
    },
    {
     "name": "stdout",
     "output_type": "stream",
     "text": [
      "Loss: 0.020664185285568237\n",
      "iou: tensor(0.9597)\n",
      "Loss: 0.026199687272310257\n",
      "iou: tensor(0.9542)\n",
      "Loss: 0.029813434928655624\n",
      "iou: tensor(0.9192)\n",
      "Loss: 0.0283706896007061\n",
      "iou: tensor(0.9338)\n",
      "Loss: 0.027253899723291397\n",
      "iou: tensor(0.9460)\n",
      "Loss: 0.021412335336208344\n",
      "iou: tensor(0.9522)\n",
      "Loss: 0.01836404576897621\n",
      "iou: tensor(0.9671)\n",
      "Loss: 0.03093554824590683\n",
      "iou: tensor(0.9115)\n",
      "Loss: 0.024466242641210556\n",
      "iou: tensor(0.9411)\n",
      "Validation Loss: 0.02502229642122984\n",
      "Epoch: 86\n"
     ]
    },
    {
     "data": {
      "application/vnd.jupyter.widget-view+json": {
       "model_id": "bfeb8ff944874b74aad67c2024531a50",
       "version_major": 2,
       "version_minor": 0
      },
      "text/plain": [
       "  0%|          | 0/90 [00:00<?, ?it/s]"
      ]
     },
     "metadata": {},
     "output_type": "display_data"
    },
    {
     "name": "stdout",
     "output_type": "stream",
     "text": [
      "Loss: 0.016701627522706985\n",
      "iou: tensor(0.9610)\n",
      "Loss: 0.04822231084108353\n",
      "iou: tensor(0.9198)\n",
      "Loss: 0.023578375577926636\n",
      "iou: tensor(0.9643)\n",
      "Loss: 0.018913518637418747\n",
      "iou: tensor(0.9573)\n",
      "Loss: 0.01809103414416313\n",
      "iou: tensor(0.9600)\n",
      "Loss: 0.017118830233812332\n",
      "iou: tensor(0.9593)\n",
      "Loss: 0.019813230261206627\n",
      "iou: tensor(0.9648)\n",
      "Loss: 0.029474057257175446\n",
      "iou: tensor(0.9367)\n",
      "Loss: 0.0227767676115036\n",
      "iou: tensor(0.9665)\n",
      "Validation Loss: 0.024992567673325538\n",
      "Epoch: 87\n"
     ]
    },
    {
     "data": {
      "application/vnd.jupyter.widget-view+json": {
       "model_id": "0cb3874266a64a169b63fee87a293e60",
       "version_major": 2,
       "version_minor": 0
      },
      "text/plain": [
       "  0%|          | 0/90 [00:00<?, ?it/s]"
      ]
     },
     "metadata": {},
     "output_type": "display_data"
    },
    {
     "name": "stdout",
     "output_type": "stream",
     "text": [
      "Loss: 0.018759967759251595\n",
      "iou: tensor(0.9572)\n",
      "Loss: 0.01782572641968727\n",
      "iou: tensor(0.9554)\n",
      "Loss: 0.017884597182273865\n",
      "iou: tensor(0.9594)\n",
      "Loss: 0.018324149772524834\n",
      "iou: tensor(0.9587)\n",
      "Loss: 0.01899515837430954\n",
      "iou: tensor(0.9614)\n",
      "Loss: 0.02185646817088127\n",
      "iou: tensor(0.9724)\n",
      "Loss: 0.021682290360331535\n",
      "iou: tensor(0.9405)\n",
      "Loss: 0.022113963961601257\n",
      "iou: tensor(0.9568)\n",
      "Loss: 0.01925455778837204\n",
      "iou: tensor(0.9458)\n",
      "Validation Loss: 0.026021313108503818\n",
      "Epoch: 88\n"
     ]
    },
    {
     "data": {
      "application/vnd.jupyter.widget-view+json": {
       "model_id": "5782a8c1204a43c3b8d7ddd7eeb6179b",
       "version_major": 2,
       "version_minor": 0
      },
      "text/plain": [
       "  0%|          | 0/90 [00:00<?, ?it/s]"
      ]
     },
     "metadata": {},
     "output_type": "display_data"
    },
    {
     "name": "stdout",
     "output_type": "stream",
     "text": [
      "Loss: 0.03259030729532242\n",
      "iou: tensor(0.9599)\n",
      "Loss: 0.019098635762929916\n",
      "iou: tensor(0.9441)\n",
      "Loss: 0.025197576731443405\n",
      "iou: tensor(0.9565)\n",
      "Loss: 0.01788635179400444\n",
      "iou: tensor(0.9479)\n",
      "Loss: 0.022973977029323578\n",
      "iou: tensor(0.9475)\n",
      "Loss: 0.020226512104272842\n",
      "iou: tensor(0.9638)\n",
      "Loss: 0.01813429966568947\n",
      "iou: tensor(0.9666)\n",
      "Loss: 0.018417352810502052\n",
      "iou: tensor(0.9700)\n",
      "Loss: 0.02060902863740921\n",
      "iou: tensor(0.9624)\n",
      "Validation Loss: 0.02412974275648594\n",
      "Epoch: 89\n"
     ]
    },
    {
     "data": {
      "application/vnd.jupyter.widget-view+json": {
       "model_id": "633ca361c9ec4aa7af8ac3adc40be564",
       "version_major": 2,
       "version_minor": 0
      },
      "text/plain": [
       "  0%|          | 0/90 [00:00<?, ?it/s]"
      ]
     },
     "metadata": {},
     "output_type": "display_data"
    },
    {
     "name": "stdout",
     "output_type": "stream",
     "text": [
      "Loss: 0.04442446678876877\n",
      "iou: tensor(0.8913)\n",
      "Loss: 0.02758508361876011\n",
      "iou: tensor(0.9260)\n",
      "Loss: 0.04317678511142731\n",
      "iou: tensor(0.9785)\n",
      "Loss: 0.025102980434894562\n",
      "iou: tensor(0.9170)\n",
      "Loss: 0.031113162636756897\n",
      "iou: tensor(0.9344)\n",
      "Loss: 0.027867287397384644\n",
      "iou: tensor(0.9312)\n",
      "Loss: 0.027108754962682724\n",
      "iou: tensor(0.9453)\n",
      "Loss: 0.01823158748447895\n",
      "iou: tensor(0.9650)\n",
      "Loss: 0.01791473478078842\n",
      "iou: tensor(0.9741)\n",
      "Validation Loss: 0.026047597452998162\n",
      "Epoch: 90\n"
     ]
    },
    {
     "data": {
      "application/vnd.jupyter.widget-view+json": {
       "model_id": "73cca87e499c4bfe8380d25b09991e9e",
       "version_major": 2,
       "version_minor": 0
      },
      "text/plain": [
       "  0%|          | 0/90 [00:00<?, ?it/s]"
      ]
     },
     "metadata": {},
     "output_type": "display_data"
    },
    {
     "name": "stdout",
     "output_type": "stream",
     "text": [
      "Loss: 0.0457489937543869\n",
      "iou: tensor(0.9201)\n",
      "Loss: 0.02519925870001316\n",
      "iou: tensor(0.9395)\n",
      "Loss: 0.022249668836593628\n",
      "iou: tensor(0.9424)\n",
      "Loss: 0.030213382095098495\n",
      "iou: tensor(0.9321)\n",
      "Loss: 0.033292755484580994\n",
      "iou: tensor(0.9517)\n",
      "Loss: 0.019014624878764153\n",
      "iou: tensor(0.9569)\n",
      "Loss: 0.022395126521587372\n",
      "iou: tensor(0.9291)\n",
      "Loss: 0.019375136122107506\n",
      "iou: tensor(0.9548)\n",
      "Loss: 0.022319365292787552\n",
      "iou: tensor(0.9543)\n",
      "Validation Loss: 0.025394138507544996\n",
      "Epoch: 91\n"
     ]
    },
    {
     "data": {
      "application/vnd.jupyter.widget-view+json": {
       "model_id": "7193a89bf2974abf939726d9b88420a1",
       "version_major": 2,
       "version_minor": 0
      },
      "text/plain": [
       "  0%|          | 0/90 [00:00<?, ?it/s]"
      ]
     },
     "metadata": {},
     "output_type": "display_data"
    },
    {
     "name": "stdout",
     "output_type": "stream",
     "text": [
      "Loss: 0.01917160302400589\n",
      "iou: tensor(0.9581)\n",
      "Loss: 0.029822487384080887\n",
      "iou: tensor(0.9050)\n",
      "Loss: 0.02392735704779625\n",
      "iou: tensor(0.9488)\n",
      "Loss: 0.029914237558841705\n",
      "iou: tensor(0.9375)\n",
      "Loss: 0.02131580002605915\n",
      "iou: tensor(0.9575)\n",
      "Loss: 0.0176063384860754\n",
      "iou: tensor(0.9626)\n",
      "Loss: 0.020251233130693436\n",
      "iou: tensor(0.9568)\n",
      "Loss: 0.0187002494931221\n",
      "iou: tensor(0.9654)\n",
      "Loss: 0.036031946539878845\n",
      "iou: tensor(0.9391)\n",
      "Validation Loss: 0.025030675902962686\n",
      "Epoch: 92\n"
     ]
    },
    {
     "data": {
      "application/vnd.jupyter.widget-view+json": {
       "model_id": "d88c6d84cf2b452da4d5b4e5abe89138",
       "version_major": 2,
       "version_minor": 0
      },
      "text/plain": [
       "  0%|          | 0/90 [00:00<?, ?it/s]"
      ]
     },
     "metadata": {},
     "output_type": "display_data"
    },
    {
     "name": "stdout",
     "output_type": "stream",
     "text": [
      "Loss: 0.022576363757252693\n",
      "iou: tensor(0.9467)\n",
      "Loss: 0.016518013551831245\n",
      "iou: tensor(0.9805)\n",
      "Loss: 0.021551035344600677\n",
      "iou: tensor(0.9402)\n",
      "Loss: 0.01692519709467888\n",
      "iou: tensor(0.9724)\n",
      "Loss: 0.022405877709388733\n",
      "iou: tensor(0.9555)\n",
      "Loss: 0.0220273956656456\n",
      "iou: tensor(0.9519)\n",
      "Loss: 0.02063308283686638\n",
      "iou: tensor(0.9557)\n",
      "Loss: 0.015045462176203728\n",
      "iou: tensor(0.9693)\n",
      "Loss: 0.016896236687898636\n",
      "iou: tensor(0.9626)\n",
      "Validation Loss: 0.02303133625537157\n",
      "Epoch: 93\n"
     ]
    },
    {
     "data": {
      "application/vnd.jupyter.widget-view+json": {
       "model_id": "5d9444a418bc46ed932045727a335039",
       "version_major": 2,
       "version_minor": 0
      },
      "text/plain": [
       "  0%|          | 0/90 [00:00<?, ?it/s]"
      ]
     },
     "metadata": {},
     "output_type": "display_data"
    },
    {
     "name": "stdout",
     "output_type": "stream",
     "text": [
      "Loss: 0.01819467544555664\n",
      "iou: tensor(0.9701)\n",
      "Loss: 0.01848348043859005\n",
      "iou: tensor(0.9417)\n",
      "Loss: 0.02322527766227722\n",
      "iou: tensor(0.9685)\n",
      "Loss: 0.019882550463080406\n",
      "iou: tensor(0.9454)\n",
      "Loss: 0.015878284350037575\n",
      "iou: tensor(0.9600)\n",
      "Loss: 0.022850126028060913\n",
      "iou: tensor(0.9530)\n",
      "Loss: 0.021042892709374428\n",
      "iou: tensor(0.9502)\n",
      "Loss: 0.021638615056872368\n",
      "iou: tensor(0.9603)\n",
      "Loss: 0.022848516702651978\n",
      "iou: tensor(0.9626)\n",
      "Validation Loss: 0.023725624568760394\n",
      "Epoch: 94\n"
     ]
    },
    {
     "data": {
      "application/vnd.jupyter.widget-view+json": {
       "model_id": "92578315949043119a885ed36a840f52",
       "version_major": 2,
       "version_minor": 0
      },
      "text/plain": [
       "  0%|          | 0/90 [00:00<?, ?it/s]"
      ]
     },
     "metadata": {},
     "output_type": "display_data"
    },
    {
     "name": "stdout",
     "output_type": "stream",
     "text": [
      "Loss: 0.020744122564792633\n",
      "iou: tensor(0.9677)\n",
      "Loss: 0.01949755847454071\n",
      "iou: tensor(0.9694)\n",
      "Loss: 0.016497118398547173\n",
      "iou: tensor(0.9634)\n",
      "Loss: 0.015250631608068943\n",
      "iou: tensor(0.9577)\n",
      "Loss: 0.02149493619799614\n",
      "iou: tensor(0.9652)\n",
      "Loss: 0.027390090748667717\n",
      "iou: tensor(0.9296)\n",
      "Loss: 0.019915297627449036\n",
      "iou: tensor(0.9641)\n",
      "Loss: 0.021980533376336098\n",
      "iou: tensor(0.9573)\n",
      "Loss: 0.02479146234691143\n",
      "iou: tensor(0.9344)\n",
      "Validation Loss: 0.0249539440497756\n",
      "Epoch: 95\n"
     ]
    },
    {
     "data": {
      "application/vnd.jupyter.widget-view+json": {
       "model_id": "4a711165822444f08e6e27d7fc7027b5",
       "version_major": 2,
       "version_minor": 0
      },
      "text/plain": [
       "  0%|          | 0/90 [00:00<?, ?it/s]"
      ]
     },
     "metadata": {},
     "output_type": "display_data"
    },
    {
     "name": "stdout",
     "output_type": "stream",
     "text": [
      "Loss: 0.019925110042095184\n",
      "iou: tensor(0.9550)\n",
      "Loss: 0.02001861110329628\n",
      "iou: tensor(0.9510)\n",
      "Loss: 0.019479725509881973\n",
      "iou: tensor(0.9562)\n",
      "Loss: 0.016777802258729935\n",
      "iou: tensor(0.9725)\n",
      "Loss: 0.026379907503724098\n",
      "iou: tensor(0.9535)\n",
      "Loss: 0.016985123977065086\n",
      "iou: tensor(0.9661)\n",
      "Loss: 0.033088862895965576\n",
      "iou: tensor(0.9258)\n",
      "Loss: 0.021285880357027054\n",
      "iou: tensor(0.9455)\n",
      "Loss: 0.03642160817980766\n",
      "iou: tensor(0.9348)\n",
      "Validation Loss: 0.023775281943380834\n",
      "Epoch: 96\n"
     ]
    },
    {
     "data": {
      "application/vnd.jupyter.widget-view+json": {
       "model_id": "f4024ee61a594ddb9794731143ff461b",
       "version_major": 2,
       "version_minor": 0
      },
      "text/plain": [
       "  0%|          | 0/90 [00:00<?, ?it/s]"
      ]
     },
     "metadata": {},
     "output_type": "display_data"
    },
    {
     "name": "stdout",
     "output_type": "stream",
     "text": [
      "Loss: 0.0214281864464283\n",
      "iou: tensor(0.9625)\n",
      "Loss: 0.021947462111711502\n",
      "iou: tensor(0.9483)\n",
      "Loss: 0.017362216487526894\n",
      "iou: tensor(0.9748)\n",
      "Loss: 0.02251208946108818\n",
      "iou: tensor(0.9638)\n",
      "Loss: 0.01915707066655159\n",
      "iou: tensor(0.9689)\n",
      "Loss: 0.020734403282403946\n",
      "iou: tensor(0.9542)\n",
      "Loss: 0.019433818757534027\n",
      "iou: tensor(0.9635)\n",
      "Loss: 0.021657228469848633\n",
      "iou: tensor(0.9612)\n",
      "Loss: 0.016705334186553955\n",
      "iou: tensor(0.9558)\n",
      "Validation Loss: 0.025271686352789403\n",
      "Epoch: 97\n"
     ]
    },
    {
     "data": {
      "application/vnd.jupyter.widget-view+json": {
       "model_id": "e81fa47c27334be1938c88e5e8be986f",
       "version_major": 2,
       "version_minor": 0
      },
      "text/plain": [
       "  0%|          | 0/90 [00:00<?, ?it/s]"
      ]
     },
     "metadata": {},
     "output_type": "display_data"
    },
    {
     "name": "stdout",
     "output_type": "stream",
     "text": [
      "Loss: 0.020299231633543968\n",
      "iou: tensor(0.9548)\n",
      "Loss: 0.03394738584756851\n",
      "iou: tensor(0.9499)\n",
      "Loss: 0.01952037587761879\n",
      "iou: tensor(0.9542)\n",
      "Loss: 0.0226329006254673\n",
      "iou: tensor(0.9395)\n",
      "Loss: 0.01596977934241295\n",
      "iou: tensor(0.9755)\n",
      "Loss: 0.016312114894390106\n",
      "iou: tensor(0.9568)\n",
      "Loss: 0.02368738315999508\n",
      "iou: tensor(0.9460)\n",
      "Loss: 0.02193571999669075\n",
      "iou: tensor(0.9357)\n",
      "Loss: 0.024589693173766136\n",
      "iou: tensor(0.9310)\n",
      "Validation Loss: 0.024971799366176127\n",
      "Epoch: 98\n"
     ]
    },
    {
     "data": {
      "application/vnd.jupyter.widget-view+json": {
       "model_id": "996db95fafe04370932d2aedcffa3462",
       "version_major": 2,
       "version_minor": 0
      },
      "text/plain": [
       "  0%|          | 0/90 [00:00<?, ?it/s]"
      ]
     },
     "metadata": {},
     "output_type": "display_data"
    },
    {
     "name": "stdout",
     "output_type": "stream",
     "text": [
      "Loss: 0.017461024224758148\n",
      "iou: tensor(0.9642)\n",
      "Loss: 0.020262381061911583\n",
      "iou: tensor(0.9653)\n",
      "Loss: 0.017441751435399055\n",
      "iou: tensor(0.9671)\n",
      "Loss: 0.020862430334091187\n",
      "iou: tensor(0.9496)\n",
      "Loss: 0.02593347243964672\n",
      "iou: tensor(0.9086)\n",
      "Loss: 0.0167596023529768\n",
      "iou: tensor(0.9614)\n",
      "Loss: 0.02308829128742218\n",
      "iou: tensor(0.9531)\n",
      "Loss: 0.01827613264322281\n",
      "iou: tensor(0.9665)\n",
      "Loss: 0.01936948671936989\n",
      "iou: tensor(0.9542)\n",
      "Validation Loss: 0.025868751853704453\n",
      "Epoch: 99\n"
     ]
    },
    {
     "data": {
      "application/vnd.jupyter.widget-view+json": {
       "model_id": "0c7fe1ef0b8146b4bc17f43fe6aa52a1",
       "version_major": 2,
       "version_minor": 0
      },
      "text/plain": [
       "  0%|          | 0/90 [00:00<?, ?it/s]"
      ]
     },
     "metadata": {},
     "output_type": "display_data"
    },
    {
     "name": "stdout",
     "output_type": "stream",
     "text": [
      "Loss: 0.01779831573367119\n",
      "iou: tensor(0.9519)\n",
      "Loss: 0.023654166609048843\n",
      "iou: tensor(0.9541)\n",
      "Loss: 0.019607288762927055\n",
      "iou: tensor(0.9495)\n",
      "Loss: 0.016481176018714905\n",
      "iou: tensor(0.9617)\n",
      "Loss: 0.020554756745696068\n",
      "iou: tensor(0.9366)\n",
      "Loss: 0.022550147026777267\n",
      "iou: tensor(0.9573)\n",
      "Loss: 0.01997945085167885\n",
      "iou: tensor(0.9403)\n",
      "Loss: 0.018700549378991127\n",
      "iou: tensor(0.9713)\n",
      "Loss: 0.020295727998018265\n",
      "iou: tensor(0.9639)\n",
      "Validation Loss: 0.02410912364721298\n",
      "Epoch: 100\n"
     ]
    },
    {
     "data": {
      "application/vnd.jupyter.widget-view+json": {
       "model_id": "a89a165e1bd84875a90e05294874af11",
       "version_major": 2,
       "version_minor": 0
      },
      "text/plain": [
       "  0%|          | 0/90 [00:00<?, ?it/s]"
      ]
     },
     "metadata": {},
     "output_type": "display_data"
    },
    {
     "name": "stdout",
     "output_type": "stream",
     "text": [
      "Loss: 0.025461940094828606\n",
      "iou: tensor(0.9560)\n",
      "Loss: 0.021283887326717377\n",
      "iou: tensor(0.9458)\n",
      "Loss: 0.024303413927555084\n",
      "iou: tensor(0.9500)\n",
      "Loss: 0.016073625534772873\n",
      "iou: tensor(0.9740)\n",
      "Loss: 0.021497245877981186\n",
      "iou: tensor(0.9587)\n",
      "Loss: 0.027968933805823326\n",
      "iou: tensor(0.9491)\n",
      "Loss: 0.023188361898064613\n",
      "iou: tensor(0.9417)\n",
      "Loss: 0.017002003267407417\n",
      "iou: tensor(0.9697)\n",
      "Loss: 0.016987599432468414\n",
      "iou: tensor(0.9743)\n",
      "Validation Loss: 0.02348275762051344\n",
      "Epoch: 101\n"
     ]
    },
    {
     "data": {
      "application/vnd.jupyter.widget-view+json": {
       "model_id": "759ce53d456e4a4588ba875457d08132",
       "version_major": 2,
       "version_minor": 0
      },
      "text/plain": [
       "  0%|          | 0/90 [00:00<?, ?it/s]"
      ]
     },
     "metadata": {},
     "output_type": "display_data"
    },
    {
     "name": "stdout",
     "output_type": "stream",
     "text": [
      "Loss: 0.026026049628853798\n",
      "iou: tensor(0.9462)\n",
      "Loss: 0.021597690880298615\n",
      "iou: tensor(0.9535)\n",
      "Loss: 0.02117147482931614\n",
      "iou: tensor(0.9396)\n",
      "Loss: 0.016624584794044495\n",
      "iou: tensor(0.9641)\n",
      "Loss: 0.014410682022571564\n",
      "iou: tensor(0.9711)\n",
      "Loss: 0.01912514679133892\n",
      "iou: tensor(0.9473)\n",
      "Loss: 0.019733984023332596\n",
      "iou: tensor(0.9638)\n",
      "Loss: 0.026849810034036636\n",
      "iou: tensor(0.9647)\n",
      "Loss: 0.02297022193670273\n",
      "iou: tensor(0.9477)\n",
      "Validation Loss: 0.0234995037317276\n",
      "Epoch: 102\n"
     ]
    },
    {
     "data": {
      "application/vnd.jupyter.widget-view+json": {
       "model_id": "4a132685a6184b8e96c236daf1404de4",
       "version_major": 2,
       "version_minor": 0
      },
      "text/plain": [
       "  0%|          | 0/90 [00:00<?, ?it/s]"
      ]
     },
     "metadata": {},
     "output_type": "display_data"
    },
    {
     "name": "stdout",
     "output_type": "stream",
     "text": [
      "Loss: 0.018831931054592133\n",
      "iou: tensor(0.9701)\n",
      "Loss: 0.019613778218626976\n",
      "iou: tensor(0.9528)\n",
      "Loss: 0.022286999970674515\n",
      "iou: tensor(0.9646)\n",
      "Loss: 0.01612255908548832\n",
      "iou: tensor(0.9671)\n",
      "Loss: 0.015910398215055466\n",
      "iou: tensor(0.9614)\n",
      "Loss: 0.01673550345003605\n",
      "iou: tensor(0.9631)\n",
      "Loss: 0.024104302749037743\n",
      "iou: tensor(0.9652)\n",
      "Loss: 0.01956852152943611\n",
      "iou: tensor(0.9566)\n",
      "Loss: 0.025792326778173447\n",
      "iou: tensor(0.9579)\n",
      "Validation Loss: 0.023376713320612908\n",
      "Early stopping triggered\n"
     ]
    }
   ],
   "source": [
    "#modified and newer training loop\n",
    "\n",
    "import torch\n",
    "from torch.utils.data import DataLoader\n",
    "from transformers import SegformerForSemanticSegmentation\n",
    "from tqdm.notebook import tqdm\n",
    "#import evaluate\n",
    "from torchmetrics.classification import BinaryJaccardIndex\n",
    "\n",
    "save_directory = r\"C:\\Part_dimensions_project\\seg_former_model_weights\"\n",
    "best_model_path = r\"C:\\Part_dimensions_project\\seg_former_model_weights\\best_weights\"\n",
    "\n",
    "#metric = evaluate.load(\"mean_iou\")\n",
    "metric = BinaryJaccardIndex(ignore_index = 0)\n",
    "\n",
    "\n",
    "# Define the model and optimizer\n",
    "optimizer = torch.optim.AdamW(model.parameters(), lr=0.00006)\n",
    "device = torch.device(\"cuda\" if torch.cuda.is_available() else \"cpu\")\n",
    "print(device)\n",
    "model.to(device)\n",
    "\n",
    "# Define early stopping\n",
    "class EarlyStopping:\n",
    "    def __init__(self, patience=5, min_delta=0.0):\n",
    "        self.patience = patience\n",
    "        self.min_delta = min_delta\n",
    "        self.best_loss = float('inf')\n",
    "        self.patience_counter = 0\n",
    "        self.stop_training = False\n",
    "    def __call__(self, val_loss):\n",
    "        if val_loss < self.best_loss - self.min_delta:\n",
    "            self.best_loss = val_loss\n",
    "            self.patience_counter = 0\n",
    "            model.save_pretrained(best_model_path)\n",
    "        else:\n",
    "            self.patience_counter += 1\n",
    "            if self.patience_counter >= self.patience:\n",
    "                self.stop_training = True\n",
    "\n",
    "\n",
    "\n",
    "# Initialize early stopping\n",
    "early_stopping = EarlyStopping(patience=10, min_delta=0.0001)\n",
    "\n",
    "for epoch in range(200):  # loop over the dataset multiple times\n",
    "    model.train()\n",
    "    #model.save_pretrained(save_directory)\n",
    "    print(\"Epoch:\", epoch)\n",
    "    \n",
    "    # Training phase\n",
    "    for idx, batch in enumerate(tqdm(train_dataloader)):\n",
    "        pixel_values = batch[\"pixel_values\"].to(device)\n",
    "        labels = batch[\"labels\"].to(device)\n",
    "\n",
    "        optimizer.zero_grad()\n",
    "        outputs = model(pixel_values=pixel_values, labels=labels)\n",
    "        loss, logits = outputs.loss, outputs.logits\n",
    "        loss.backward()\n",
    "        optimizer.step()\n",
    "\n",
    "\n",
    "        with torch.no_grad():\n",
    "          upsampled_logits = torch.nn.functional.interpolate(logits, size=labels.shape[-2:], mode=\"bilinear\", align_corners=False)\n",
    "          probabilities = torch.sigmoid(upsampled_logits)\n",
    "    \n",
    "          # Threshold to get binary predictions\n",
    "          predicted = (probabilities > 0.5).int()\n",
    "          predicted = predicted.squeeze(1) \n",
    "        \n",
    "\n",
    "        if idx % 10 == 0:\n",
    "            #metrics = metric._compute(\n",
    "            #      predictions=predicted.cpu(),\n",
    "            #      references=labels.cpu(),\n",
    "            #      num_labels=len(id2label),\n",
    "            #      ignore_index=255,\n",
    "            #      reduce_labels=False, # we've already reduced the labels ourselves\n",
    "            #  )\n",
    "             score = metric(predicted.cpu() , labels.cpu())         \n",
    "\n",
    "             print(\"Loss:\", loss.item())\n",
    "             print(\"iou:\", score)\n",
    "            #print(\"Mean accuracy:\", metrics[\"mean_accuracy\"])\n",
    "            \n",
    "\n",
    "    # Validation phase\n",
    "    model.eval()\n",
    "    val_loss = 0\n",
    "    with torch.no_grad():\n",
    "        for batch in valid_dataloader:\n",
    "            pixel_values = batch[\"pixel_values\"].to(device)\n",
    "            labels = batch[\"labels\"].to(device)\n",
    "\n",
    "            outputs = model(pixel_values=pixel_values, labels=labels)\n",
    "            loss = outputs.loss\n",
    "            val_loss += loss.item()\n",
    "\n",
    "        val_loss /= len(valid_dataloader)\n",
    "        print(\"Validation Loss:\", val_loss)\n",
    "\n",
    "    # Save the last epoch's weights\n",
    "    model.save_pretrained(save_directory)\n",
    "    \n",
    "    # Check for early stopping and save the best model\n",
    "    early_stopping(val_loss)\n",
    "    if early_stopping.stop_training:\n",
    "        print(\"Early stopping triggered\")\n",
    "        break\n"
   ]
  },
  {
   "cell_type": "code",
   "execution_count": 10,
   "id": "995cf765-3ba8-44b4-9675-3c6b0139d80f",
   "metadata": {},
   "outputs": [],
   "source": [
    "#inference trails\n",
    "\n",
    "image = Image.open(r\"C:\\Part_dimensions_project\\dataset\\validation\\images\\shuffled_image_186.jpg\")"
   ]
  },
  {
   "cell_type": "code",
   "execution_count": 11,
   "id": "983d43ce-ac2c-4884-8fc5-b20992e029f7",
   "metadata": {},
   "outputs": [
    {
     "data": {
      "image/png": "[encoded data removed]",
      "text/plain": [
       "<Figure size 640x480 with 1 Axes>"
      ]
     },
     "metadata": {},
     "output_type": "display_data"
    }
   ],
   "source": [
    "import matplotlib.pyplot as plt\n",
    "image_np = np.array(image)\n",
    "if len(image_np.shape) == 2:  # Check if the image is grayscale\n",
    "    image_np = np.stack([image_np] * 3, axis=-1)  # Repeat the grayscale channel three times\n",
    "plt.imshow(image_np)\n",
    "image =  Image.fromarray(image_np)\n"
   ]
  },
  {
   "cell_type": "code",
   "execution_count": 12,
   "id": "15fc2418-b8b3-4464-948d-f6b61d0a96f9",
   "metadata": {},
   "outputs": [],
   "source": [
    "import matplotlib.pyplot as plt\n",
    "pixel_values = image_processor(image, return_tensors=\"pt\").pixel_values.to(device)"
   ]
  },
  {
   "cell_type": "code",
   "execution_count": 13,
   "id": "7412783d-1f7b-4c83-9962-5c2c2a19661a",
   "metadata": {},
   "outputs": [
    {
     "data": {
      "text/plain": [
       "SegformerForSemanticSegmentation(\n",
       "  (segformer): SegformerModel(\n",
       "    (encoder): SegformerEncoder(\n",
       "      (patch_embeddings): ModuleList(\n",
       "        (0): SegformerOverlapPatchEmbeddings(\n",
       "          (proj): Conv2d(3, 32, kernel_size=(7, 7), stride=(4, 4), padding=(3, 3))\n",
       "          (layer_norm): LayerNorm((32,), eps=1e-05, elementwise_affine=True)\n",
       "        )\n",
       "        (1): SegformerOverlapPatchEmbeddings(\n",
       "          (proj): Conv2d(32, 64, kernel_size=(3, 3), stride=(2, 2), padding=(1, 1))\n",
       "          (layer_norm): LayerNorm((64,), eps=1e-05, elementwise_affine=True)\n",
       "        )\n",
       "        (2): SegformerOverlapPatchEmbeddings(\n",
       "          (proj): Conv2d(64, 160, kernel_size=(3, 3), stride=(2, 2), padding=(1, 1))\n",
       "          (layer_norm): LayerNorm((160,), eps=1e-05, elementwise_affine=True)\n",
       "        )\n",
       "        (3): SegformerOverlapPatchEmbeddings(\n",
       "          (proj): Conv2d(160, 256, kernel_size=(3, 3), stride=(2, 2), padding=(1, 1))\n",
       "          (layer_norm): LayerNorm((256,), eps=1e-05, elementwise_affine=True)\n",
       "        )\n",
       "      )\n",
       "      (block): ModuleList(\n",
       "        (0): ModuleList(\n",
       "          (0): SegformerLayer(\n",
       "            (layer_norm_1): LayerNorm((32,), eps=1e-05, elementwise_affine=True)\n",
       "            (attention): SegformerAttention(\n",
       "              (self): SegformerEfficientSelfAttention(\n",
       "                (query): Linear(in_features=32, out_features=32, bias=True)\n",
       "                (key): Linear(in_features=32, out_features=32, bias=True)\n",
       "                (value): Linear(in_features=32, out_features=32, bias=True)\n",
       "                (dropout): Dropout(p=0.0, inplace=False)\n",
       "                (sr): Conv2d(32, 32, kernel_size=(8, 8), stride=(8, 8))\n",
       "                (layer_norm): LayerNorm((32,), eps=1e-05, elementwise_affine=True)\n",
       "              )\n",
       "              (output): SegformerSelfOutput(\n",
       "                (dense): Linear(in_features=32, out_features=32, bias=True)\n",
       "                (dropout): Dropout(p=0.0, inplace=False)\n",
       "              )\n",
       "            )\n",
       "            (drop_path): Identity()\n",
       "            (layer_norm_2): LayerNorm((32,), eps=1e-05, elementwise_affine=True)\n",
       "            (mlp): SegformerMixFFN(\n",
       "              (dense1): Linear(in_features=32, out_features=128, bias=True)\n",
       "              (dwconv): SegformerDWConv(\n",
       "                (dwconv): Conv2d(128, 128, kernel_size=(3, 3), stride=(1, 1), padding=(1, 1), groups=128)\n",
       "              )\n",
       "              (intermediate_act_fn): GELUActivation()\n",
       "              (dense2): Linear(in_features=128, out_features=32, bias=True)\n",
       "              (dropout): Dropout(p=0.0, inplace=False)\n",
       "            )\n",
       "          )\n",
       "          (1): SegformerLayer(\n",
       "            (layer_norm_1): LayerNorm((32,), eps=1e-05, elementwise_affine=True)\n",
       "            (attention): SegformerAttention(\n",
       "              (self): SegformerEfficientSelfAttention(\n",
       "                (query): Linear(in_features=32, out_features=32, bias=True)\n",
       "                (key): Linear(in_features=32, out_features=32, bias=True)\n",
       "                (value): Linear(in_features=32, out_features=32, bias=True)\n",
       "                (dropout): Dropout(p=0.0, inplace=False)\n",
       "                (sr): Conv2d(32, 32, kernel_size=(8, 8), stride=(8, 8))\n",
       "                (layer_norm): LayerNorm((32,), eps=1e-05, elementwise_affine=True)\n",
       "              )\n",
       "              (output): SegformerSelfOutput(\n",
       "                (dense): Linear(in_features=32, out_features=32, bias=True)\n",
       "                (dropout): Dropout(p=0.0, inplace=False)\n",
       "              )\n",
       "            )\n",
       "            (drop_path): SegformerDropPath(p=0.014285714365541935)\n",
       "            (layer_norm_2): LayerNorm((32,), eps=1e-05, elementwise_affine=True)\n",
       "            (mlp): SegformerMixFFN(\n",
       "              (dense1): Linear(in_features=32, out_features=128, bias=True)\n",
       "              (dwconv): SegformerDWConv(\n",
       "                (dwconv): Conv2d(128, 128, kernel_size=(3, 3), stride=(1, 1), padding=(1, 1), groups=128)\n",
       "              )\n",
       "              (intermediate_act_fn): GELUActivation()\n",
       "              (dense2): Linear(in_features=128, out_features=32, bias=True)\n",
       "              (dropout): Dropout(p=0.0, inplace=False)\n",
       "            )\n",
       "          )\n",
       "        )\n",
       "        (1): ModuleList(\n",
       "          (0): SegformerLayer(\n",
       "            (layer_norm_1): LayerNorm((64,), eps=1e-05, elementwise_affine=True)\n",
       "            (attention): SegformerAttention(\n",
       "              (self): SegformerEfficientSelfAttention(\n",
       "                (query): Linear(in_features=64, out_features=64, bias=True)\n",
       "                (key): Linear(in_features=64, out_features=64, bias=True)\n",
       "                (value): Linear(in_features=64, out_features=64, bias=True)\n",
       "                (dropout): Dropout(p=0.0, inplace=False)\n",
       "                (sr): Conv2d(64, 64, kernel_size=(4, 4), stride=(4, 4))\n",
       "                (layer_norm): LayerNorm((64,), eps=1e-05, elementwise_affine=True)\n",
       "              )\n",
       "              (output): SegformerSelfOutput(\n",
       "                (dense): Linear(in_features=64, out_features=64, bias=True)\n",
       "                (dropout): Dropout(p=0.0, inplace=False)\n",
       "              )\n",
       "            )\n",
       "            (drop_path): SegformerDropPath(p=0.02857142873108387)\n",
       "            (layer_norm_2): LayerNorm((64,), eps=1e-05, elementwise_affine=True)\n",
       "            (mlp): SegformerMixFFN(\n",
       "              (dense1): Linear(in_features=64, out_features=256, bias=True)\n",
       "              (dwconv): SegformerDWConv(\n",
       "                (dwconv): Conv2d(256, 256, kernel_size=(3, 3), stride=(1, 1), padding=(1, 1), groups=256)\n",
       "              )\n",
       "              (intermediate_act_fn): GELUActivation()\n",
       "              (dense2): Linear(in_features=256, out_features=64, bias=True)\n",
       "              (dropout): Dropout(p=0.0, inplace=False)\n",
       "            )\n",
       "          )\n",
       "          (1): SegformerLayer(\n",
       "            (layer_norm_1): LayerNorm((64,), eps=1e-05, elementwise_affine=True)\n",
       "            (attention): SegformerAttention(\n",
       "              (self): SegformerEfficientSelfAttention(\n",
       "                (query): Linear(in_features=64, out_features=64, bias=True)\n",
       "                (key): Linear(in_features=64, out_features=64, bias=True)\n",
       "                (value): Linear(in_features=64, out_features=64, bias=True)\n",
       "                (dropout): Dropout(p=0.0, inplace=False)\n",
       "                (sr): Conv2d(64, 64, kernel_size=(4, 4), stride=(4, 4))\n",
       "                (layer_norm): LayerNorm((64,), eps=1e-05, elementwise_affine=True)\n",
       "              )\n",
       "              (output): SegformerSelfOutput(\n",
       "                (dense): Linear(in_features=64, out_features=64, bias=True)\n",
       "                (dropout): Dropout(p=0.0, inplace=False)\n",
       "              )\n",
       "            )\n",
       "            (drop_path): SegformerDropPath(p=0.04285714402794838)\n",
       "            (layer_norm_2): LayerNorm((64,), eps=1e-05, elementwise_affine=True)\n",
       "            (mlp): SegformerMixFFN(\n",
       "              (dense1): Linear(in_features=64, out_features=256, bias=True)\n",
       "              (dwconv): SegformerDWConv(\n",
       "                (dwconv): Conv2d(256, 256, kernel_size=(3, 3), stride=(1, 1), padding=(1, 1), groups=256)\n",
       "              )\n",
       "              (intermediate_act_fn): GELUActivation()\n",
       "              (dense2): Linear(in_features=256, out_features=64, bias=True)\n",
       "              (dropout): Dropout(p=0.0, inplace=False)\n",
       "            )\n",
       "          )\n",
       "        )\n",
       "        (2): ModuleList(\n",
       "          (0): SegformerLayer(\n",
       "            (layer_norm_1): LayerNorm((160,), eps=1e-05, elementwise_affine=True)\n",
       "            (attention): SegformerAttention(\n",
       "              (self): SegformerEfficientSelfAttention(\n",
       "                (query): Linear(in_features=160, out_features=160, bias=True)\n",
       "                (key): Linear(in_features=160, out_features=160, bias=True)\n",
       "                (value): Linear(in_features=160, out_features=160, bias=True)\n",
       "                (dropout): Dropout(p=0.0, inplace=False)\n",
       "                (sr): Conv2d(160, 160, kernel_size=(2, 2), stride=(2, 2))\n",
       "                (layer_norm): LayerNorm((160,), eps=1e-05, elementwise_affine=True)\n",
       "              )\n",
       "              (output): SegformerSelfOutput(\n",
       "                (dense): Linear(in_features=160, out_features=160, bias=True)\n",
       "                (dropout): Dropout(p=0.0, inplace=False)\n",
       "              )\n",
       "            )\n",
       "            (drop_path): SegformerDropPath(p=0.05714285746216774)\n",
       "            (layer_norm_2): LayerNorm((160,), eps=1e-05, elementwise_affine=True)\n",
       "            (mlp): SegformerMixFFN(\n",
       "              (dense1): Linear(in_features=160, out_features=640, bias=True)\n",
       "              (dwconv): SegformerDWConv(\n",
       "                (dwconv): Conv2d(640, 640, kernel_size=(3, 3), stride=(1, 1), padding=(1, 1), groups=640)\n",
       "              )\n",
       "              (intermediate_act_fn): GELUActivation()\n",
       "              (dense2): Linear(in_features=640, out_features=160, bias=True)\n",
       "              (dropout): Dropout(p=0.0, inplace=False)\n",
       "            )\n",
       "          )\n",
       "          (1): SegformerLayer(\n",
       "            (layer_norm_1): LayerNorm((160,), eps=1e-05, elementwise_affine=True)\n",
       "            (attention): SegformerAttention(\n",
       "              (self): SegformerEfficientSelfAttention(\n",
       "                (query): Linear(in_features=160, out_features=160, bias=True)\n",
       "                (key): Linear(in_features=160, out_features=160, bias=True)\n",
       "                (value): Linear(in_features=160, out_features=160, bias=True)\n",
       "                (dropout): Dropout(p=0.0, inplace=False)\n",
       "                (sr): Conv2d(160, 160, kernel_size=(2, 2), stride=(2, 2))\n",
       "                (layer_norm): LayerNorm((160,), eps=1e-05, elementwise_affine=True)\n",
       "              )\n",
       "              (output): SegformerSelfOutput(\n",
       "                (dense): Linear(in_features=160, out_features=160, bias=True)\n",
       "                (dropout): Dropout(p=0.0, inplace=False)\n",
       "              )\n",
       "            )\n",
       "            (drop_path): SegformerDropPath(p=0.0714285746216774)\n",
       "            (layer_norm_2): LayerNorm((160,), eps=1e-05, elementwise_affine=True)\n",
       "            (mlp): SegformerMixFFN(\n",
       "              (dense1): Linear(in_features=160, out_features=640, bias=True)\n",
       "              (dwconv): SegformerDWConv(\n",
       "                (dwconv): Conv2d(640, 640, kernel_size=(3, 3), stride=(1, 1), padding=(1, 1), groups=640)\n",
       "              )\n",
       "              (intermediate_act_fn): GELUActivation()\n",
       "              (dense2): Linear(in_features=640, out_features=160, bias=True)\n",
       "              (dropout): Dropout(p=0.0, inplace=False)\n",
       "            )\n",
       "          )\n",
       "        )\n",
       "        (3): ModuleList(\n",
       "          (0): SegformerLayer(\n",
       "            (layer_norm_1): LayerNorm((256,), eps=1e-05, elementwise_affine=True)\n",
       "            (attention): SegformerAttention(\n",
       "              (self): SegformerEfficientSelfAttention(\n",
       "                (query): Linear(in_features=256, out_features=256, bias=True)\n",
       "                (key): Linear(in_features=256, out_features=256, bias=True)\n",
       "                (value): Linear(in_features=256, out_features=256, bias=True)\n",
       "                (dropout): Dropout(p=0.0, inplace=False)\n",
       "              )\n",
       "              (output): SegformerSelfOutput(\n",
       "                (dense): Linear(in_features=256, out_features=256, bias=True)\n",
       "                (dropout): Dropout(p=0.0, inplace=False)\n",
       "              )\n",
       "            )\n",
       "            (drop_path): SegformerDropPath(p=0.08571428805589676)\n",
       "            (layer_norm_2): LayerNorm((256,), eps=1e-05, elementwise_affine=True)\n",
       "            (mlp): SegformerMixFFN(\n",
       "              (dense1): Linear(in_features=256, out_features=1024, bias=True)\n",
       "              (dwconv): SegformerDWConv(\n",
       "                (dwconv): Conv2d(1024, 1024, kernel_size=(3, 3), stride=(1, 1), padding=(1, 1), groups=1024)\n",
       "              )\n",
       "              (intermediate_act_fn): GELUActivation()\n",
       "              (dense2): Linear(in_features=1024, out_features=256, bias=True)\n",
       "              (dropout): Dropout(p=0.0, inplace=False)\n",
       "            )\n",
       "          )\n",
       "          (1): SegformerLayer(\n",
       "            (layer_norm_1): LayerNorm((256,), eps=1e-05, elementwise_affine=True)\n",
       "            (attention): SegformerAttention(\n",
       "              (self): SegformerEfficientSelfAttention(\n",
       "                (query): Linear(in_features=256, out_features=256, bias=True)\n",
       "                (key): Linear(in_features=256, out_features=256, bias=True)\n",
       "                (value): Linear(in_features=256, out_features=256, bias=True)\n",
       "                (dropout): Dropout(p=0.0, inplace=False)\n",
       "              )\n",
       "              (output): SegformerSelfOutput(\n",
       "                (dense): Linear(in_features=256, out_features=256, bias=True)\n",
       "                (dropout): Dropout(p=0.0, inplace=False)\n",
       "              )\n",
       "            )\n",
       "            (drop_path): SegformerDropPath(p=0.10000000149011612)\n",
       "            (layer_norm_2): LayerNorm((256,), eps=1e-05, elementwise_affine=True)\n",
       "            (mlp): SegformerMixFFN(\n",
       "              (dense1): Linear(in_features=256, out_features=1024, bias=True)\n",
       "              (dwconv): SegformerDWConv(\n",
       "                (dwconv): Conv2d(1024, 1024, kernel_size=(3, 3), stride=(1, 1), padding=(1, 1), groups=1024)\n",
       "              )\n",
       "              (intermediate_act_fn): GELUActivation()\n",
       "              (dense2): Linear(in_features=1024, out_features=256, bias=True)\n",
       "              (dropout): Dropout(p=0.0, inplace=False)\n",
       "            )\n",
       "          )\n",
       "        )\n",
       "      )\n",
       "      (layer_norm): ModuleList(\n",
       "        (0): LayerNorm((32,), eps=1e-05, elementwise_affine=True)\n",
       "        (1): LayerNorm((64,), eps=1e-05, elementwise_affine=True)\n",
       "        (2): LayerNorm((160,), eps=1e-05, elementwise_affine=True)\n",
       "        (3): LayerNorm((256,), eps=1e-05, elementwise_affine=True)\n",
       "      )\n",
       "    )\n",
       "  )\n",
       "  (decode_head): SegformerDecodeHead(\n",
       "    (linear_c): ModuleList(\n",
       "      (0): SegformerMLP(\n",
       "        (proj): Linear(in_features=32, out_features=256, bias=True)\n",
       "      )\n",
       "      (1): SegformerMLP(\n",
       "        (proj): Linear(in_features=64, out_features=256, bias=True)\n",
       "      )\n",
       "      (2): SegformerMLP(\n",
       "        (proj): Linear(in_features=160, out_features=256, bias=True)\n",
       "      )\n",
       "      (3): SegformerMLP(\n",
       "        (proj): Linear(in_features=256, out_features=256, bias=True)\n",
       "      )\n",
       "    )\n",
       "    (linear_fuse): Conv2d(1024, 256, kernel_size=(1, 1), stride=(1, 1), bias=False)\n",
       "    (batch_norm): BatchNorm2d(256, eps=1e-05, momentum=0.1, affine=True, track_running_stats=True)\n",
       "    (activation): ReLU()\n",
       "    (dropout): Dropout(p=0.1, inplace=False)\n",
       "    (classifier): Conv2d(256, 1, kernel_size=(1, 1), stride=(1, 1))\n",
       "  )\n",
       ")"
      ]
     },
     "execution_count": 13,
     "metadata": {},
     "output_type": "execute_result"
    }
   ],
   "source": [
    "from transformers import SegformerImageProcessor, SegformerForSemanticSegmentation\n",
    "import torch\n",
    "\n",
    "model_name = r\"C:\\Part_dimensions_project\\seg_former_model_weights\\best_weights\"\n",
    "\n",
    "device = torch.device(\"cuda\" if torch.cuda.is_available() else \"cpu\")\n",
    "\n",
    "processor = SegformerImageProcessor(do_resize=False)\n",
    "model = SegformerForSemanticSegmentation.from_pretrained(model_name)\n",
    "model.to(device)"
   ]
  },
  {
   "cell_type": "code",
   "execution_count": 14,
   "id": "76249d11-909b-4efa-8fca-629c455354d0",
   "metadata": {},
   "outputs": [],
   "source": [
    "import torch\n",
    "\n",
    "with torch.no_grad():\n",
    "  outputs = model(pixel_values)\n",
    "  logits = outputs.logits\n",
    "\n"
   ]
  },
  {
   "cell_type": "code",
   "execution_count": 15,
   "id": "fbc69e5e-4f8f-4a53-afd6-c282c30c83de",
   "metadata": {},
   "outputs": [],
   "source": [
    "\n",
    "upsampled_logits = torch.nn.functional.interpolate(logits, size=(512 , 512), mode=\"bilinear\", align_corners=False)\n",
    "probabilities = torch.sigmoid(upsampled_logits)\n",
    "    \n",
    "# Threshold to get binary predictions\n",
    "predicted = (probabilities > 0.5).int()\n",
    "predicted = predicted.squeeze(1)\n",
    "predicted = predicted.cpu().squeeze().numpy()\n"
   ]
  },
  {
   "cell_type": "code",
   "execution_count": 16,
   "id": "a406f7a4-6aa3-47ea-8910-14fe041109d8",
   "metadata": {},
   "outputs": [
    {
     "data": {
      "text/plain": [
       "<matplotlib.image.AxesImage at 0x243f61b7290>"
      ]
     },
     "execution_count": 16,
     "metadata": {},
     "output_type": "execute_result"
    },
    {
     "data": {
      "image/png": "[encoded data removed]",
      "text/plain": [
       "<Figure size 640x480 with 1 Axes>"
      ]
     },
     "metadata": {},
     "output_type": "display_data"
    }
   ],
   "source": [
    "plt.imshow(predicted , cmap = 'gray')"
   ]
  },
  {
   "cell_type": "code",
   "execution_count": 6,
   "id": "dbd343f1-c99c-4035-9815-8ee60726842a",
   "metadata": {},
   "outputs": [],
   "source": [
    "import os\n",
    "import random\n",
    "import shutil\n",
    "\n",
    "def shuffle_and_rename(directory1, directory2):\n",
    "    # Get lists of files in both directories\n",
    "    files1 = os.listdir(directory1)\n",
    "    files2 = os.listdir(directory2)\n",
    "\n",
    "    # Ensure both directories have the same number of files\n",
    "    assert len(files1) == len(files2), \"Directories must contain the same number of files.\"\n",
    "    \n",
    "    \n",
    "    def extract_number(filename):\n",
    "        match = re.search(r'(\\d+)', filename)\n",
    "        return int(match.group(1)) if match else -1\n",
    "\n",
    "    # Sort the files based on the extracted integer values\n",
    "    files1.sort(key=extract_number)\n",
    "\n",
    "    files2.sort(key=extract_number)\n",
    "    \n",
    "    \n",
    "    # Zip the lists together to maintain correspondence\n",
    "    combined = list(zip(files1, files2))\n",
    "\n",
    "    # Shuffle the combined list\n",
    "    random.shuffle(combined)\n",
    "\n",
    "    # Unzip the shuffled list\n",
    "    shuffled_files1, shuffled_files2 = zip(*combined)\n",
    "\n",
    "    # Rename files in directory1\n",
    "    for idx, file in enumerate(shuffled_files1):\n",
    "        old_path = os.path.join(directory1, file)\n",
    "        new_name = f\"shuffled_image_{idx + 1}{os.path.splitext(file)[1]}\"\n",
    "        new_path = os.path.join(directory1, new_name)\n",
    "        os.rename(old_path, new_path)\n",
    "\n",
    "    # Rename files in directory2\n",
    "    for idx, file in enumerate(shuffled_files2):\n",
    "        old_path = os.path.join(directory2, file)\n",
    "        new_name = f\"shuffled_label_{idx + 1}{os.path.splitext(file)[1]}\"\n",
    "        new_path = os.path.join(directory2, new_name)\n",
    "        os.rename(old_path, new_path)\n",
    "\n",
    "# Specify the directories\n",
    "directory1 = r\"C:\\Part_dimensions_project\\dataset\\training\\images\"\n",
    "directory2 = r\"C:\\Part_dimensions_project\\dataset\\training\\annotations\"\n",
    "\n",
    "# Call the function to shuffle and rename files\n",
    "shuffle_and_rename(directory1, directory2)\n"
   ]
  },
  {
   "cell_type": "code",
   "execution_count": null,
   "id": "300731ed-cad8-4e9d-a805-af95f30ee50a",
   "metadata": {},
   "outputs": [],
   "source": []
  }
 ],
 "metadata": {
  "kernelspec": {
   "display_name": "Python 3 (ipykernel)",
   "language": "python",
   "name": "python3"
  },
  "language_info": {
   "codemirror_mode": {
    "name": "ipython",
    "version": 3
   },
   "file_extension": ".py",
   "mimetype": "text/x-python",
   "name": "python",
   "nbconvert_exporter": "python",
   "pygments_lexer": "ipython3",
   "version": "3.11.5"
  }
 },
 "nbformat": 4,
 "nbformat_minor": 5
}
